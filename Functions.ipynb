{
 "cells": [
  {
   "cell_type": "markdown",
   "id": "23faf27f",
   "metadata": {},
   "source": [
    "## Function -\n",
    "- Expression which takes input and returns output\n",
    "- can i define it?\n",
    "- yes i can define it by using keyword \"def function_name\"\n",
    "- once we define it can we access it\n",
    "- yes we can access it it is called \"calling a function\"\n",
    "\n",
    "## return only shows o/p in jupyter notebook, but not in vs code or linux cli\n",
    "## #always store func in varible good practice"
   ]
  },
  {
   "cell_type": "markdown",
   "id": "b915bf02",
   "metadata": {},
   "source": [
    "## advantages of functions-\n",
    "\n",
    "- we can a function from ny location(path)\n",
    "- enhances better readability\n",
    "- code is structured"
   ]
  },
  {
   "cell_type": "code",
   "execution_count": 51,
   "id": "62e26b17",
   "metadata": {},
   "outputs": [
    {
     "name": "stdout",
     "output_type": "stream",
     "text": [
      "hello world\n"
     ]
    }
   ],
   "source": [
    "def welcome():\n",
    "    print(\"hello world\")\n",
    "welcome()"
   ]
  },
  {
   "cell_type": "code",
   "execution_count": 52,
   "id": "fb49c897",
   "metadata": {},
   "outputs": [
    {
     "name": "stdout",
     "output_type": "stream",
     "text": [
      "69\n"
     ]
    }
   ],
   "source": [
    "# f(x) = 3x^2 + 4x + 5\n",
    "def my_exp(x):\n",
    "    #print(x,\"this is my output\")                   debuging step\n",
    "    #print(type(x),\"this is the data type\")          debugging step\n",
    "    print(3*x**2 + 4*x +5)\n",
    "my_exp(4)"
   ]
  },
  {
   "cell_type": "code",
   "execution_count": 53,
   "id": "c22360d7",
   "metadata": {},
   "outputs": [
    {
     "name": "stdout",
     "output_type": "stream",
     "text": [
      "50\n"
     ]
    }
   ],
   "source": [
    "def exp2(x,y):\n",
    "    add = x+y\n",
    "    return add\n",
    "# exp2(45,5) # only shows o/p in jupyer bcz we used return\n",
    "my_ans = exp2(45,5)  # to overcome this in vs code or linux cli we use a new variable to store it and print it\n",
    "print(my_ans)"
   ]
  },
  {
   "cell_type": "code",
   "execution_count": 54,
   "id": "a0b1b6b0",
   "metadata": {},
   "outputs": [
    {
     "name": "stdout",
     "output_type": "stream",
     "text": [
      "7\n"
     ]
    }
   ],
   "source": [
    "def tes(x):\n",
    "    y=x+2\n",
    "    return y\n",
    "#tes(5)# only shows o/p in jupyer bcz we used return\n",
    "ans = tes(5) # to overcome this in vs code or linux cli we use a new variable to store it and print it\n",
    "print(ans)"
   ]
  },
  {
   "cell_type": "markdown",
   "id": "81e0b5e7",
   "metadata": {},
   "source": [
    "## Global and local variables\n",
    "- Global variabls are declared out of function and can be accessed anywhere in the code\n",
    "- local variables are declared inside the function and can only be accessed inside the function\n",
    "- we can convert an local variable to global variable by using global my_variable"
   ]
  },
  {
   "cell_type": "code",
   "execution_count": 19,
   "id": "18eb8671",
   "metadata": {},
   "outputs": [
    {
     "name": "stdout",
     "output_type": "stream",
     "text": [
      "7\n",
      "3\n"
     ]
    }
   ],
   "source": [
    "#local\n",
    "def tes(x):\n",
    "    y=x+2\n",
    "    global z  #local variable described as global using global keyword\n",
    "    z = x-2\n",
    "    return y\n",
    "#tes(5)# only shows o/p in jupyer bcz we used return\n",
    "ans = tes(5) # to overcome this in vs code or linux cli we use a new variable to store it and print it\n",
    "print(ans)\n",
    "print(z)\n",
    "#print(y) # here we get error because y is alocal variable and cannot be accessed outside the function"
   ]
  },
  {
   "cell_type": "code",
   "execution_count": 56,
   "id": "1fb451d1",
   "metadata": {},
   "outputs": [
    {
     "data": {
      "text/plain": [
       "134"
      ]
     },
     "execution_count": 56,
     "metadata": {},
     "output_type": "execute_result"
    }
   ],
   "source": [
    "#global\n",
    "my_global = 67\n",
    "def addi(x,y):\n",
    "    c = (x+y)*my_global # here we can access the global variable anywhere in the code\n",
    "    return c\n",
    "addi(1,1)"
   ]
  },
  {
   "cell_type": "code",
   "execution_count": 57,
   "id": "a4c3264a",
   "metadata": {},
   "outputs": [],
   "source": [
    "#creating a function\n",
    "# calling a function\n",
    "#Arguments or parameters - positional , keywords\n",
    "# number of arguments- *args,keyword_arguments,default\n",
    "# return something/nothing\n",
    "#pass\n",
    "#recursion\n",
    "#max min\n",
    "#simple calculator\n",
    "#ps combination of conditional statements and function\n",
    "# special functions: zip,lambda,map,filter,reduce"
   ]
  },
  {
   "cell_type": "markdown",
   "id": "85b93c8b",
   "metadata": {},
   "source": [
    "### postional arguments"
   ]
  },
  {
   "cell_type": "code",
   "execution_count": 21,
   "id": "f1692186",
   "metadata": {},
   "outputs": [
    {
     "name": "stdout",
     "output_type": "stream",
     "text": [
      "3 this is my x input\n",
      "4 this is my  y input\n",
      "7\n",
      "4 this is my x input\n",
      "3 this is my  y input\n",
      "7\n"
     ]
    }
   ],
   "source": [
    "#Arguments or parameters - positional , keywords are input values to the function\n",
    "def addition(x,y):\n",
    "    print(x,\"this is my x input\")\n",
    "    print(y,\"this is my  y input\")\n",
    "   \n",
    "    c = x+y\n",
    "    return c\n",
    "print(addition(3,4))\n",
    "print(addition(4,3))"
   ]
  },
  {
   "cell_type": "code",
   "execution_count": 59,
   "id": "f4bc8952",
   "metadata": {},
   "outputs": [
    {
     "name": "stdout",
     "output_type": "stream",
     "text": [
      "0.6666666666666666\n",
      "1.5\n"
     ]
    }
   ],
   "source": [
    "def my_division(x,y):\n",
    "    z = x / y\n",
    "    return z\n",
    "print(my_division(2,3))\n",
    "print(my_division(3,2))\n",
    "# here the results change according to postions of the passed arguments"
   ]
  },
  {
   "cell_type": "code",
   "execution_count": 60,
   "id": "8e753204",
   "metadata": {},
   "outputs": [
    {
     "name": "stdout",
     "output_type": "stream",
     "text": [
      "0\n",
      "1\n"
     ]
    }
   ],
   "source": [
    "def double_div(x,y):\n",
    "    dd = x // y\n",
    "    return dd\n",
    "print(double_div(2,3))\n",
    "print(double_div(3,2))\n",
    "\n",
    "# here the results change according to postions of the passed arguments"
   ]
  },
  {
   "cell_type": "markdown",
   "id": "ef623ee3",
   "metadata": {},
   "source": [
    "### Keyword arguments"
   ]
  },
  {
   "cell_type": "code",
   "execution_count": 61,
   "id": "0d643a35",
   "metadata": {},
   "outputs": [
    {
     "data": {
      "text/plain": [
       "'helloworld'"
      ]
     },
     "execution_count": 61,
     "metadata": {},
     "output_type": "execute_result"
    }
   ],
   "source": [
    "def print_message(x=\"hello\",y=\"world\"):\n",
    "    return x+y\n",
    "# print_message(\"\")  #NOTE\n",
    "print_message()"
   ]
  },
  {
   "cell_type": "code",
   "execution_count": 62,
   "id": "2eb57f90",
   "metadata": {},
   "outputs": [
    {
     "data": {
      "text/plain": [
       "'hello Good morningab'"
      ]
     },
     "execution_count": 62,
     "metadata": {},
     "output_type": "execute_result"
    }
   ],
   "source": [
    "def print_message(x=\"a\",y=\"b\"):\n",
    "    g = \"hello Good morning\"+ x+\"\"+y\n",
    "    return g\n",
    "print_message()"
   ]
  },
  {
   "cell_type": "markdown",
   "id": "8e145dfb",
   "metadata": {},
   "source": [
    "### Default argument"
   ]
  },
  {
   "cell_type": "code",
   "execution_count": 63,
   "id": "09a857ab",
   "metadata": {},
   "outputs": [
    {
     "name": "stdout",
     "output_type": "stream",
     "text": [
      "-6\n"
     ]
    }
   ],
   "source": [
    "def sub(x,y=7):  # here 7 is the default value of argument y \n",
    "    f = x-y\n",
    "    return f\n",
    "\n",
    "subract = sub(1) #here even though we need to enter two args we can enter onl x as we have y=7 as default argument\n",
    "print(subract)"
   ]
  },
  {
   "cell_type": "code",
   "execution_count": 64,
   "id": "5465ad40",
   "metadata": {},
   "outputs": [
    {
     "data": {
      "text/plain": [
       "'vignesh atluri Welcome to  Innomatics'"
      ]
     },
     "execution_count": 64,
     "metadata": {},
     "output_type": "execute_result"
    }
   ],
   "source": [
    "def welcome_message_1(x,y,z=\"Innomatics\"):\n",
    "    c = x+\" \"+y+\" Welcome to \"+\" \"+z\n",
    "    return c\n",
    "welcome_message_1(\"vignesh\",\"atluri\")"
   ]
  },
  {
   "cell_type": "markdown",
   "id": "0c4230df",
   "metadata": {},
   "source": [
    "### number of arguments- *args,keyword_arguments,default\n",
    "- *args are used when we donot know how many positional arguments we should have and stores it as tuple"
   ]
  },
  {
   "cell_type": "code",
   "execution_count": 65,
   "id": "6eba3c13",
   "metadata": {},
   "outputs": [
    {
     "data": {
      "text/plain": [
       "(1, 2, 3, 4, 5, 6)"
      ]
     },
     "execution_count": 65,
     "metadata": {},
     "output_type": "execute_result"
    }
   ],
   "source": [
    "def infinite_args(*inputs):\n",
    "    return inputs\n",
    "infinite_args(1,2,3,4,5,6) #here we can add as many inputs as we need"
   ]
  },
  {
   "cell_type": "code",
   "execution_count": 66,
   "id": "262fdcc8",
   "metadata": {},
   "outputs": [
    {
     "data": {
      "text/plain": [
       "2"
      ]
     },
     "execution_count": 66,
     "metadata": {},
     "output_type": "execute_result"
    }
   ],
   "source": [
    "def infinite_args(*inputs):\n",
    "    return inputs[1]# to get the output of value whose index is 2, we can also do slicing [2:4:-1] like that, it also has negative indexing\n",
    "infinite_args(1,2,3,4,5,6) "
   ]
  },
  {
   "cell_type": "code",
   "execution_count": 67,
   "id": "4778fdbd",
   "metadata": {},
   "outputs": [
    {
     "name": "stdout",
     "output_type": "stream",
     "text": [
      "hello vignesh atluri 20\n"
     ]
    }
   ],
   "source": [
    "def test(*details,age = 20):\n",
    "    return (print(\"hello\",details[0],details[1],age))  #we can add our args even afre *args\n",
    "test(\"vignesh\",\"atluri\")\n",
    "\n",
    "#or\n",
    "\n",
    "# def test(*details):\n",
    "#     return \"hello\"+ details[0]+ details[1]\n",
    "# test(\"vignesh\",\"atluri\")\n",
    "\n",
    "\n"
   ]
  },
  {
   "cell_type": "markdown",
   "id": "77f528e0",
   "metadata": {},
   "source": [
    "## keyword arguments: while creating the function, pass input as **args\n",
    "- when we donot know how many keyword args we can get for our func then we use **args\n",
    "- The double asterisk (**) before kwargs indicates that it will accept multiple keyword arguments and pack them into a dictionary."
   ]
  },
  {
   "cell_type": "code",
   "execution_count": 68,
   "id": "00efe711",
   "metadata": {},
   "outputs": [
    {
     "name": "stdout",
     "output_type": "stream",
     "text": [
      "{'A': 1, 'B': 2, 'C': 3}\n"
     ]
    }
   ],
   "source": [
    "def smthng(**inputs):\n",
    "    return inputs\n",
    "d = smthng(A=1,B=2,C=3)\n",
    "print(d)"
   ]
  },
  {
   "cell_type": "markdown",
   "id": "2d0c98f4",
   "metadata": {},
   "source": [
    "## passing a data structure to the function"
   ]
  },
  {
   "cell_type": "code",
   "execution_count": 69,
   "id": "9ce725c0",
   "metadata": {},
   "outputs": [
    {
     "name": "stdout",
     "output_type": "stream",
     "text": [
      "-2 it is an negative number\n",
      "-1 it is an negative number\n",
      "0 it is an positive number\n",
      "1 it is an positive number\n",
      "2 it is an positive number\n",
      "None\n"
     ]
    }
   ],
   "source": [
    "#list\n",
    "l1 = [-2,-1,0,1,2]\n",
    "# problem statement:\n",
    "def filtet_ds(x):\n",
    "    for i in x:\n",
    "        if i<0:\n",
    "            print(i,'it is an negative number')\n",
    "        else:\n",
    "            print(i,\"it is an positive number\")\n",
    "d = filtet_ds(l1)\n",
    "print(d)"
   ]
  },
  {
   "cell_type": "markdown",
   "id": "643179a9",
   "metadata": {},
   "source": [
    "## return something/nothing"
   ]
  },
  {
   "cell_type": "code",
   "execution_count": 70,
   "id": "9fd73f94",
   "metadata": {},
   "outputs": [
    {
     "name": "stdout",
     "output_type": "stream",
     "text": [
      "None\n"
     ]
    }
   ],
   "source": [
    "def ran_fun(x):\n",
    "    return None\n",
    "d = ran_fun(1)\n",
    "print(d)"
   ]
  },
  {
   "cell_type": "code",
   "execution_count": 71,
   "id": "82bd5626",
   "metadata": {},
   "outputs": [
    {
     "name": "stdout",
     "output_type": "stream",
     "text": [
      "hello\n",
      "good\n",
      "morning\n",
      "hello morning\n"
     ]
    }
   ],
   "source": [
    "def ran_f1(x,y,z):\n",
    "\n",
    "    return x,y,z\n",
    "\n",
    "x1,x2,x3 =ran_f1(\"hello\",\"good\",\"morning\")  # we can use indexing but not right approach\n",
    "print(x1)\n",
    "print(x2)  # we assign three diff variables instead of usin g indexing\n",
    "print(x3)\n",
    "print(x1,x3)"
   ]
  },
  {
   "cell_type": "code",
   "execution_count": 72,
   "id": "6f6ba1ca",
   "metadata": {},
   "outputs": [
    {
     "name": "stdout",
     "output_type": "stream",
     "text": [
      "hello\n",
      "im python\n"
     ]
    }
   ],
   "source": [
    "def welc(a,b,c,d):\n",
    "    return a,c  #we can return whatever the values we want\n",
    "output1,output2 = welc(\"hello\",\"world\",\"im python\",\"bye\") #always store func in varible good practice\n",
    "print(output1)\n",
    "print(output2)"
   ]
  },
  {
   "cell_type": "markdown",
   "id": "90e58715",
   "metadata": {},
   "source": [
    "#### we can a function from any location(path)\n",
    "### the path we are using to practice this is 'C:\\\\Users\\\\vigne\\\\Python Programming\\call.ipynb'"
   ]
  },
  {
   "cell_type": "code",
   "execution_count": 22,
   "id": "08276896",
   "metadata": {},
   "outputs": [
    {
     "name": "stdout",
     "output_type": "stream",
     "text": [
      "3\n",
      "-1\n"
     ]
    }
   ],
   "source": [
    "#we can call a function from ny location(path) our file containing functiom must be in working directory(download as .py and store in working directory)\n",
    "# from <file that consists function> import <funnction name><add * to import all the functions> is the syntax to call the function in any other file\n",
    "def call_add(x,y):  #check in \"call.ipynb file \"\n",
    "    z = x+y\n",
    "    return z\n",
    "def call_sub(x,y):\n",
    "    z = x-y\n",
    "    return z\n",
    "print(call_add(1,2))\n",
    "print(call_sub(3,4))  "
   ]
  },
  {
   "cell_type": "markdown",
   "id": "3c27e15e",
   "metadata": {},
   "source": [
    "# special functions: zip,lambda,map,filter,reduce\n",
    "### "
   ]
  },
  {
   "cell_type": "markdown",
   "id": "7e0db94a",
   "metadata": {},
   "source": [
    "## lambda\n",
    "- laambda is a single line function\n",
    "- to define a lambda function use \"lambda\" keyword"
   ]
  },
  {
   "cell_type": "code",
   "execution_count": 81,
   "id": "8f0a5b88",
   "metadata": {},
   "outputs": [
    {
     "data": {
      "text/plain": [
       "4"
      ]
     },
     "execution_count": 81,
     "metadata": {},
     "output_type": "execute_result"
    }
   ],
   "source": [
    "def smthng(x):\n",
    "    return x+2\n",
    "smthng(2)"
   ]
  },
  {
   "cell_type": "markdown",
   "id": "f462ced9",
   "metadata": {},
   "source": [
    "##### Both are same just different approach"
   ]
  },
  {
   "cell_type": "code",
   "execution_count": 84,
   "id": "174157bf",
   "metadata": {},
   "outputs": [
    {
     "data": {
      "text/plain": [
       "4"
      ]
     },
     "execution_count": 84,
     "metadata": {},
     "output_type": "execute_result"
    }
   ],
   "source": [
    "myfn = lambda x: x+2\n",
    "myfn(2)"
   ]
  },
  {
   "cell_type": "code",
   "execution_count": 85,
   "id": "2b5ed45e",
   "metadata": {},
   "outputs": [
    {
     "data": {
      "text/plain": [
       "64"
      ]
     },
     "execution_count": 85,
     "metadata": {},
     "output_type": "execute_result"
    }
   ],
   "source": [
    "myfn = lambda x: x**2\n",
    "myfn(8)"
   ]
  },
  {
   "cell_type": "code",
   "execution_count": 92,
   "id": "a0f30317",
   "metadata": {},
   "outputs": [
    {
     "data": {
      "text/plain": [
       "7"
      ]
     },
     "execution_count": 92,
     "metadata": {},
     "output_type": "execute_result"
    }
   ],
   "source": [
    "notfn = lambda x,y,z:x+4+y-2+z//2\n",
    "notfn(2,2,2)"
   ]
  },
  {
   "cell_type": "code",
   "execution_count": 93,
   "id": "de9702ec",
   "metadata": {},
   "outputs": [
    {
     "data": {
      "text/plain": [
       "[7310338828254284348684765759307822731264010134569603785204110402552282244915959896758295144536532461643218994140625,\n",
       " 121]"
      ]
     },
     "execution_count": 93,
     "metadata": {},
     "output_type": "execute_result"
    }
   ],
   "source": [
    "notlist = lambda a,b: [a**b,a+b]\n",
    "notlist(55,66)"
   ]
  },
  {
   "cell_type": "code",
   "execution_count": 95,
   "id": "0219c866",
   "metadata": {},
   "outputs": [
    {
     "data": {
      "text/plain": [
       "36"
      ]
     },
     "execution_count": 95,
     "metadata": {},
     "output_type": "execute_result"
    }
   ],
   "source": [
    "#for (a+b+c) whole square\n",
    "notwholesquare = lambda x,y,z: (x+y+z)**2\n",
    "notwholesquare(2,2,2)"
   ]
  },
  {
   "cell_type": "markdown",
   "id": "b60c1ca6",
   "metadata": {},
   "source": [
    "### Map function\n",
    "- it gatheres all the data points and stores them in a single location\n",
    "- syntax is map(func name, iterable)\n",
    "- we can use them instead of for loop\n",
    "- Syntax :- map(function, iterable or (list))\n",
    "\n"
   ]
  },
  {
   "cell_type": "code",
   "execution_count": 23,
   "id": "30a637e6",
   "metadata": {},
   "outputs": [
    {
     "name": "stdout",
     "output_type": "stream",
     "text": [
      "Help on class map in module builtins:\n",
      "\n",
      "class map(object)\n",
      " |  map(func, *iterables) --> map object\n",
      " |  \n",
      " |  Make an iterator that computes the function using arguments from\n",
      " |  each of the iterables.  Stops when the shortest iterable is exhausted.\n",
      " |  \n",
      " |  Methods defined here:\n",
      " |  \n",
      " |  __getattribute__(self, name, /)\n",
      " |      Return getattr(self, name).\n",
      " |  \n",
      " |  __iter__(self, /)\n",
      " |      Implement iter(self).\n",
      " |  \n",
      " |  __next__(self, /)\n",
      " |      Implement next(self).\n",
      " |  \n",
      " |  __reduce__(...)\n",
      " |      Return state information for pickling.\n",
      " |  \n",
      " |  ----------------------------------------------------------------------\n",
      " |  Static methods defined here:\n",
      " |  \n",
      " |  __new__(*args, **kwargs) from builtins.type\n",
      " |      Create and return a new object.  See help(type) for accurate signature.\n",
      "\n"
     ]
    }
   ],
   "source": [
    "# used to know about any built in function\n",
    "help(map)"
   ]
  },
  {
   "cell_type": "code",
   "execution_count": 26,
   "id": "0e4ce57e",
   "metadata": {},
   "outputs": [
    {
     "name": "stdout",
     "output_type": "stream",
     "text": [
      "[1, 8, 27, 64]\n"
     ]
    }
   ],
   "source": [
    "def cube_num(x):\n",
    "    return x**3\n",
    "test_list = [1,2,3,4]\n",
    "mapping= list(map(cube_num,test_list))\n",
    "print(mapping)\n"
   ]
  },
  {
   "cell_type": "code",
   "execution_count": 109,
   "id": "c4920b74",
   "metadata": {},
   "outputs": [
    {
     "name": "stdout",
     "output_type": "stream",
     "text": [
      "[27, 64, 125, 216]\n"
     ]
    }
   ],
   "source": [
    "tst =  lambda x:x**3\n",
    "l2 = [3,4,5,6]\n",
    "mping = list(map(tst,l2))\n",
    "print(mping)"
   ]
  },
  {
   "cell_type": "markdown",
   "id": "ed0c6f93",
   "metadata": {},
   "source": [
    "## filter function\n",
    "-  It is same like map() function its also takes two arguments first a function and second an iterable object and return the list object of only true values.\n",
    "- Syntax :- filter( function, iterable_object(list,set etc))"
   ]
  },
  {
   "cell_type": "code",
   "execution_count": 129,
   "id": "2612a740",
   "metadata": {},
   "outputs": [
    {
     "name": "stdout",
     "output_type": "stream",
     "text": [
      "[0, 4, 8, 12, 16, 20, 24, 28, 32, 36, 40, 44, 48, 52, 56]\n"
     ]
    }
   ],
   "source": [
    "def filter_1(x):\n",
    "    \n",
    "    if x % 2 == 0 and x % 4 == 0:\n",
    "        return True\n",
    "    else:\n",
    "        return False\n",
    "F1 = list(filter(filter_1,range(0,60)))\n",
    "print(F1)"
   ]
  },
  {
   "cell_type": "code",
   "execution_count": 132,
   "id": "e177c630",
   "metadata": {},
   "outputs": [
    {
     "data": {
      "text/plain": [
       "[0, 4, 8, 12, 16, 20, 24, 28, 32, 36, 40, 44, 48, 52, 56]"
      ]
     },
     "execution_count": 132,
     "metadata": {},
     "output_type": "execute_result"
    }
   ],
   "source": [
    "# lambda method\n",
    "sli2 = list(filter(lambda l:l%2 == 0 and l%4==0,range(0,60)))\n",
    "sli2"
   ]
  },
  {
   "cell_type": "markdown",
   "id": "c649fa0e",
   "metadata": {},
   "source": [
    "## reduce \n",
    "- It is also same like map() and filter() but its return only a single value or item, but to use reduce( ) function you have to import first from functools import reduce\n",
    "\n",
    "- Syntax : - reduce(function, iterable )\n",
    "\n"
   ]
  },
  {
   "cell_type": "code",
   "execution_count": 140,
   "id": "3599f0ef",
   "metadata": {},
   "outputs": [],
   "source": [
    "# reduce\n",
    "def r_add(x,y):\n",
    "    return x+y\n",
    "def r_sub(x,y):\n",
    "    return x-y\n",
    "def r_mul(x,y):\n",
    "    return x*y"
   ]
  },
  {
   "cell_type": "code",
   "execution_count": 141,
   "id": "4482a80a",
   "metadata": {},
   "outputs": [],
   "source": [
    "from functools import reduce"
   ]
  },
  {
   "cell_type": "code",
   "execution_count": 142,
   "id": "827d3fb0",
   "metadata": {},
   "outputs": [
    {
     "name": "stdout",
     "output_type": "stream",
     "text": [
      "6\n"
     ]
    }
   ],
   "source": [
    "F5 = reduce(r_add,[1,2,3])\n",
    "print(F5)"
   ]
  },
  {
   "cell_type": "code",
   "execution_count": 143,
   "id": "cbb8a3cc",
   "metadata": {},
   "outputs": [
    {
     "name": "stdout",
     "output_type": "stream",
     "text": [
      "-4\n"
     ]
    }
   ],
   "source": [
    "F6 = reduce(r_sub,[1,2,3])\n",
    "print(F6)"
   ]
  },
  {
   "cell_type": "code",
   "execution_count": 144,
   "id": "a35b8f88",
   "metadata": {},
   "outputs": [
    {
     "name": "stdout",
     "output_type": "stream",
     "text": [
      "6\n"
     ]
    }
   ],
   "source": [
    "F7 = reduce(r_mul,[1,2,3])\n",
    "print(F7)"
   ]
  },
  {
   "cell_type": "markdown",
   "id": "0fa56c5f",
   "metadata": {},
   "source": [
    "## Recursive function\n",
    "- means function calling itself"
   ]
  },
  {
   "cell_type": "code",
   "execution_count": 1,
   "id": "32929142",
   "metadata": {},
   "outputs": [
    {
     "data": {
      "text/plain": [
       "1"
      ]
     },
     "execution_count": 1,
     "metadata": {},
     "output_type": "execute_result"
    }
   ],
   "source": [
    "# lets understand the recursive fn by factorial problem\n",
    "def factorial(x): #it is the recursive function\n",
    "    if x == 0:\n",
    "        return 1\n",
    "    else:\n",
    "        return x*factorial(x-1) # here this is ex of recurisve fn\n",
    "factorial(0)"
   ]
  },
  {
   "cell_type": "code",
   "execution_count": 7,
   "id": "f4e3efef",
   "metadata": {},
   "outputs": [
    {
     "name": "stdout",
     "output_type": "stream",
     "text": [
      "42\n"
     ]
    }
   ],
   "source": [
    "#Write a Python program to calculate the sum of a list of numbers using recursion.\n",
    "def sum_list(x):\n",
    "    if len(x) == 1:\n",
    "        return x[0]\n",
    "    else:\n",
    "        return x[0]+sum_list(x[1:])\n",
    "op_sumlist = sum_list([1,2,3,4,5,6,7,7,7])\n",
    "print(op_sumlist)\n",
    "    "
   ]
  },
  {
   "cell_type": "code",
   "execution_count": 8,
   "id": "e607c7bd",
   "metadata": {},
   "outputs": [],
   "source": [
    "# def to_string(n, base):\n",
    "#     # Define a character set for the conversion in hexadecimal format\n",
    "#     conver_tString = \"0123456789ABCDEF\"\n",
    "    \n",
    "#     # Check if the number 'n' is less than the specified base\n",
    "#     if n < base:\n",
    "#         # If 'n' is less than the base, return the corresponding character from the character set\n",
    "#         return conver_tString[n]\n",
    "#     else:\n",
    "#         # If 'n' is greater than or equal to the base, recursively call the to_string function\n",
    "#         # to convert the quotient (n // base) to a string and concatenate it with the remainder\n",
    "#         # (n % base) represented in the character set\n",
    "#         return to_string(n // base, base) + conver_tString[n % base]\n",
    "\n",
    "# # Print the result of calling the to_string function with the input values 2835 and 16\n",
    "# print(to_string(2835, 16))"
   ]
  },
  {
   "cell_type": "markdown",
   "id": "12848644",
   "metadata": {},
   "source": [
    "## list comprehension"
   ]
  },
  {
   "cell_type": "code",
   "execution_count": 12,
   "id": "a490ccf0",
   "metadata": {},
   "outputs": [
    {
     "name": "stdout",
     "output_type": "stream",
     "text": [
      "[4, 8, 12, 16, 20, 24, 28, 32, 36, 40, 44, 48, 52, 56, 60, 64, 68, 72, 76, 80, 84, 88]\n"
     ]
    }
   ],
   "source": [
    "D =range(1,90)\n",
    "#general approach\n",
    "# for i in D:\n",
    "#     if i%2 == 0:\n",
    "#         print(i, \"even nums\")\n",
    "#     else:\n",
    "#         pass\n",
    "\n",
    "        \n",
    "        \n",
    "# list comprhension method\n",
    "G = [i for i in D if i%2 == 0 and i%4==0] #we can use any data structure here we used list\n",
    "print(G)\n"
   ]
  },
  {
   "cell_type": "markdown",
   "id": "4f97c405",
   "metadata": {},
   "source": [
    "## dictionary  comprehension"
   ]
  },
  {
   "cell_type": "code",
   "execution_count": 13,
   "id": "efb42b41",
   "metadata": {},
   "outputs": [
    {
     "name": "stdout",
     "output_type": "stream",
     "text": [
      "{1: 1, 2: 4, 3: 9, 4: 16, 5: 25, 6: 36, 7: 49, 8: 64, 9: 81, 10: 100, 11: 121, 12: 144, 13: 169, 14: 196, 15: 225, 16: 256, 17: 289, 18: 324, 19: 361, 20: 400, 21: 441, 22: 484, 23: 529, 24: 576, 25: 625, 26: 676, 27: 729, 28: 784, 29: 841, 30: 900, 31: 961, 32: 1024, 33: 1089, 34: 1156, 35: 1225, 36: 1296, 37: 1369, 38: 1444, 39: 1521, 40: 1600, 41: 1681, 42: 1764, 43: 1849, 44: 1936, 45: 2025, 46: 2116, 47: 2209, 48: 2304, 49: 2401, 50: 2500, 51: 2601, 52: 2704, 53: 2809, 54: 2916, 55: 3025, 56: 3136, 57: 3249, 58: 3364, 59: 3481, 60: 3600, 61: 3721, 62: 3844, 63: 3969, 64: 4096, 65: 4225, 66: 4356, 67: 4489, 68: 4624, 69: 4761, 70: 4900, 71: 5041, 72: 5184, 73: 5329, 74: 5476, 75: 5625, 76: 5776, 77: 5929, 78: 6084, 79: 6241, 80: 6400, 81: 6561, 82: 6724, 83: 6889, 84: 7056, 85: 7225, 86: 7396, 87: 7569, 88: 7744, 89: 7921}\n"
     ]
    }
   ],
   "source": [
    "My_dict = {i:i**2 for i in D}\n",
    "print(My_dict)"
   ]
  },
  {
   "cell_type": "code",
   "execution_count": 4,
   "id": "3744f3a5",
   "metadata": {},
   "outputs": [
    {
     "data": {
      "text/plain": [
       "2"
      ]
     },
     "execution_count": 4,
     "metadata": {},
     "output_type": "execute_result"
    }
   ],
   "source": [
    "def add(a,b): return a+b\n",
    "add(1,1)"
   ]
  },
  {
   "cell_type": "markdown",
   "id": "c994f10f",
   "metadata": {},
   "source": [
    "## end = \" \" is used to print ops in single line"
   ]
  },
  {
   "cell_type": "code",
   "execution_count": 11,
   "id": "13f2bf77",
   "metadata": {},
   "outputs": [
    {
     "name": "stdout",
     "output_type": "stream",
     "text": [
      "16 4\n"
     ]
    }
   ],
   "source": [
    "def func(n):\n",
    "    print(n**2,end=\" \")\n",
    "    print(n)\n",
    "func(4) \n"
   ]
  },
  {
   "cell_type": "code",
   "execution_count": 14,
   "id": "d3969995",
   "metadata": {},
   "outputs": [
    {
     "name": "stdout",
     "output_type": "stream",
     "text": [
      "1 4 9 "
     ]
    }
   ],
   "source": [
    "def fun(lst):\n",
    "    def func(n):\n",
    "        s=0\n",
    "        for i in range(0,n+1):\n",
    "            s=s+lst[i]\n",
    "        return s\n",
    "    for i in range(len(lst)):\n",
    "        print(func(i),end=\" \")\n",
    "fun([1,3,5])"
   ]
  },
  {
   "cell_type": "code",
   "execution_count": null,
   "id": "eb5da815",
   "metadata": {},
   "outputs": [],
   "source": []
  }
 ],
 "metadata": {
  "kernelspec": {
   "display_name": "Python 3 (ipykernel)",
   "language": "python",
   "name": "python3"
  },
  "language_info": {
   "codemirror_mode": {
    "name": "ipython",
    "version": 3
   },
   "file_extension": ".py",
   "mimetype": "text/x-python",
   "name": "python",
   "nbconvert_exporter": "python",
   "pygments_lexer": "ipython3",
   "version": "3.12.4"
  }
 },
 "nbformat": 4,
 "nbformat_minor": 5
}
