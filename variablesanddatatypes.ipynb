{
 "cells": [
  {
   "cell_type": "code",
   "execution_count": 1,
   "id": "74b62166",
   "metadata": {},
   "outputs": [
    {
     "name": "stdout",
     "output_type": "stream",
     "text": [
      " Volume in drive C is OS\n",
      " Volume Serial Number is BE2F-D05B\n",
      "\n",
      " Directory of C:\\Users\\vigne\\Python Programming\n",
      "\n",
      "03-04-2024  09:29    <DIR>          .\n",
      "01-04-2024  20:50    <DIR>          ..\n",
      "03-04-2024  09:29    <DIR>          .ipynb_checkpoints\n",
      "03-04-2024  09:07    <DIR>          __pycache__\n",
      "26-03-2024  11:04             1,481 call.ipynb\n",
      "26-03-2024  08:47             4,919 conditional statements (if,else).ipynb\n",
      "21-03-2024  22:57            10,469 DS[Dictionaries].ipynb\n",
      "20-03-2024  09:04            12,820 DS[lists].ipynb\n",
      "21-03-2024  22:57            12,428 DS[sets].ipynb\n",
      "13-03-2024  10:54             6,827 DS[Tuple].ipynb\n",
      "02-04-2024  10:39                11 example.txt\n",
      "27-03-2024  22:07            13,676 for loop.ipynb\n",
      "02-04-2024  07:48            30,066 Functions.ipynb\n",
      "26-03-2024  09:52             5,944 Functions.py\n",
      "20-03-2024  13:24             3,453 intro.ipynb\n",
      "03-04-2024  09:24    <DIR>          lms assignnmets\n",
      "28-03-2024  13:21            25,275 nuke.ipynb\n",
      "31-03-2024  11:40             2,939 oops practice.ipynb\n",
      "02-04-2024  11:02            43,082 oops.ipynb\n",
      "05-03-2024  10:21            18,344 Operators.ipynb\n",
      "11-03-2024  09:06             3,176 string cheat sheet.ipynb\n",
      "11-03-2024  09:04            12,513 Strings.ipynb\n",
      "03-04-2024  09:28                72 variablesanddatatypes.ipynb\n",
      "27-03-2024  22:15             4,468 while loop.ipynb\n",
      "              19 File(s)        211,963 bytes\n",
      "               5 Dir(s)  382,069,420,032 bytes free\n"
     ]
    }
   ],
   "source": [
    "ls"
   ]
  },
  {
   "cell_type": "code",
   "execution_count": 2,
   "id": "bd3eea76",
   "metadata": {},
   "outputs": [
    {
     "name": "stdout",
     "output_type": "stream",
     "text": [
      "C:\\Users\\vigne\\Python Programming\\lms assignnmets\n"
     ]
    }
   ],
   "source": [
    "cd \"lms assignnmets\""
   ]
  },
  {
   "cell_type": "code",
   "execution_count": 3,
   "id": "2cce26f8",
   "metadata": {},
   "outputs": [
    {
     "name": "stdout",
     "output_type": "stream",
     "text": [
      " Volume in drive C is OS\n",
      " Volume Serial Number is BE2F-D05B\n",
      "\n",
      " Directory of C:\\Users\\vigne\\Python Programming\\lms assignnmets\n",
      "\n",
      "03-04-2024  09:24    <DIR>          .\n",
      "03-04-2024  09:29    <DIR>          ..\n",
      "03-04-2024  09:26    <DIR>          1569603-1_Variables_and_DataTypes\n",
      "03-04-2024  09:23             1,734 1569603-1_Variables_and_DataTypes.zip\n",
      "               1 File(s)          1,734 bytes\n",
      "               3 Dir(s)  382,069,616,640 bytes free\n"
     ]
    }
   ],
   "source": [
    "ls\n"
   ]
  },
  {
   "cell_type": "code",
   "execution_count": 4,
   "id": "f062a3e2",
   "metadata": {},
   "outputs": [
    {
     "name": "stderr",
     "output_type": "stream",
     "text": [
      "Traceback (most recent call last):\n",
      "  File \"C:\\Users\\vigne\\Python Programming\\lms assignnmets\\1569603-1_Variables_and_DataTypes\\1_Variables and DataTypes.ipynb\", line 70, in <module>\n",
      "    \"execution_count\": null,\n",
      "                       ^^^^\n",
      "NameError: name 'null' is not defined\n"
     ]
    }
   ],
   "source": [
    "!python \"1569603-1_Variables_and_DataTypes/1_Variables and DataTypes.ipynb\""
   ]
  },
  {
   "cell_type": "code",
   "execution_count": 5,
   "id": "2b4eb778",
   "metadata": {},
   "outputs": [
    {
     "name": "stdout",
     "output_type": "stream",
     "text": [
      "C:\\Users\\vigne\\Python Programming\\lms assignnmets\\1569603-1_Variables_and_DataTypes\n"
     ]
    }
   ],
   "source": [
    "cd 1569603-1_Variables_and_DataTypes/"
   ]
  },
  {
   "cell_type": "code",
   "execution_count": 6,
   "id": "ca0a9a30",
   "metadata": {},
   "outputs": [
    {
     "name": "stdout",
     "output_type": "stream",
     "text": [
      " Volume in drive C is OS\n",
      " Volume Serial Number is BE2F-D05B\n",
      "\n",
      " Directory of C:\\Users\\vigne\\Python Programming\\lms assignnmets\\1569603-1_Variables_and_DataTypes\n",
      "\n",
      "03-04-2024  09:26    <DIR>          .\n",
      "03-04-2024  09:24    <DIR>          ..\n",
      "03-04-2024  09:24             6,730 1_Variables and DataTypes.ipynb\n",
      "               1 File(s)          6,730 bytes\n",
      "               2 Dir(s)  382,070,472,704 bytes free\n"
     ]
    }
   ],
   "source": [
    "ls"
   ]
  },
  {
   "cell_type": "code",
   "execution_count": null,
   "id": "a8c0577b",
   "metadata": {},
   "outputs": [],
   "source": []
  }
 ],
 "metadata": {
  "kernelspec": {
   "display_name": "Python 3 (ipykernel)",
   "language": "python",
   "name": "python3"
  },
  "language_info": {
   "codemirror_mode": {
    "name": "ipython",
    "version": 3
   },
   "file_extension": ".py",
   "mimetype": "text/x-python",
   "name": "python",
   "nbconvert_exporter": "python",
   "pygments_lexer": "ipython3",
   "version": "3.11.5"
  }
 },
 "nbformat": 4,
 "nbformat_minor": 5
}
