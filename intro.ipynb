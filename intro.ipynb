{
 "cells": [
  {
   "cell_type": "code",
   "execution_count": 11,
   "id": "e16ee889",
   "metadata": {},
   "outputs": [
    {
     "name": "stdout",
     "output_type": "stream",
     "text": [
      "hello\n"
     ]
    }
   ],
   "source": [
    "print(\"hello\")"
   ]
  },
  {
   "cell_type": "markdown",
   "id": "27df2745",
   "metadata": {},
   "source": [
    "# about markdown\n",
    "## This is my heading\n",
    "### sub heading\n",
    "\n",
    "today is thursday\n",
    "`today` is **thursdaytodayis thursday**    #for bold we use **bold**\n",
    "                                         # for italic we use *word*  \n",
    "                                           # use `wrd` to highlight\n",
    "           # for bullet points use - before\n",
    "- hi"
   ]
  },
  {
   "cell_type": "markdown",
   "id": "0d94a46b",
   "metadata": {},
   "source": [
    "#shrtcuts\n",
    "- esc + m to change in to markdown cell\n",
    "- esc + y to change in to code cell\n",
    "- shift + enter to run cell\n",
    "- esc + a to add cell above the exsisting cell\n",
    "- esc + b to add below cell"
   ]
  },
  {
   "cell_type": "markdown",
   "id": "70ff0c72",
   "metadata": {},
   "source": [
    "# Atluri Vigneshwar Rao \n",
    "\n",
    "- Im pursuing my final year in **DRK**\n",
    "- I know a little about *python* , *ML*.\n",
    "- I've joined `innomatics` to strengthen my *techincal* skills.\n"
   ]
  },
  {
   "cell_type": "code",
   "execution_count": 1,
   "id": "07b6d294",
   "metadata": {},
   "outputs": [],
   "source": [
    "x =15\n",
    "y = 2\n",
    "c = x/ y"
   ]
  },
  {
   "cell_type": "code",
   "execution_count": 2,
   "id": "e8ccacca",
   "metadata": {},
   "outputs": [
    {
     "name": "stdout",
     "output_type": "stream",
     "text": [
      "7.5\n"
     ]
    }
   ],
   "source": [
    "print(c)"
   ]
  },
  {
   "cell_type": "code",
   "execution_count": 3,
   "id": "8541740b",
   "metadata": {},
   "outputs": [
    {
     "data": {
      "text/plain": [
       "2"
      ]
     },
     "execution_count": 3,
     "metadata": {},
     "output_type": "execute_result"
    }
   ],
   "source": [
    "5//2"
   ]
  },
  {
   "cell_type": "code",
   "execution_count": 1,
   "id": "788c40b3",
   "metadata": {},
   "outputs": [
    {
     "data": {
      "text/plain": [
       "33"
      ]
     },
     "execution_count": 1,
     "metadata": {},
     "output_type": "execute_result"
    }
   ],
   "source": [
    "l1 = (2,33,222,14,15)\n",
    "l1[1]"
   ]
  },
  {
   "cell_type": "code",
   "execution_count": 5,
   "id": "bf71246d",
   "metadata": {},
   "outputs": [
    {
     "data": {
      "text/plain": [
       "(1, 2, 1, 2)"
      ]
     },
     "execution_count": 5,
     "metadata": {},
     "output_type": "execute_result"
    }
   ],
   "source": [
    "t = (1,2)\n",
    "t*2"
   ]
  },
  {
   "cell_type": "code",
   "execution_count": 6,
   "id": "c5883998",
   "metadata": {},
   "outputs": [
    {
     "name": "stdout",
     "output_type": "stream",
     "text": [
      "35412536\n"
     ]
    }
   ],
   "source": []
  },
  {
   "cell_type": "code",
   "execution_count": 3,
   "id": "e7441ab1",
   "metadata": {},
   "outputs": [
    {
     "ename": "SyntaxError",
     "evalue": "invalid syntax (1564081930.py, line 1)",
     "output_type": "error",
     "traceback": [
      "\u001b[1;36m  Cell \u001b[1;32mIn[3], line 1\u001b[1;36m\u001b[0m\n\u001b[1;33m    my name is laharika\u001b[0m\n\u001b[1;37m       ^\u001b[0m\n\u001b[1;31mSyntaxError\u001b[0m\u001b[1;31m:\u001b[0m invalid syntax\n"
     ]
    }
   ],
   "source": [
    "my name is laharika"
   ]
  },
  {
   "cell_type": "code",
   "execution_count": null,
   "id": "f7858edc",
   "metadata": {},
   "outputs": [],
   "source": []
  }
 ],
 "metadata": {
  "kernelspec": {
   "display_name": "Python 3 (ipykernel)",
   "language": "python",
   "name": "python3"
  },
  "language_info": {
   "codemirror_mode": {
    "name": "ipython",
    "version": 3
   },
   "file_extension": ".py",
   "mimetype": "text/x-python",
   "name": "python",
   "nbconvert_exporter": "python",
   "pygments_lexer": "ipython3",
   "version": "3.11.5"
  }
 },
 "nbformat": 4,
 "nbformat_minor": 5
}
