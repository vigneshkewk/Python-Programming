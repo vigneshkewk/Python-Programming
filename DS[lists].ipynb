{
 "cells": [
  {
   "cell_type": "markdown",
   "id": "820793fa",
   "metadata": {},
   "source": [
    "## Data structures is how we store the data\n",
    "#### we have different types of ds\n",
    "- list\n",
    "- tuple\n",
    "- Dictionary\n",
    "- set"
   ]
  },
  {
   "cell_type": "markdown",
   "id": "b6143961",
   "metadata": {},
   "source": [
    "## LIST\n"
   ]
  },
  {
   "cell_type": "code",
   "execution_count": 16,
   "id": "34671cb4",
   "metadata": {},
   "outputs": [
    {
     "name": "stdout",
     "output_type": "stream",
     "text": [
      "[1, 2, 3, 4, 'vignesh', True, (2+5j)]\n",
      "<class 'list'>\n"
     ]
    }
   ],
   "source": [
    "# it is defined by [] or by using predefined function list(([]))\n",
    "list1= [1,2,3,4,\"vignesh\",True,2+5j]\n",
    "print(list1)\n",
    "print(type(list1))"
   ]
  },
  {
   "cell_type": "code",
   "execution_count": 17,
   "id": "53a4b235",
   "metadata": {},
   "outputs": [
    {
     "name": "stdout",
     "output_type": "stream",
     "text": [
      "1\n",
      "4\n",
      "(2+5j)\n",
      "True\n"
     ]
    }
   ],
   "source": [
    "# list is orderd so it can be accessed by indexing , here we have both +ve and -ve indexing\n",
    "print(list1[0])\n",
    "print(list1[3])\n",
    "print(list1[-1])\n",
    "print(list1[-2])\n"
   ]
  },
  {
   "cell_type": "code",
   "execution_count": 18,
   "id": "6e6f0036",
   "metadata": {},
   "outputs": [
    {
     "name": "stdout",
     "output_type": "stream",
     "text": [
      "hello i'm vignesh\n"
     ]
    }
   ],
   "source": [
    "print(\"hello i'm\", list1[4])"
   ]
  },
  {
   "cell_type": "code",
   "execution_count": 19,
   "id": "4840852f",
   "metadata": {
    "scrolled": true
   },
   "outputs": [
    {
     "name": "stdout",
     "output_type": "stream",
     "text": [
      "['im one', 2, 3, 4, 'vignesh', True, (2+5j)]\n"
     ]
    }
   ],
   "source": [
    "# we can change the data points in the list\n",
    "list1[0] = \"im one\"\n",
    "print(list1)"
   ]
  },
  {
   "cell_type": "markdown",
   "id": "df0ccc53",
   "metadata": {},
   "source": [
    "# problem 1\n"
   ]
  },
  {
   "cell_type": "code",
   "execution_count": 20,
   "id": "b227e9b3",
   "metadata": {},
   "outputs": [
    {
     "name": "stdout",
     "output_type": "stream",
     "text": [
      "vignesh atluri 29/04/2003 20 final year btech\n"
     ]
    }
   ],
   "source": [
    "biodata = [\"vignesh\", \"atluri\", \"29/04/2003\",20,\"final year btech\"]\n",
    "firstname = biodata[0]\n",
    "lastname = biodata[1]\n",
    "DOB = biodata[2]\n",
    "age = biodata[3]\n",
    "edu = biodata[4]\n",
    "print(firstname,lastname,DOB,age,edu)\n"
   ]
  },
  {
   "cell_type": "markdown",
   "id": "8c4d4869",
   "metadata": {},
   "source": [
    "# problem 2"
   ]
  },
  {
   "cell_type": "code",
   "execution_count": 21,
   "id": "acee43a5",
   "metadata": {},
   "outputs": [
    {
     "name": "stdout",
     "output_type": "stream",
     "text": [
      "2\n",
      "7\n"
     ]
    }
   ],
   "source": [
    "# Nested list or list inside list\n",
    "p = [[1,2,3],[4,5,6],[7,8,9]]\n",
    "print(p[0][1])\n",
    "print(p[2][0])"
   ]
  },
  {
   "cell_type": "markdown",
   "id": "3b370caa",
   "metadata": {},
   "source": [
    "### String builtin functions in list\n",
    "- append()\n",
    "- extend()\n",
    "- clear()\n",
    "- count()\n",
    "- index()\n",
    "- insert()\n",
    "- pop()\n",
    "- remove()\n",
    "- max()\n",
    "- min()\n",
    "- sum()"
   ]
  },
  {
   "cell_type": "code",
   "execution_count": 2,
   "id": "d6648d0a",
   "metadata": {},
   "outputs": [
    {
     "name": "stdout",
     "output_type": "stream",
     "text": [
      "[1, 2, 3, 4, 5, 6]\n",
      "[1, 2, 3, 4, 5, 6, 'hello']\n"
     ]
    }
   ],
   "source": [
    "#append() - adds an single element at last\n",
    "l1 = [1,2,3,4,5]\n",
    "#append()\n",
    "l1.append(6)\n",
    "print(l1)\n",
    "l1.append(\"hello\")\n",
    "print(l1)"
   ]
  },
  {
   "cell_type": "code",
   "execution_count": 6,
   "id": "2bea917e",
   "metadata": {},
   "outputs": [
    {
     "name": "stdout",
     "output_type": "stream",
     "text": [
      "[1, 2, 3, 4, 4, 5, 6, 7, [11, 12, 13]]\n",
      "[1, 2, 3, 4, 4, 5, 6, 7, [11, 12, 13], 9, 'python is gud']\n"
     ]
    }
   ],
   "source": [
    "#extend()-\n",
    "l3 = [1,2,3,4,4,5,6,7]\n",
    "l3.append([11,12,13])\n",
    "print(l3)\n",
    "l3.extend([9, \"python is gud\"])\n",
    "print(l3)\n",
    "\n",
    "# Append function in Python adds a single element to the end of the list, whereas the extend function adds multiple elements (from an iterable) to the lis"
   ]
  },
  {
   "cell_type": "code",
   "execution_count": 24,
   "id": "ec8831fd",
   "metadata": {},
   "outputs": [],
   "source": [
    "#clear() - returns empty list\n",
    "#l1.clear()\n",
    "#l1"
   ]
  },
  {
   "cell_type": "code",
   "execution_count": 25,
   "id": "8e7f7c4d",
   "metadata": {},
   "outputs": [
    {
     "data": {
      "text/plain": [
       "2"
      ]
     },
     "execution_count": 25,
     "metadata": {},
     "output_type": "execute_result"
    }
   ],
   "source": [
    "#count() - it counts no.of elements repeated in a list\n",
    "l3.count(4)"
   ]
  },
  {
   "cell_type": "code",
   "execution_count": 26,
   "id": "76289798",
   "metadata": {},
   "outputs": [
    {
     "data": {
      "text/plain": [
       "10"
      ]
     },
     "execution_count": 26,
     "metadata": {},
     "output_type": "execute_result"
    }
   ],
   "source": [
    "#index - returns the index value\n",
    "l3.index(\"python is gud\")"
   ]
  },
  {
   "cell_type": "code",
   "execution_count": 27,
   "id": "4e8a4d00",
   "metadata": {},
   "outputs": [
    {
     "name": "stdout",
     "output_type": "stream",
     "text": [
      "['ji', 1, 2, 3, 4, 5, 6, 'hello']\n"
     ]
    }
   ],
   "source": [
    "#insert- adding the element at a particular position   variable.insert(index,\"element\")\n",
    "l1.insert(0,\"ji\")\n",
    "print(l1)"
   ]
  },
  {
   "cell_type": "code",
   "execution_count": 28,
   "id": "a7554ab4",
   "metadata": {},
   "outputs": [],
   "source": [
    "#pop() - used to remove the element at last pop() or we can use it by index pop(index value)"
   ]
  },
  {
   "cell_type": "code",
   "execution_count": 9,
   "id": "623a9903",
   "metadata": {},
   "outputs": [
    {
     "data": {
      "text/plain": [
       "['hi', 'vignesh']"
      ]
     },
     "execution_count": 9,
     "metadata": {},
     "output_type": "execute_result"
    }
   ],
   "source": [
    "fff = [\"hi\",\"vignesh\",\"hello\"]\n",
    "fff.pop(2)\n",
    "fff"
   ]
  },
  {
   "cell_type": "code",
   "execution_count": 10,
   "id": "53f48a3a",
   "metadata": {},
   "outputs": [
    {
     "data": {
      "text/plain": [
       "['vignesh', 'hi']"
      ]
     },
     "execution_count": 10,
     "metadata": {},
     "output_type": "execute_result"
    }
   ],
   "source": [
    "#reverse()\n",
    "fff.reverse()\n",
    "fff"
   ]
  },
  {
   "cell_type": "code",
   "execution_count": 31,
   "id": "c5c89056",
   "metadata": {},
   "outputs": [],
   "source": [
    "values = [65,78,3434,323433,13434113]"
   ]
  },
  {
   "cell_type": "code",
   "execution_count": 34,
   "id": "82760f38",
   "metadata": {},
   "outputs": [
    {
     "data": {
      "text/plain": [
       "13434113"
      ]
     },
     "execution_count": 34,
     "metadata": {},
     "output_type": "execute_result"
    }
   ],
   "source": [
    "#max()\n",
    "max(values)"
   ]
  },
  {
   "cell_type": "code",
   "execution_count": 35,
   "id": "56c4ee9c",
   "metadata": {},
   "outputs": [
    {
     "data": {
      "text/plain": [
       "65"
      ]
     },
     "execution_count": 35,
     "metadata": {},
     "output_type": "execute_result"
    }
   ],
   "source": [
    "#min()\n",
    "min(values)"
   ]
  },
  {
   "cell_type": "code",
   "execution_count": 36,
   "id": "61ef9fa3",
   "metadata": {},
   "outputs": [
    {
     "data": {
      "text/plain": [
       "13761123"
      ]
     },
     "execution_count": 36,
     "metadata": {},
     "output_type": "execute_result"
    }
   ],
   "source": [
    "#sum\n",
    "sum(values)"
   ]
  },
  {
   "cell_type": "code",
   "execution_count": null,
   "id": "4b661c2e",
   "metadata": {},
   "outputs": [],
   "source": []
  },
  {
   "cell_type": "markdown",
   "id": "8d5f488a",
   "metadata": {},
   "source": [
    "### problem on printing only even numbers"
   ]
  },
  {
   "cell_type": "code",
   "execution_count": 37,
   "id": "17f4a981",
   "metadata": {},
   "outputs": [
    {
     "name": "stdout",
     "output_type": "stream",
     "text": [
      "2\n",
      "4\n",
      "6\n",
      "8\n",
      "10\n"
     ]
    }
   ],
   "source": [
    "# print only even numbers \n",
    "x = [1,2,3,4,5,6,7,8,9,10]\n",
    "\n",
    "for i in x:\n",
    "    if  i % 2 == 0:\n",
    "        print(i)\n",
    "    else:\n",
    "        pass  #pass is used to skip , o/p will be same with out pass and else\n"
   ]
  },
  {
   "cell_type": "markdown",
   "id": "aeb508e7",
   "metadata": {},
   "source": [
    "### problem on swapping elements position in a list"
   ]
  },
  {
   "cell_type": "code",
   "execution_count": 38,
   "id": "dccd6a7a",
   "metadata": {},
   "outputs": [
    {
     "name": "stdout",
     "output_type": "stream",
     "text": [
      "1 this is the first value\n",
      "5 this is the second value\n"
     ]
    }
   ],
   "source": [
    "z1 = [1,2,3,4,5]\n",
    "print(z1[0],\"this is the first value\")\n",
    "print(z1[4],\"this is the second value\")"
   ]
  },
  {
   "cell_type": "code",
   "execution_count": 39,
   "id": "97c7cc7b",
   "metadata": {},
   "outputs": [
    {
     "name": "stdout",
     "output_type": "stream",
     "text": [
      "[1, 2, 3, 4, 5] this list is before swapping\n",
      "[5, 2, 3, 4, 1] this list is after swapping\n"
     ]
    }
   ],
   "source": [
    "# lets see interchanging the places of elements in a list\n",
    "print(z1,\"this list is before swapping\")\n",
    "z1[0],z1[4] = z1[4],z1[0]\n",
    "print(z1,\"this list is after swapping\")"
   ]
  },
  {
   "cell_type": "code",
   "execution_count": 40,
   "id": "8d1c39b8",
   "metadata": {},
   "outputs": [
    {
     "name": "stdout",
     "output_type": "stream",
     "text": [
      "[2, 3, 6, 1, 5, 9, 0] this list is before swapping\n",
      "[2, 3, 5, 1, 6, 9, 0] this list is after swapping\n"
     ]
    }
   ],
   "source": [
    "# problem 2\n",
    "u = [2,3,6,1,5,9,0]\n",
    "print(u,\"this list is before swapping\")\n",
    "u[2],u[4] = u[4],u[2]\n",
    "print(u,\"this list is after swapping\")"
   ]
  },
  {
   "cell_type": "markdown",
   "id": "5d58d3ae",
   "metadata": {},
   "source": [
    "## problem"
   ]
  },
  {
   "cell_type": "code",
   "execution_count": 41,
   "id": "29becc74",
   "metadata": {},
   "outputs": [
    {
     "name": "stdout",
     "output_type": "stream",
     "text": [
      "1 these are +vee\n",
      "2 these are +vee\n",
      "3 these are +vee\n",
      "4 these are +vee\n"
     ]
    }
   ],
   "source": [
    "# to print +ve\n",
    "y = [-1,-2,-3,-4,1,2,3,4]\n",
    "for i in y:\n",
    "    if i > 0 :\n",
    "        print(i, \"these are +vee\")\n",
    "        \n",
    "    else:\n",
    "       pass"
   ]
  },
  {
   "cell_type": "code",
   "execution_count": 42,
   "id": "03143c73",
   "metadata": {},
   "outputs": [
    {
     "name": "stdout",
     "output_type": "stream",
     "text": [
      "1 it is +ve\n",
      "2 it is +ve\n",
      "3 it is +ve\n",
      "4 it is +ve\n",
      "4 it is +ve\n",
      "5 it is +ve\n",
      "-3 it is -vee\n",
      "-5 it is -vee\n"
     ]
    }
   ],
   "source": [
    "# function to check the num is +ve or -ve\n",
    "def check_postive_negative(lis):\n",
    "    for i in lis:\n",
    "        if i > 0 :\n",
    "            print(i, \"it is +ve\")\n",
    "        \n",
    "    else:\n",
    "       pass\n",
    "    \n",
    "    \n",
    "    for i in lis:\n",
    "        if i < 0 :\n",
    "            print(i, \"it is -vee\")\n",
    "\n",
    "        else:\n",
    "           pass\n",
    "    \n",
    "check_postive_negative([1,2,3,4,4,5,-3,-5])"
   ]
  }
 ],
 "metadata": {
  "kernelspec": {
   "display_name": "Python 3 (ipykernel)",
   "language": "python",
   "name": "python3"
  },
  "language_info": {
   "codemirror_mode": {
    "name": "ipython",
    "version": 3
   },
   "file_extension": ".py",
   "mimetype": "text/x-python",
   "name": "python",
   "nbconvert_exporter": "python",
   "pygments_lexer": "ipython3",
   "version": "3.11.5"
  }
 },
 "nbformat": 4,
 "nbformat_minor": 5
}
