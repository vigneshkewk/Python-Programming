{
 "cells": [
  {
   "cell_type": "code",
   "execution_count": 4,
   "id": "76ab15fd",
   "metadata": {},
   "outputs": [],
   "source": [
    "file = open(r\"C:\\Users\\vigne\\Downloads\\example.txt\",\"r\")\n",
    "for i in file:\n",
    "    if  \"Apple\" in file :\n",
    "        print(i)\n",
    "#let us try to access important data \n"
   ]
  },
  {
   "cell_type": "code",
   "execution_count": 15,
   "id": "f9412923",
   "metadata": {},
   "outputs": [],
   "source": [
    "file_path = r\"C:\\Users\\vigne\\Downloads\\example.txt\"\n",
    "f = {\"model\":1,\"brand\":2,\"color\":3}\n",
    "with open(file_path,\"r\") as file:\n",
    "    for line in file:\n",
    "        words = line.split()\n",
    "        for i in words:\n",
    "            if i == \"iphone\":\n",
    "                f[\"model\"] = i\n",
    "            if i == \"Apple\":\n",
    "                f[\"brand\"] = i\n",
    "            if i == \"grey\":\n",
    "                f[\"color\"] = i\n",
    "            else:\n",
    "                pass\n",
    "                \n",
    "    \n"
   ]
  },
  {
   "cell_type": "code",
   "execution_count": 16,
   "id": "b0557a95",
   "metadata": {},
   "outputs": [
    {
     "name": "stdout",
     "output_type": "stream",
     "text": [
      "{'model': 'iphone', 'brand': 'Apple', 'color': 'grey'}\n"
     ]
    }
   ],
   "source": [
    "print(f)"
   ]
  },
  {
   "cell_type": "code",
   "execution_count": null,
   "id": "c68ce38f",
   "metadata": {},
   "outputs": [],
   "source": []
  },
  {
   "cell_type": "code",
   "execution_count": null,
   "id": "9cbeee47",
   "metadata": {},
   "outputs": [],
   "source": []
  }
 ],
 "metadata": {
  "kernelspec": {
   "display_name": "Python 3 (ipykernel)",
   "language": "python",
   "name": "python3"
  },
  "language_info": {
   "codemirror_mode": {
    "name": "ipython",
    "version": 3
   },
   "file_extension": ".py",
   "mimetype": "text/x-python",
   "name": "python",
   "nbconvert_exporter": "python",
   "pygments_lexer": "ipython3",
   "version": "3.11.5"
  }
 },
 "nbformat": 4,
 "nbformat_minor": 5
}
