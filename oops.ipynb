{
 "cells": [
  {
   "cell_type": "markdown",
   "id": "fd5c41e6",
   "metadata": {},
   "source": [
    "## oops\n",
    "- A class is a collection of objects. A class contains the blueprints or the prototype from which the objects are being created. It is a logical entity that contains some attributes and methods. \n",
    "- admission form is \"class\"\n",
    "- all the details in form are \"objects\"\n",
    "- class is an blueprint\n",
    "- object is an instance of class both object and instace are words that can be used interchangebaly\n",
    "- class can be created with or without paranthesis\n",
    "- use return instead of print as print will print none sometimes"
   ]
  },
  {
   "cell_type": "code",
   "execution_count": 20,
   "id": "c3c7d894",
   "metadata": {},
   "outputs": [
    {
     "name": "stdout",
     "output_type": "stream",
     "text": [
      "Toyota\n",
      "Corolla\n",
      "Toyota Corolla is driving.\n"
     ]
    }
   ],
   "source": [
    "class Car:\n",
    "    def __init__(self, brand, model):\n",
    "        self.brand = brand\n",
    "        self.model = model\n",
    "    \n",
    "    def drive(self):\n",
    "        print(f\"{self.brand} {self.model} is driving.\")\n",
    "\n",
    "# Creating an instance of the Car class\n",
    "my_car = Car(\"Toyota\", \"Corolla\")\n",
    "\n",
    "# Accessing attributes\n",
    "print(my_car.brand)  # Output: Toyota\n",
    "print(my_car.model)  # Output: Corolla\n",
    "\n",
    "# Calling methods\n",
    "my_car.drive()  # Output: Toyota Corolla is driving.\n"
   ]
  },
  {
   "cell_type": "code",
   "execution_count": 21,
   "id": "d3134211",
   "metadata": {},
   "outputs": [],
   "source": [
    "#oops\n",
    "#classvsobjects\n",
    "# __init__, self\n",
    "# creating a class\n",
    "#Accessing a class\n",
    "# instance variables vs class variables\n",
    "# methods - instanc emethod, class method, function method\n",
    "# polymorphism, inheritance, encapsulation, abstraction"
   ]
  },
  {
   "cell_type": "code",
   "execution_count": 22,
   "id": "ab690e93",
   "metadata": {},
   "outputs": [],
   "source": [
    "#class is a blue print, object is instance of that blue print or duplicates of that blue print\n",
    "#class is created by using the keyword \"class\"\n",
    "# make sure that everything is in small letters\n",
    "# syntax : class statement():\n",
    "                #statement\n",
    "class test_plan():\n",
    "    pass\n",
    "# we have successfully created the class plan"
   ]
  },
  {
   "cell_type": "code",
   "execution_count": 23,
   "id": "0b6447e6",
   "metadata": {},
   "outputs": [
    {
     "name": "stdout",
     "output_type": "stream",
     "text": [
      "7 this is my output1\n",
      "12 thiss is my op2\n"
     ]
    }
   ],
   "source": [
    "# ex of fn\n",
    "def add(x,y):\n",
    "    return x+y\n",
    "instance1 = add(3,4)\n",
    "instance2 = add(7,5)\n",
    "print(instance1,\"this is my output1\")\n",
    "print(instance2,\"thiss is my op2\")"
   ]
  },
  {
   "cell_type": "code",
   "execution_count": 24,
   "id": "3a4f2044",
   "metadata": {},
   "outputs": [],
   "source": [
    "# how do i create a object ?\n",
    "# variable_name = plan()\n",
    "\n",
    "house_1 = test_plan()\n",
    "house_2 = test_plan()\n",
    "# plan is a blueprint \n",
    "# house1 is the first construction based on the plan\n",
    "# house2 is the second construction based on the plan"
   ]
  },
  {
   "cell_type": "code",
   "execution_count": 25,
   "id": "b36aa622",
   "metadata": {},
   "outputs": [],
   "source": [
    "#House = area dimensions,price,location\n",
    "# you can pass the attributes to a class by using <instance_name>.<desired_variable>\n",
    "# im trying to add attributes to my house_1(instance)\n",
    "house_1.area_dimensions = 240 #sqrryrds\n",
    "house_1.price = 400000\n",
    "house_1.location = \"hyd\"\n",
    "house_2.price = 200000"
   ]
  },
  {
   "cell_type": "code",
   "execution_count": 26,
   "id": "250adbae",
   "metadata": {},
   "outputs": [
    {
     "name": "stdout",
     "output_type": "stream",
     "text": [
      "240\n"
     ]
    },
    {
     "ename": "AttributeError",
     "evalue": "'test_plan' object has no attribute 'area_dimensions'",
     "output_type": "error",
     "traceback": [
      "\u001b[1;31m---------------------------------------------------------------------------\u001b[0m",
      "\u001b[1;31mAttributeError\u001b[0m                            Traceback (most recent call last)",
      "Cell \u001b[1;32mIn[26], line 2\u001b[0m\n\u001b[0;32m      1\u001b[0m \u001b[38;5;28mprint\u001b[39m(house_1\u001b[38;5;241m.\u001b[39marea_dimensions)\n\u001b[1;32m----> 2\u001b[0m \u001b[38;5;28mprint\u001b[39m(house_2\u001b[38;5;241m.\u001b[39marea_dimensions)\n",
      "\u001b[1;31mAttributeError\u001b[0m: 'test_plan' object has no attribute 'area_dimensions'"
     ]
    }
   ],
   "source": [
    "print(house_1.area_dimensions)\n",
    "print(house_2.area_dimensions)\n",
    "# each instance has different input attributes\n",
    "# The main purpose of oops is to avoid recreation of variables"
   ]
  },
  {
   "cell_type": "code",
   "execution_count": 27,
   "id": "01906c51",
   "metadata": {},
   "outputs": [
    {
     "name": "stdout",
     "output_type": "stream",
     "text": [
      "400000\n"
     ]
    }
   ],
   "source": [
    "print(house_1.price)"
   ]
  },
  {
   "cell_type": "code",
   "execution_count": 28,
   "id": "7bc456f3",
   "metadata": {},
   "outputs": [
    {
     "name": "stdout",
     "output_type": "stream",
     "text": [
      "200000\n"
     ]
    }
   ],
   "source": [
    "print(house_2.price)"
   ]
  },
  {
   "cell_type": "markdown",
   "id": "5b01011f",
   "metadata": {},
   "source": [
    "## __init__ , self"
   ]
  },
  {
   "cell_type": "code",
   "execution_count": 29,
   "id": "9977024d",
   "metadata": {},
   "outputs": [],
   "source": [
    "# __init__ constructor\n",
    "# __init__ is the python constructor. It tells the python interpreter that you want to create a class with certain attributes\n",
    "\n",
    "# The self keyword just lets you know that a certain attribute changes from object to object\n",
    "# self is a keyword that calls itself\n",
    "# we can use any word instead of self"
   ]
  },
  {
   "cell_type": "code",
   "execution_count": 30,
   "id": "06b0a3b1",
   "metadata": {},
   "outputs": [],
   "source": [
    "class plan():\n",
    "    def __init__(self,area_dimensions,price,location): # these are the keyword args as we mentioned them below\n",
    "        #the self will call itself if, if we remove self we will get error\n",
    "        self.area_dimensions = area_dimensions\n",
    "        self.price= price\n",
    "        self.location = location"
   ]
  },
  {
   "cell_type": "code",
   "execution_count": 31,
   "id": "dd5c74ae",
   "metadata": {},
   "outputs": [],
   "source": [
    "HOUSE_1 = plan(240,50000,\"hyderabad\")\n",
    "HOUSE_3 = plan(300,60000,\"nellore\")"
   ]
  },
  {
   "cell_type": "code",
   "execution_count": 32,
   "id": "d11e09cf",
   "metadata": {},
   "outputs": [
    {
     "name": "stdout",
     "output_type": "stream",
     "text": [
      "240\n",
      "60000\n"
     ]
    }
   ],
   "source": [
    "# if i want to access are_dimension, price and location of house1\n",
    "print(HOUSE_1.area_dimensions)\n",
    "print(HOUSE_3.price)"
   ]
  },
  {
   "cell_type": "markdown",
   "id": "97f4599d",
   "metadata": {},
   "source": [
    "## Instance variable and class variable\n",
    "#### Class Variables: These are variables shared by all instances of the class. They are defined within the class but outside of any instance methods. They are accessed using the class name. Changes to class variables affect all instances of the class.\n",
    "\n",
    "#### Instance Variables: These are variables that belong to each instance of the class individually. They are defined within the instance methods using self. Each instance has its own copy of instance variables."
   ]
  },
  {
   "cell_type": "code",
   "execution_count": 33,
   "id": "5ab8773d",
   "metadata": {},
   "outputs": [
    {
     "name": "stdout",
     "output_type": "stream",
     "text": [
      "Area Dimensions: 350\n",
      "Price: 5000000\n",
      "Location: hyd\n",
      "updated location is: sec\n"
     ]
    }
   ],
   "source": [
    "class Plan:\n",
    "    # Class variables\n",
    "    raise_in_amount = 15000\n",
    "    new_location = \"sec\"\n",
    "    \n",
    "    def __init__(self, area_dimensions, price, location):\n",
    "        # Instance variables\n",
    "        self.area_dimensions = area_dimensions\n",
    "        self.price = price\n",
    "        self.location = location\n",
    "    \n",
    "    def increase_price(self):\n",
    "        self.price += Plan.raise_in_amount\n",
    "        \n",
    "    def change_location(self, new_location):\n",
    "        self.location = new_location\n",
    "        \n",
    "# Creating an instance \n",
    "my_house = Plan(350, 5000000, \"hyd\")\n",
    "\n",
    "# Accessing the attributes\n",
    "print(\"Area Dimensions:\", my_house.area_dimensions)\n",
    "print(\"Price:\", my_house.price)\n",
    "print(\"Location:\", my_house.location)\n",
    "print(\"updated location is:\", my_house.new_location)\n"
   ]
  },
  {
   "cell_type": "code",
   "execution_count": 34,
   "id": "244ff39e",
   "metadata": {},
   "outputs": [
    {
     "name": "stdout",
     "output_type": "stream",
     "text": [
      "Toyota\n",
      "Corolla\n",
      "Toyota Corolla is driving.\n"
     ]
    }
   ],
   "source": [
    "class Car:\n",
    "    def __init__(self, brand, model):\n",
    "        self.brand = brand\n",
    "        self.model = model\n",
    "    \n",
    "    def drive(self):\n",
    "        print(f\"{self.brand} {self.model} is driving.\")\n",
    "\n",
    "# Creating an instance of the Car class\n",
    "my_car = Car(\"Toyota\", \"Corolla\")\n",
    "\n",
    "# Accessing attributes\n",
    "print(my_car.brand)  # Output: Toyota\n",
    "print(my_car.model)  # Output: Corolla\n",
    "\n",
    "# Calling methods\n",
    "my_car.drive()  # Output: Toyota Corolla is driving.\n"
   ]
  },
  {
   "cell_type": "code",
   "execution_count": 35,
   "id": "a3e3e8fa",
   "metadata": {},
   "outputs": [
    {
     "name": "stdout",
     "output_type": "stream",
     "text": [
      "vignesh\n",
      "B.tech final year\n",
      "jawahar\n",
      "B.tech final year\n",
      "vignesh B.tech final year are the details.\n",
      "jawahar B.tech final year are the details.\n"
     ]
    }
   ],
   "source": [
    "class admission_form():\n",
    "    def __init__(self,name,edu):\n",
    "        self.name= name\n",
    "        self.edu= edu\n",
    "    def details(self):\n",
    "        print(f\"{self.name} {self.edu} are the details.\")\n",
    "        \n",
    "        \n",
    "# creating an instance of the admission form class\n",
    "my_form = admission_form(\"vignesh\",\"B.tech final year\")\n",
    "form_2 = admission_form(\"jawahar\",\"B.tech final year\")\n",
    "\n",
    "# accessing attributes\n",
    "print(my_form.name)\n",
    "print(my_form.edu)\n",
    "print(form_2.name)\n",
    "print(form_2.edu)\n",
    "\n",
    "# calling methods(here the methods are __init__(also a constructor) and details)\n",
    "my_form.details()\n",
    "form_2.details()"
   ]
  },
  {
   "cell_type": "code",
   "execution_count": 36,
   "id": "17a9e00b",
   "metadata": {},
   "outputs": [],
   "source": [
    "# This is an example of creating an class\n",
    "class house:\n",
    "    pass"
   ]
  },
  {
   "cell_type": "code",
   "execution_count": 37,
   "id": "4a7826d1",
   "metadata": {},
   "outputs": [],
   "source": [
    "# This is an example of creating an instance\n",
    "\n",
    "house1 = house()  # First instance\n",
    "house2 = house() # second instance"
   ]
  },
  {
   "cell_type": "code",
   "execution_count": 38,
   "id": "fc1e504e",
   "metadata": {},
   "outputs": [
    {
     "name": "stdout",
     "output_type": "stream",
     "text": [
      "340sqyrds\n"
     ]
    },
    {
     "ename": "AttributeError",
     "evalue": "'house' object has no attribute 'area_size'",
     "output_type": "error",
     "traceback": [
      "\u001b[1;31m---------------------------------------------------------------------------\u001b[0m",
      "\u001b[1;31mAttributeError\u001b[0m                            Traceback (most recent call last)",
      "Cell \u001b[1;32mIn[38], line 7\u001b[0m\n\u001b[0;32m      5\u001b[0m \u001b[38;5;66;03m# here we created attributes to instance 1, so instance 2 is empty we will get error\u001b[39;00m\n\u001b[0;32m      6\u001b[0m \u001b[38;5;28mprint\u001b[39m(house1\u001b[38;5;241m.\u001b[39marea_size)\n\u001b[1;32m----> 7\u001b[0m \u001b[38;5;28mprint\u001b[39m(house2\u001b[38;5;241m.\u001b[39marea_size)\n",
      "\u001b[1;31mAttributeError\u001b[0m: 'house' object has no attribute 'area_size'"
     ]
    }
   ],
   "source": [
    "# Let us add some attributes: area_size,price,location to our first instance\n",
    "house1.area_size = \"340sqyrds\"\n",
    "house1.price = 5000000\n",
    "house1.location = \"jntuh\"\n",
    "# here we created attributes to instance 1, so instance 2 is empty we will get error\n",
    "print(house1.area_size)\n",
    "print(house2.area_size)"
   ]
  },
  {
   "cell_type": "code",
   "execution_count": 39,
   "id": "87f82bfb",
   "metadata": {},
   "outputs": [],
   "source": [
    "# since this is not the right approch to create attributes because for every class will be limited\n",
    "# Now let us try to construct a class with set of attributes\n",
    "class house: #---- incomplete\n",
    "    def __init__(self,area,price,location):\n",
    "        self.area = area\n",
    "        self.price = price\n",
    "        self.location = location\n",
    "    def comp_house(self):\n",
    "        print(f\"{self.price} {self.area} {self.location}\")\n",
    "house_1 = house(350,300000,\"jntuh\")\n",
    "house_2 = house(500,400000,\"nizampet\")"
   ]
  },
  {
   "cell_type": "code",
   "execution_count": 40,
   "id": "c1513483",
   "metadata": {},
   "outputs": [
    {
     "name": "stdout",
     "output_type": "stream",
     "text": [
      "300000 350 jntuh\n",
      "400000 500 nizampet\n"
     ]
    }
   ],
   "source": [
    "house_1.comp_house()\n",
    "house_2.comp_house()"
   ]
  },
  {
   "cell_type": "code",
   "execution_count": 41,
   "id": "a20e7ae5",
   "metadata": {},
   "outputs": [],
   "source": [
    "# how to update\n",
    "# our task is to update price\n",
    "# when we are trying a varible inside thr class we can access by using classname.variable or self.variable\n",
    "class house:\n",
    "    gst = 18\n",
    "    area = \"800sqyrds\"\n",
    "    def __init__(self,area,location,price):\n",
    "        self.area = area\n",
    "        self.price = price\n",
    "        self.location = location\n",
    "    def change_location_maual(self,x): # if we add x here we need to change it manaually or if we defineit as a class variable it is automatic\n",
    "        self.area = x\n",
    "        \n",
    "    def change_location_automatic(self): # if we add x here we need to change it manaually or if we defineit as a class variable it is automatic\n",
    "        self.area = house.area\n",
    "    def final(self):\n",
    "        print(f\"final op {self.area} {self.price} {self.location}\")"
   ]
  },
  {
   "cell_type": "code",
   "execution_count": 42,
   "id": "8bf35e7f",
   "metadata": {},
   "outputs": [],
   "source": [
    "h1 =house(240,\"hyd\",40000)\n",
    "h2 = house(300,\"bng\",50000)"
   ]
  },
  {
   "cell_type": "code",
   "execution_count": 43,
   "id": "d793f2bf",
   "metadata": {},
   "outputs": [
    {
     "name": "stdout",
     "output_type": "stream",
     "text": [
      "final op 240 40000 hyd\n",
      "None\n",
      "final op 300 50000 bng\n",
      "None\n"
     ]
    }
   ],
   "source": [
    "print(h1.final())\n",
    "print(h2.final())"
   ]
  },
  {
   "cell_type": "markdown",
   "id": "dad50cf5",
   "metadata": {},
   "source": [
    "# Methods - instance method, class method, function method to change\n"
   ]
  },
  {
   "cell_type": "code",
   "execution_count": 44,
   "id": "6c78159d",
   "metadata": {},
   "outputs": [
    {
     "name": "stdout",
     "output_type": "stream",
     "text": [
      "the no.of edges for a circle is: 0\n",
      "the first edges were 5 but after using instance method to update these are our new edges 6\n"
     ]
    }
   ],
   "source": [
    "# # instance method\n",
    "# # Instance attributes are those attributes that are not shared by objects. \n",
    "# # Every object has its own copy of the instance attribute.\n",
    "# For example, consider a class shapes that have many objects like circle, square, triangle, etc. \n",
    "# having its own attributes and methods. An instance attribute refers to the properties of that particular\n",
    "# object like edge of the triangle being 3, while the edge of the square can be 4.\n",
    "# An instance method can access and even modify the value of attributes of an instance. It has one default parameter:-\n",
    "# self – It is a keyword which points to the current passed instance. But it need not be passed every \n",
    "# time while calling an instance method.\n",
    "\n",
    "\n",
    "class shape:\n",
    "    \n",
    "    # calling constructor\n",
    "    def __init__(self,edge,color):\n",
    "        self.edge = edge\n",
    "        self.color = color\n",
    "    \n",
    "    #instance method\n",
    "    def findges(self):\n",
    "        return self.edge\n",
    "    \n",
    "    #instance method\n",
    "    def modifyedges(self,newedge):\n",
    "        self.edge = newedge\n",
    "        \n",
    "# creating objects\n",
    "circle = shape(0,\"red\")\n",
    "square = shape(5,\"orange\")\n",
    "\n",
    "# calling instance method\n",
    "print(\"the no.of edges for a circle is:\", circle.findges())\n",
    "\n",
    "# calling another instance method\n",
    "# to update by instance method we should call the updating method/finction before\n",
    "square.modifyedges(6)\n",
    "print(f\"the first edges were 5 but after using instance method to update these are our new edges {square.findges()}\")"
   ]
  },
  {
   "cell_type": "code",
   "execution_count": 45,
   "id": "ee1e1417",
   "metadata": {},
   "outputs": [],
   "source": [
    "#class method\n",
    "\n"
   ]
  },
  {
   "cell_type": "code",
   "execution_count": 46,
   "id": "f520cc7e",
   "metadata": {},
   "outputs": [],
   "source": [
    "# function method"
   ]
  },
  {
   "cell_type": "code",
   "execution_count": 47,
   "id": "aa777ac6",
   "metadata": {},
   "outputs": [],
   "source": [
    "# priciples of oops\n",
    "# Encapsulation\n",
    "# abstraction\n",
    "# polymorphism\n",
    "# inheritance"
   ]
  },
  {
   "cell_type": "markdown",
   "id": "df318adb",
   "metadata": {},
   "source": [
    "## Encapsulation"
   ]
  },
  {
   "cell_type": "code",
   "execution_count": 48,
   "id": "7f351895",
   "metadata": {},
   "outputs": [
    {
     "name": "stdout",
     "output_type": "stream",
     "text": [
      "inside\n"
     ]
    }
   ],
   "source": [
    "# Encapsulation\n",
    "class person():\n",
    "    print(\"inside\")\n",
    "    def __init__(self,f_name,l_name,gender,age,edu):\n",
    "        self.f_name  = f_name\n",
    "        self.l_name = l_name\n",
    "        self.gender = gender\n",
    "        self.age = age\n",
    "        self.edu = edu\n",
    "    # this is encapsulation\n",
    "    def welcome_msg(self):\n",
    "        print(f\"Hello {self.f_name+self.l_name} welcome to {self.edu}\")"
   ]
  },
  {
   "cell_type": "code",
   "execution_count": 49,
   "id": "4fa782b6",
   "metadata": {},
   "outputs": [
    {
     "name": "stdout",
     "output_type": "stream",
     "text": [
      "Hello atlurivignesh welcome to btech\n"
     ]
    }
   ],
   "source": [
    "# let create instances for above class\n",
    "p1 = person(\"atluri\",\"vignesh\",\"male\",21,\"btech\")\n",
    "p1.welcome_msg()"
   ]
  },
  {
   "cell_type": "code",
   "execution_count": 50,
   "id": "d5ee3006",
   "metadata": {},
   "outputs": [
    {
     "name": "stdout",
     "output_type": "stream",
     "text": [
      "inside\n"
     ]
    }
   ],
   "source": [
    "# get,set is the terminology used for (get for print) (set for updating) it does not function anything\n",
    "class person():\n",
    "    print(\"inside\")\n",
    "    def __init__(self,f_name,l_name,gender,age,edu):\n",
    "        self.f_name  = f_name\n",
    "        self.l_name = l_name\n",
    "        self.gender = gender\n",
    "        self.age = age\n",
    "        self.edu = edu\n",
    "        \n",
    "    # encapsulation\n",
    "    def get_age(self):\n",
    "        print(self.age)\n",
    "        \n",
    "    def set_age(self,new):\n",
    "        self.age = new\n",
    "        return self.age\n",
    "    \n",
    "    def set_edu(self,new_edu):\n",
    "        self.edu = new_edu\n",
    "        return self.edu\n"
   ]
  },
  {
   "cell_type": "code",
   "execution_count": 51,
   "id": "14f5f9b0",
   "metadata": {},
   "outputs": [],
   "source": [
    "p1 = person(\"atluri\",\"vignesh\",\"male\",21,\"btech\")"
   ]
  },
  {
   "cell_type": "code",
   "execution_count": 52,
   "id": "2f7cf7e8",
   "metadata": {},
   "outputs": [
    {
     "name": "stdout",
     "output_type": "stream",
     "text": [
      "21 this was earlier age\n",
      "32 this is the output for the set method\n",
      "32 this is the updated age\n"
     ]
    }
   ],
   "source": [
    "# updating the age\n",
    "print(p1.age,\"this was earlier age\")\n",
    "\n",
    "print(p1.set_age(32),\"this is the output for the set method\")\n",
    "print(p1.age,\"this is the updated age\")"
   ]
  },
  {
   "cell_type": "code",
   "execution_count": 53,
   "id": "8c6afd57",
   "metadata": {},
   "outputs": [
    {
     "name": "stdout",
     "output_type": "stream",
     "text": [
      "btech this is the old edu\n",
      "inter this is the new edu\n"
     ]
    }
   ],
   "source": [
    "# updating the edu\n",
    "print(p1.edu,\"this is the old edu\")\n",
    "print(p1.set_edu(\"inter\"),\"this is the new edu\")"
   ]
  },
  {
   "cell_type": "markdown",
   "id": "9504d0f6",
   "metadata": {},
   "source": [
    "# inheritance\n",
    "### parent and child\n",
    "##### single inheritance\n",
    "##### multi level inheritance\n",
    "##### hierarichal inheritance\n",
    "#### parent is the class from which you are trying to extract information\n",
    "#### child is the class which is created from your parent class\n"
   ]
  },
  {
   "cell_type": "code",
   "execution_count": 70,
   "id": "1ab2157a",
   "metadata": {},
   "outputs": [],
   "source": [
    "# single level inheritance\n",
    "class animal():\n",
    "    def characeteristics(self):\n",
    "        return \"it has 4 legs\"\n",
    "\n",
    "class Dog(animal):\n",
    "    def sound1(self):\n",
    "        return \"it barks\"\n",
    "\n",
    "class cat(animal):\n",
    "    def sound2(slef):\n",
    "        return \"it meows\""
   ]
  },
  {
   "cell_type": "code",
   "execution_count": 66,
   "id": "5c657ab6",
   "metadata": {},
   "outputs": [],
   "source": [
    "# creating an instances\n",
    "animal_0 = animal()\n",
    "animal_1 = Dog()\n",
    "animal_2 = cat()"
   ]
  },
  {
   "cell_type": "code",
   "execution_count": 67,
   "id": "73696540",
   "metadata": {},
   "outputs": [
    {
     "data": {
      "text/plain": [
       "'it barks'"
      ]
     },
     "execution_count": 67,
     "metadata": {},
     "output_type": "execute_result"
    }
   ],
   "source": [
    "animal_1.sound1()"
   ]
  },
  {
   "cell_type": "code",
   "execution_count": 68,
   "id": "02d9090f",
   "metadata": {},
   "outputs": [
    {
     "data": {
      "text/plain": [
       "'it has 4 legs'"
      ]
     },
     "execution_count": 68,
     "metadata": {},
     "output_type": "execute_result"
    }
   ],
   "source": [
    "animal_0.characeteristics()"
   ]
  },
  {
   "cell_type": "code",
   "execution_count": 69,
   "id": "85cc5ccc",
   "metadata": {},
   "outputs": [
    {
     "data": {
      "text/plain": [
       "'it meows'"
      ]
     },
     "execution_count": 69,
     "metadata": {},
     "output_type": "execute_result"
    }
   ],
   "source": [
    "animal_2.sound2()"
   ]
  },
  {
   "cell_type": "code",
   "execution_count": 109,
   "id": "76cbfb7c",
   "metadata": {},
   "outputs": [
    {
     "name": "stdout",
     "output_type": "stream",
     "text": [
      "im inside student\n",
      "im inside car\n"
     ]
    }
   ],
   "source": [
    "class demographic_info:\n",
    "    def __init__(self,name,education):\n",
    "        self.name = name\n",
    "        self.education = education\n",
    "        \n",
    "class student_details(demographic_info):\n",
    "    print(\"im inside student\")\n",
    "    def __init__(self):\n",
    "        pass\n",
    "   \n",
    "class car_no(demographic_info):\n",
    "    print(\"im inside car\")\n",
    "    def car_details(self):\n",
    "        pass"
   ]
  },
  {
   "cell_type": "code",
   "execution_count": 118,
   "id": "4b71074e",
   "metadata": {},
   "outputs": [
    {
     "name": "stdout",
     "output_type": "stream",
     "text": [
      "charan\n",
      "btech\n"
     ]
    }
   ],
   "source": [
    "R = demographic_info(\"charan\",\"btech\")\n",
    "print(R.name)\n",
    "print(R.education)"
   ]
  },
  {
   "cell_type": "code",
   "execution_count": 119,
   "id": "213433e4",
   "metadata": {},
   "outputs": [
    {
     "name": "stdout",
     "output_type": "stream",
     "text": [
      "volvo\n",
      "super braking\n"
     ]
    }
   ],
   "source": [
    "S = car_no(\"volvo\",\"super braking\")\n",
    "print(S.name)\n",
    "print(S.education)"
   ]
  },
  {
   "cell_type": "code",
   "execution_count": 120,
   "id": "976e48cf",
   "metadata": {},
   "outputs": [],
   "source": [
    "class Animal:\n",
    "    def __init__(self,category, color):\n",
    "        self.category = category\n",
    "        self.color = color\n",
    "class Animal_1(Animal):\n",
    "    def __init__(self,category,color,name_1):\n",
    "        super().__init__(category,color)\n",
    "        self.name_1 = name_1"
   ]
  },
  {
   "cell_type": "code",
   "execution_count": 117,
   "id": "181508da",
   "metadata": {},
   "outputs": [
    {
     "name": "stdout",
     "output_type": "stream",
     "text": [
      "carnovorous\n",
      "mammal\n",
      "brown\n"
     ]
    }
   ],
   "source": [
    "A = Animal(\"carnovorous\",\"red\")\n",
    "B = Animal_1(\"mammal\",\"brown\",\"sita\")\n",
    "print(A.category)\n",
    "print(B.category)\n",
    "print(B.color)\n"
   ]
  },
  {
   "cell_type": "markdown",
   "id": "8cfb863c",
   "metadata": {},
   "source": [
    "### multilevel inheritance"
   ]
  },
  {
   "cell_type": "code",
   "execution_count": 122,
   "id": "5ab1ccdf",
   "metadata": {},
   "outputs": [],
   "source": [
    "class animal():\n",
    "    def characeteristics(self):\n",
    "        return \"it has 4 legs\"\n",
    "\n",
    "class Dog(animal):\n",
    "    def sound1(self):\n",
    "        return \"it barks\"\n",
    "\n",
    "class cat(animal):\n",
    "    def sound2(slef):\n",
    "        return \"it meows\"\n",
    "    \n",
    "# creating an multilevel inheriting class\n",
    "class pomerian(Dog):# This is an multlevel , pomerian has dog and dog has animal\n",
    "    def color(self):\n",
    "        return \"it is brown color\"\n",
    "    "
   ]
  },
  {
   "cell_type": "code",
   "execution_count": 123,
   "id": "deaed57a",
   "metadata": {},
   "outputs": [],
   "source": [
    "A = animal()\n",
    "B = Dog()\n",
    "C = pomerian()"
   ]
  },
  {
   "cell_type": "code",
   "execution_count": 127,
   "id": "3dc14daf",
   "metadata": {},
   "outputs": [
    {
     "name": "stdout",
     "output_type": "stream",
     "text": [
      "it has 4 legs\n",
      "\n",
      "it has 4 legs\n",
      "\n",
      "it has 4 legs\n",
      "it is brown color\n"
     ]
    }
   ],
   "source": [
    "print(A.characeteristics())\n",
    "print()\n",
    "print(B.characeteristics())\n",
    "print()\n",
    "print(C.characeteristics())\n",
    "print(C.color())"
   ]
  },
  {
   "cell_type": "code",
   "execution_count": 133,
   "id": "8f72134f",
   "metadata": {},
   "outputs": [
    {
     "ename": "NameError",
     "evalue": "name 'Nameage__init__' is not defined",
     "output_type": "error",
     "traceback": [
      "\u001b[1;31m---------------------------------------------------------------------------\u001b[0m",
      "\u001b[1;31mNameError\u001b[0m                                 Traceback (most recent call last)",
      "Cell \u001b[1;32mIn[133], line 27\u001b[0m\n\u001b[0;32m     25\u001b[0m \u001b[38;5;66;03m# instances\u001b[39;00m\n\u001b[0;32m     26\u001b[0m A \u001b[38;5;241m=\u001b[39m Namage(\u001b[38;5;124m\"\u001b[39m\u001b[38;5;124mvig\u001b[39m\u001b[38;5;124m\"\u001b[39m,\u001b[38;5;241m26\u001b[39m)\n\u001b[1;32m---> 27\u001b[0m B \u001b[38;5;241m=\u001b[39m person(\u001b[38;5;124m\"\u001b[39m\u001b[38;5;124mvignesh\u001b[39m\u001b[38;5;124m\"\u001b[39m,\u001b[38;5;241m26\u001b[39m,\u001b[38;5;124m\"\u001b[39m\u001b[38;5;124m0067\u001b[39m\u001b[38;5;124m\"\u001b[39m)\n\u001b[0;32m     28\u001b[0m C \u001b[38;5;241m=\u001b[39m employee(\u001b[38;5;124m\"\u001b[39m\u001b[38;5;124mvignesh\u001b[39m\u001b[38;5;124m\"\u001b[39m,\u001b[38;5;241m26\u001b[39m,\u001b[38;5;124m\"\u001b[39m\u001b[38;5;124memp007\u001b[39m\u001b[38;5;124m\"\u001b[39m,\u001b[38;5;124m\"\u001b[39m\u001b[38;5;124mhyd\u001b[39m\u001b[38;5;124m\"\u001b[39m)\n",
      "Cell \u001b[1;32mIn[133], line 16\u001b[0m, in \u001b[0;36mperson.__init__\u001b[1;34m(self, name, age, user_id)\u001b[0m\n\u001b[0;32m     15\u001b[0m \u001b[38;5;28;01mdef\u001b[39;00m \u001b[38;5;21m__init__\u001b[39m(\u001b[38;5;28mself\u001b[39m, name,age,user_id):\n\u001b[1;32m---> 16\u001b[0m     Nameage__init__(\u001b[38;5;28mself\u001b[39m,name,age)\n\u001b[0;32m     17\u001b[0m     user\u001b[38;5;241m.\u001b[39m\u001b[38;5;21m__init__\u001b[39m(\u001b[38;5;28mself\u001b[39m, user_id)\n",
      "\u001b[1;31mNameError\u001b[0m: name 'Nameage__init__' is not defined"
     ]
    }
   ],
   "source": [
    "#new code\n",
    "class Nameage:\n",
    "    def __init__(self,name,age):\n",
    "        self.name = name\n",
    "        self.age = age\n",
    "class user:\n",
    "    def __init__(self,user_id):\n",
    "        self.user_id = user_id\n",
    "        \n",
    "class employee_info:\n",
    "    def __init__(self,emp_id,branch):\n",
    "        self.emp_id = emp_id\n",
    "        self.branch = branch\n",
    "class person(Nameage,user):\n",
    "    def __init__(self, name,age,user_id):\n",
    "        Nameage__init__(self,name,age)\n",
    "        user.__init__(self, user_id)\n",
    "\n",
    "class employee(Nameage, employee_info):\n",
    "    def __init__(self,name,age,emp_id,branch):\n",
    "        Nameage.__init__(self, name, age)\n",
    "        employee_info.__init__(self, emp_id, branch)\n",
    "        \n",
    "        \n",
    "# instances\n",
    "A = Nameage(\"vig\",26)\n",
    "B = person(\"vignesh\",26,\"0067\")\n",
    "C = employee(\"vignesh\",26,\"emp007\",\"hyd\")"
   ]
  },
  {
   "cell_type": "markdown",
   "id": "064d325b",
   "metadata": {},
   "source": [
    "## polymorphism\n",
    "- means different output for same function"
   ]
  },
  {
   "cell_type": "code",
   "execution_count": 141,
   "id": "6307fb7e",
   "metadata": {},
   "outputs": [],
   "source": [
    "class animal:\n",
    "    def somthing(self):\n",
    "        pass\n",
    "class Dog(animal):\n",
    "    def speaks(self):\n",
    "        return \"it barks\"\n",
    "class cat(animal):\n",
    "    def speaks(self):\n",
    "        return \"it meows\"\n",
    "class wolf(animal):\n",
    "    def speaks(self):\n",
    "        return \"it howls\""
   ]
  },
  {
   "cell_type": "code",
   "execution_count": 142,
   "id": "bfd785bf",
   "metadata": {},
   "outputs": [],
   "source": [
    "A  = animal()\n",
    "B  = Dog()\n",
    "C  = cat()\n",
    "D = wolf()"
   ]
  },
  {
   "cell_type": "code",
   "execution_count": 143,
   "id": "fd5c7478",
   "metadata": {},
   "outputs": [
    {
     "name": "stdout",
     "output_type": "stream",
     "text": [
      "it barks\n",
      "it meows\n",
      "it howls\n"
     ]
    }
   ],
   "source": [
    "print(B.speaks())\n",
    "print(C.speaks())\n",
    "print(D.speaks())"
   ]
  },
  {
   "cell_type": "code",
   "execution_count": null,
   "id": "7ec9b3b3",
   "metadata": {},
   "outputs": [],
   "source": [
    "!nvidia-smi"
   ]
  },
  {
   "cell_type": "markdown",
   "id": "09efdd16",
   "metadata": {},
   "source": [
    "## abstraction\n",
    "- it is hiding the implementaion detaails and showing only the essentail features of an object"
   ]
  },
  {
   "cell_type": "code",
   "execution_count": 25,
   "id": "556d886f",
   "metadata": {},
   "outputs": [
    {
     "ename": "NameError",
     "evalue": "name 'onj1' is not defined",
     "output_type": "error",
     "traceback": [
      "\u001b[1;31m---------------------------------------------------------------------------\u001b[0m",
      "\u001b[1;31mNameError\u001b[0m                                 Traceback (most recent call last)",
      "Cell \u001b[1;32mIn[25], line 5\u001b[0m\n\u001b[0;32m      3\u001b[0m         \u001b[38;5;28;01mpass\u001b[39;00m\n\u001b[0;32m      4\u001b[0m obj1 \u001b[38;5;241m=\u001b[39m A()\n\u001b[1;32m----> 5\u001b[0m onj1\u001b[38;5;241m.\u001b[39mmethod()\n",
      "\u001b[1;31mNameError\u001b[0m: name 'onj1' is not defined"
     ]
    }
   ],
   "source": [
    "class A:\n",
    "    def method(self):\n",
    "        pass\n",
    "obj1 = A()\n",
    "onj1.method()"
   ]
  },
  {
   "cell_type": "code",
   "execution_count": 36,
   "id": "e1e6d56b",
   "metadata": {},
   "outputs": [
    {
     "ename": "TypeError",
     "evalue": "Can't instantiate abstract class A with abstract method method",
     "output_type": "error",
     "traceback": [
      "\u001b[1;31m---------------------------------------------------------------------------\u001b[0m",
      "\u001b[1;31mTypeError\u001b[0m                                 Traceback (most recent call last)",
      "Cell \u001b[1;32mIn[36], line 9\u001b[0m\n\u001b[0;32m      6\u001b[0m     \u001b[38;5;129m@abstractmethod\u001b[39m\n\u001b[0;32m      7\u001b[0m     \u001b[38;5;28;01mdef\u001b[39;00m \u001b[38;5;21mmethod\u001b[39m(\u001b[38;5;28mself\u001b[39m):\n\u001b[0;32m      8\u001b[0m         \u001b[38;5;28;01mpass\u001b[39;00m\n\u001b[1;32m----> 9\u001b[0m obj1 \u001b[38;5;241m=\u001b[39m A()\n\u001b[0;32m     10\u001b[0m obj1\u001b[38;5;241m.\u001b[39mmethod()\n",
      "\u001b[1;31mTypeError\u001b[0m: Can't instantiate abstract class A with abstract method method"
     ]
    }
   ],
   "source": [
    "#we use the decorator @abstractmethod to define it is an abstraction\n",
    "# abc is an abstract class\n",
    "from abc import ABC, abstractmethod\n",
    "\n",
    "class A(ABC):\n",
    "    @abstractmethod\n",
    "    def method(self):\n",
    "        pass\n",
    "obj1 = A()\n",
    "obj1.method()"
   ]
  },
  {
   "cell_type": "code",
   "execution_count": 37,
   "id": "be025d41",
   "metadata": {},
   "outputs": [
    {
     "name": "stdout",
     "output_type": "stream",
     "text": [
      "hurray method1 is executed\n",
      "this is concrete method\n",
      "method3 is implemented in subclass B\n"
     ]
    }
   ],
   "source": [
    "class A(ABC):\n",
    "    @abstractmethod\n",
    "    def method1(self):\n",
    "        pass\n",
    "    def method2(self):\n",
    "        print(\"this is concrete method\")\n",
    "        \n",
    "    def method3(self):\n",
    "        pass\n",
    "    \n",
    "class B(A):\n",
    "    def method1(self):\n",
    "        print(\"hurray method1 is executed\")\n",
    "        \n",
    "    def method3(self):\n",
    "        print(\"method3 is implemented in subclass B\")\n",
    "        \n",
    "obj1 = B()\n",
    "obj1.method1()\n",
    "obj1.method2()\n",
    "obj1.method3()"
   ]
  },
  {
   "cell_type": "code",
   "execution_count": 45,
   "id": "069eb8a2",
   "metadata": {},
   "outputs": [],
   "source": [
    "from abc import ABC, abstractmethod\n",
    "class Shape(ABC):\n",
    "\n",
    "    @abstractmethod\n",
    "    def area(self):\n",
    "        pass\n",
    "\n",
    "    @abstractmethod\n",
    "    def perimeter(self):\n",
    "        pass\n"
   ]
  },
  {
   "cell_type": "code",
   "execution_count": 46,
   "id": "e28f2ee9",
   "metadata": {},
   "outputs": [],
   "source": [
    "class Rectangle(Shape):\n",
    "    def init(self, width, height):\n",
    "        self.width = width\n",
    "        self.height = height\n",
    "\n",
    "    def area(self):\n",
    "        return self.width * self.height\n",
    "\n",
    "    def perimeter(self):\n",
    "        return 2 * (self.width + self.height)\n",
    "\n",
    "class Circle(Shape):\n",
    "    def init(self, radius):\n",
    "        self.radius = radius\n",
    "\n",
    "    def area(self):\n",
    "        return 3.14 * self.radius * self.radius\n",
    "\n",
    "    def perimeter(self):\n",
    "        return 2 * 3.14 * self.radius"
   ]
  },
  {
   "cell_type": "code",
   "execution_count": 47,
   "id": "1572f713",
   "metadata": {},
   "outputs": [
    {
     "ename": "TypeError",
     "evalue": "Rectangle() takes no arguments",
     "output_type": "error",
     "traceback": [
      "\u001b[1;31m---------------------------------------------------------------------------\u001b[0m",
      "\u001b[1;31mTypeError\u001b[0m                                 Traceback (most recent call last)",
      "Cell \u001b[1;32mIn[47], line 6\u001b[0m\n\u001b[0;32m      3\u001b[0m     \u001b[38;5;28mprint\u001b[39m(\u001b[38;5;124m\"\u001b[39m\u001b[38;5;124mPerimeter:\u001b[39m\u001b[38;5;124m\"\u001b[39m, shape\u001b[38;5;241m.\u001b[39mperimeter())\n\u001b[0;32m      5\u001b[0m \u001b[38;5;66;03m# creating instances of concrete class\u001b[39;00m\n\u001b[1;32m----> 6\u001b[0m rectangle \u001b[38;5;241m=\u001b[39m Rectangle(\u001b[38;5;241m5\u001b[39m, \u001b[38;5;241m4\u001b[39m)\n\u001b[0;32m      7\u001b[0m circle \u001b[38;5;241m=\u001b[39m Circle(\u001b[38;5;241m3\u001b[39m)\n",
      "\u001b[1;31mTypeError\u001b[0m: Rectangle() takes no arguments"
     ]
    }
   ],
   "source": [
    "def print_shape_details(shape):\n",
    "    print(\"Area:\", shape.area())\n",
    "    print(\"Perimeter:\", shape.perimeter())\n",
    "\n",
    "# creating instances of concrete class\n",
    "rectangle = Rectangle(5, 4)\n",
    "circle = Circle(3)\n",
    "\n"
   ]
  },
  {
   "cell_type": "code",
   "execution_count": 48,
   "id": "4f506312",
   "metadata": {},
   "outputs": [
    {
     "name": "stdout",
     "output_type": "stream",
     "text": [
      "Rectangle details:\n"
     ]
    },
    {
     "ename": "NameError",
     "evalue": "name 'rectangle' is not defined",
     "output_type": "error",
     "traceback": [
      "\u001b[1;31m---------------------------------------------------------------------------\u001b[0m",
      "\u001b[1;31mNameError\u001b[0m                                 Traceback (most recent call last)",
      "Cell \u001b[1;32mIn[48], line 2\u001b[0m\n\u001b[0;32m      1\u001b[0m \u001b[38;5;28mprint\u001b[39m(\u001b[38;5;124m\"\u001b[39m\u001b[38;5;124mRectangle details:\u001b[39m\u001b[38;5;124m\"\u001b[39m)\n\u001b[1;32m----> 2\u001b[0m print_shape_details(rectangle)\n",
      "\u001b[1;31mNameError\u001b[0m: name 'rectangle' is not defined"
     ]
    }
   ],
   "source": [
    "print(\"Rectangle details:\")\n",
    "print_shape_details(rectangle)"
   ]
  },
  {
   "cell_type": "code",
   "execution_count": 49,
   "id": "f518676d",
   "metadata": {},
   "outputs": [
    {
     "name": "stdout",
     "output_type": "stream",
     "text": [
      "\n",
      "Circle details:\n"
     ]
    },
    {
     "ename": "NameError",
     "evalue": "name 'circle' is not defined",
     "output_type": "error",
     "traceback": [
      "\u001b[1;31m---------------------------------------------------------------------------\u001b[0m",
      "\u001b[1;31mNameError\u001b[0m                                 Traceback (most recent call last)",
      "Cell \u001b[1;32mIn[49], line 2\u001b[0m\n\u001b[0;32m      1\u001b[0m \u001b[38;5;28mprint\u001b[39m(\u001b[38;5;124m\"\u001b[39m\u001b[38;5;130;01m\\n\u001b[39;00m\u001b[38;5;124mCircle details:\u001b[39m\u001b[38;5;124m\"\u001b[39m)\n\u001b[1;32m----> 2\u001b[0m print_shape_details(circle)\n",
      "\u001b[1;31mNameError\u001b[0m: name 'circle' is not defined"
     ]
    }
   ],
   "source": [
    "print(\"\\nCircle details:\")\n",
    "print_shape_details(circle) "
   ]
  },
  {
   "cell_type": "markdown",
   "id": "a2c3e78a",
   "metadata": {},
   "source": [
    "# file handling\n",
    "- remaing lms notes\n",
    "## always close a file"
   ]
  },
  {
   "cell_type": "code",
   "execution_count": 51,
   "id": "1c7eafdf",
   "metadata": {},
   "outputs": [],
   "source": [
    "file = open(\"example.txt\",\"w\") #it will be created in pwd\n",
    "file.close() \n"
   ]
  },
  {
   "cell_type": "code",
   "execution_count": 56,
   "id": "de8d014e",
   "metadata": {},
   "outputs": [],
   "source": [
    "#to store in desired directory\n",
    "file = open(r\"C:\\Users\\vigne\\OneDrive\\Desktop\\New folder\\example.txt\",\"w\")\n",
    "file.close()"
   ]
  },
  {
   "cell_type": "code",
   "execution_count": 59,
   "id": "3788a00d",
   "metadata": {},
   "outputs": [],
   "source": [
    "file = open(\"example.txt\",\"w\")\n",
    "file.write(\"hello world\")\n",
    "file.close()"
   ]
  },
  {
   "cell_type": "markdown",
   "id": "7dfb6ed2",
   "metadata": {},
   "source": [
    "# Log file in lms"
   ]
  },
  {
   "cell_type": "code",
   "execution_count": null,
   "id": "a5a1d215",
   "metadata": {},
   "outputs": [],
   "source": []
  }
 ],
 "metadata": {
  "kernelspec": {
   "display_name": "Python 3 (ipykernel)",
   "language": "python",
   "name": "python3"
  },
  "language_info": {
   "codemirror_mode": {
    "name": "ipython",
    "version": 3
   },
   "file_extension": ".py",
   "mimetype": "text/x-python",
   "name": "python",
   "nbconvert_exporter": "python",
   "pygments_lexer": "ipython3",
   "version": "3.11.5"
  }
 },
 "nbformat": 4,
 "nbformat_minor": 5
}
