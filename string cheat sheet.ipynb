{
 "cells": [
  {
   "cell_type": "code",
   "execution_count": null,
   "id": "a289b65b",
   "metadata": {},
   "outputs": [],
   "source": [
    "#string methods - \n",
    "#upper() , lower()\n",
    "#startwith() -- true or false output\n",
    "#endswith() -- true or false output-\n",
    "#find() -- finds the element in the string\n",
    "#captilize() -- capitals the first letter\n",
    "#isupper() -- true or false output\n",
    "#islower() -- true or false output\n",
    "#isdigit() -- checks the value if its only number or not.\n",
    "#isascii()-- ascii is valued from 1 to 128.\n",
    "#isdecimal() -- checks whether the value is decimal value.\n",
    "#isalnum() -- true or false op (to check if all the elements are combination of numerical values or not)\n",
    "#isalpha() -- t or f(to check weather all elements are alphabets)\n",
    "#isnumeric() -- t or f (checks whesther the elements are all numerical values)\n",
    "#isidentifier() -- combination of alphabet, numbers and special charecters\n",
    "#count() -- count the mentioned letter in the string\n",
    "#join() -- print the mentioned variable for every letter of the other variable\n",
    "#strip(\"first letter of string\") -- removes the first letter\n",
    "#casefold() -- converts every thing to smaller case \n",
    "#ljust(x) --- it justifies the string in output.x values are whole numbers"
   ]
  },
  {
   "cell_type": "code",
   "execution_count": null,
   "id": "66ae74db",
   "metadata": {},
   "outputs": [],
   "source": [
    "# string operations (more in w3 schools)\n",
    "a= \"vignesh\"\n",
    "b = \"SENJU\"\n",
    "print(b.lower())\n",
    "print(a.upper())\n",
    "print(b.lower())\n",
    "print(a.count(\"e\")) #says how may times it has repeated\n",
    "print(a+b) # string concatenation\n",
    "print(a.capitalize()) # it will make the first letter capital\n",
    "print(a.islower()) #it returns true or false based on the upper case or lower case of string\n",
    "print(a.isupper()) \n",
    "print(a.join(b))#  prints my joining words between the string\n",
    "print(b.casefold()) # converts uppercase to lower case\n",
    "print(a.startswith(\"i\")) #checks whether it startts with that letter or not\n",
    "print(a.startswith(\"v\"))\n",
    "print(b.strip(\"S\")) # removes the frst letter\n",
    "#Alphanumeric = combinaton of numbers and charaacters\n",
    "\"AP28CD1900\".isalnum() #returns true if it is alphanumeric else false\n",
    "# replace() \n",
    "print(a.replace(\"n\",\"u\")) #used to replce characters in a string\n",
    "#title() converts the string in to a title\n",
    "print(a.title())\n",
    "#split() it will split it in to two \n",
    "a.split(\"e\")"
   ]
  }
 ],
 "metadata": {
  "kernelspec": {
   "display_name": "Python 3 (ipykernel)",
   "language": "python",
   "name": "python3"
  },
  "language_info": {
   "codemirror_mode": {
    "name": "ipython",
    "version": 3
   },
   "file_extension": ".py",
   "mimetype": "text/x-python",
   "name": "python",
   "nbconvert_exporter": "python",
   "pygments_lexer": "ipython3",
   "version": "3.11.5"
  }
 },
 "nbformat": 4,
 "nbformat_minor": 5
}
