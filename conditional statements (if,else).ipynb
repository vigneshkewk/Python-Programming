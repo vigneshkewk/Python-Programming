{
 "cells": [
  {
   "cell_type": "markdown",
   "id": "06ee073b",
   "metadata": {},
   "source": [
    "### need for conditional statements\n",
    "- to control the flow\n",
    "- to increase the efficiency of the code\n",
    "- evaluvate problem statement according to the condition\n"
   ]
  },
  {
   "cell_type": "code",
   "execution_count": 1,
   "id": "8e1309a8",
   "metadata": {},
   "outputs": [
    {
     "name": "stdout",
     "output_type": "stream",
     "text": [
      "enter your age:12\n",
      "no\n"
     ]
    }
   ],
   "source": [
    "# conditional statements: if-else, if-elif-else, if-if-if (nested if)\n",
    "age = int(input(\"enter your age:\"))\n",
    "if age>=18:\n",
    "    print(\"eligible\")\n",
    "else:\n",
    "    print(\"no\")\n"
   ]
  },
  {
   "cell_type": "code",
   "execution_count": 15,
   "id": "cd45cf1c",
   "metadata": {},
   "outputs": [
    {
     "name": "stdout",
     "output_type": "stream",
     "text": [
      "4 found it\n"
     ]
    }
   ],
   "source": [
    "ages = [1,2,3,4,5,6,7,8,9]\n",
    "\n",
    "for i in ages:\n",
    "    if i == 4:\n",
    "        print(i,\"found it\")\n",
    "        break \n",
    "# it will not even go to the variables after 4, where pass will go to all the elements but not show in output, continue also same as pass"
   ]
  },
  {
   "cell_type": "code",
   "execution_count": 24,
   "id": "cc1e84de",
   "metadata": {},
   "outputs": [
    {
     "name": "stdout",
     "output_type": "stream",
     "text": [
      "enter your age:12\n",
      "not eligible\n"
     ]
    }
   ],
   "source": [
    "#elif\n",
    "age = int(input(\"enter your age:\"))\n",
    "if age>18:\n",
    "    print(\"eligible\")\n",
    "\n",
    "elif age == 18 and age:\n",
    "    print(\"wait one more year\")\n",
    "    \n",
    "else:\n",
    "    print(\"not eligible\")\n"
   ]
  },
  {
   "cell_type": "markdown",
   "id": "cf005248",
   "metadata": {},
   "source": [
    "# Assignment explore nested if and diff blw pass and continue"
   ]
  },
  {
   "cell_type": "code",
   "execution_count": null,
   "id": "f607e9fd",
   "metadata": {},
   "outputs": [],
   "source": [
    "z = {\"cardno\":\"1234\",\"pass\":\"atluri\"}\n",
    "i1 = input(\"please enter your card number\")\n",
    "\n",
    "if i1 == z.get(\"cardno\"):\n",
    "    i2 = input(\"please enter your password:\")\n",
    "    if i2 == z.get(\"pass\"):\n",
    "        print(\"login successfull\")\n",
    "    else:\n",
    "        print(\"wrong password\")\n",
    "else:\n",
    "    print(\"wrong cardno\")"
   ]
  },
  {
   "cell_type": "code",
   "execution_count": 53,
   "id": "7a540535",
   "metadata": {},
   "outputs": [
    {
     "name": "stdout",
     "output_type": "stream",
     "text": [
      "1 4\n",
      "1 5\n",
      "1 6\n",
      "1 7\n",
      "1 7\n",
      "2 4\n",
      "2 5\n",
      "2 6\n",
      "2 7\n",
      "2 7\n",
      "3 4\n",
      "3 5\n",
      "3 6\n",
      "3 7\n",
      "3 7\n",
      "4 4\n",
      "4 5\n",
      "4 6\n",
      "4 7\n",
      "4 7\n",
      "5 4\n",
      "5 5\n",
      "5 6\n",
      "5 7\n",
      "5 7\n"
     ]
    }
   ],
   "source": [
    "h1 = [1,2,3,4,5]\n",
    "h2 = [4,5,6,7,7]\n",
    "\n",
    "for i in h1:\n",
    "    for j in h2:\n",
    "        print(i,j)"
   ]
  },
  {
   "cell_type": "markdown",
   "id": "cf1ed9d2",
   "metadata": {},
   "source": [
    "#### zip()"
   ]
  },
  {
   "cell_type": "code",
   "execution_count": 54,
   "id": "41899a89",
   "metadata": {},
   "outputs": [
    {
     "name": "stdout",
     "output_type": "stream",
     "text": [
      "(1, 4)\n",
      "(2, 5)\n",
      "(3, 6)\n",
      "(4, 7)\n",
      "(5, 7)\n"
     ]
    }
   ],
   "source": [
    "for i in zip(h1,h2):\n",
    "    print(i)"
   ]
  },
  {
   "cell_type": "markdown",
   "id": "d228dcd8",
   "metadata": {},
   "source": [
    "## backpropogation\n",
    "## algebra"
   ]
  },
  {
   "cell_type": "code",
   "execution_count": null,
   "id": "8937dc6e",
   "metadata": {},
   "outputs": [],
   "source": [
    "# print all even numbers from the list\n",
    "l = [1,2,3,4,5,6,7,8,9,10]\n",
    "for i in l:\n",
    "    if i%2 == 0:\n",
    "        print(i,\"these are the even numbers\")\n",
    "        \n",
    "    else:\n",
    "        pass"
   ]
  },
  {
   "cell_type": "code",
   "execution_count": null,
   "id": "3845dac9",
   "metadata": {},
   "outputs": [],
   "source": []
  }
 ],
 "metadata": {
  "kernelspec": {
   "display_name": "Python 3 (ipykernel)",
   "language": "python",
   "name": "python3"
  },
  "language_info": {
   "codemirror_mode": {
    "name": "ipython",
    "version": 3
   },
   "file_extension": ".py",
   "mimetype": "text/x-python",
   "name": "python",
   "nbconvert_exporter": "python",
   "pygments_lexer": "ipython3",
   "version": "3.11.5"
  }
 },
 "nbformat": 4,
 "nbformat_minor": 5
}
