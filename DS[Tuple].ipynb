{
 "cells": [
  {
   "cell_type": "markdown",
   "id": "18cadf72",
   "metadata": {},
   "source": [
    "# Tuple\n",
    "- is ordered and immutable and allows duplicates\n",
    "- immutable means once defined we cant change the tuple ex- passwords,coordinates"
   ]
  },
  {
   "cell_type": "code",
   "execution_count": 91,
   "id": "45144068",
   "metadata": {},
   "outputs": [
    {
     "name": "stdout",
     "output_type": "stream",
     "text": [
      "('vignesh', 1, 3, 3)\n"
     ]
    }
   ],
   "source": [
    "# tuple() or tuple(())\n",
    "t1 = (\"vignesh\",1,3,3)\n",
    "print(t1)"
   ]
  },
  {
   "cell_type": "code",
   "execution_count": 92,
   "id": "1a15f26b",
   "metadata": {},
   "outputs": [
    {
     "name": "stdout",
     "output_type": "stream",
     "text": [
      "vignesh\n",
      "1\n",
      "3\n",
      "3\n",
      "(1, 3)\n"
     ]
    }
   ],
   "source": [
    "print(t1[0])\n",
    "print(t1[1])\n",
    "print(t1[2])\n",
    "print(t1[3])\n",
    "print(t1[-3:-1]) #slicing\n"
   ]
  },
  {
   "cell_type": "markdown",
   "id": "415fd9e9",
   "metadata": {},
   "source": [
    "#### if we still want to change our tuple then we can do it by type casting(converting) from tuple to list"
   ]
  },
  {
   "cell_type": "code",
   "execution_count": 93,
   "id": "f2fba508",
   "metadata": {},
   "outputs": [
    {
     "name": "stdout",
     "output_type": "stream",
     "text": [
      "['vignesh', 1, 3, 3] this is the type casted list from tuple\n",
      "<class 'list'>\n",
      "None\n",
      "['vignesh', 1, 3, 3, 'hi'] new list after adding hi\n",
      "('vignesh', 1, 3, 3) this  is old tuple\n",
      "('vignesh', 1, 3, 3, 'hi') this is the updated tuple\n"
     ]
    }
   ],
   "source": [
    "# type casting the t1 tuple to list\n",
    "t2 = list(t1)\n",
    "print(t2,\"this is the type casted list from tuple\")\n",
    "print(type(t2))\n",
    "print(t2.append(\"hi\"))\n",
    "print(t2,\"new list after adding hi\")\n",
    "t3 = tuple(t2)  # type casting it back to tuple after adding required element\n",
    "print(t1,\"this  is old tuple\")\n",
    "print(t3,\"this is the updated tuple\") # we successfully added a new value"
   ]
  },
  {
   "cell_type": "markdown",
   "id": "ed8ea3f1",
   "metadata": {},
   "source": [
    "### problem"
   ]
  },
  {
   "cell_type": "code",
   "execution_count": 2,
   "id": "b4f679d3",
   "metadata": {},
   "outputs": [
    {
     "name": "stdout",
     "output_type": "stream",
     "text": [
      "enter your mail: vjfvskfnvjk\n",
      "enter your password:dsljvndaljnv\n",
      "wrong mail or password\n"
     ]
    }
   ],
   "source": [
    "# lets create an tuple of email and passsword\n",
    "email = input(\"enter your mail: \")\n",
    "password = input(\"enter your password:\")\n",
    "tuple_1 =(\"vigneshatluri@gmail.com\",\"vignesh19\")\n",
    "if email == tuple_1[0] and password == tuple_1[1]:\n",
    "    print(\"login succesfull\")\n",
    "else:\n",
    "    print(\"wrong mail or password\")\n"
   ]
  },
  {
   "cell_type": "code",
   "execution_count": 12,
   "id": "18ac285f",
   "metadata": {},
   "outputs": [
    {
     "name": "stdout",
     "output_type": "stream",
     "text": [
      "enter mailvigneshatluri@gmail.com\n",
      "enter passwordvignesh19\n",
      "login succesfull\n"
     ]
    }
   ],
   "source": [
    "#function for above\n",
    "\n",
    "def login(x,y):\n",
    "    if x == tuple_1[0] and y == tuple_1[1]:\n",
    "        print(\"login succesfull\")\n",
    "    else:\n",
    "        print(\"wrong mail or password\")\n",
    "\n",
    "name = input(\"enter mail\")\n",
    "passwor = input(\"enter password\")\n",
    "login(name,passwor)\n"
   ]
  },
  {
   "cell_type": "markdown",
   "id": "84c4673f",
   "metadata": {},
   "source": [
    "### tuple built in method\n",
    "- index()\n",
    "- count() \n",
    "\n",
    "### tuple built in functions\n",
    "- all()\tReturns true if all element are true or if tuple is empty\n",
    "- any()\treturn true if any element of the tuple is true. if tuple is empty, return false\n",
    "- len()\tReturns length of the tuple or size of the tuple\n",
    "- enumerate()\tReturns enumerate object of tuple\n",
    "- max()\treturn maximum element of given tuple\n",
    "- min()\treturn minimum element of given tuple\n",
    "- sum()\tSums up the numbers in the tuple\n",
    "- sorted()\tinput elements in the tuple and return a new sorted list\n",
    "- tuple()"
   ]
  },
  {
   "cell_type": "code",
   "execution_count": 13,
   "id": "21e63375",
   "metadata": {},
   "outputs": [
    {
     "name": "stdout",
     "output_type": "stream",
     "text": [
      "0 is the index value of hello in the tuple\n",
      "3 is the index value of 4 in the tuple\n"
     ]
    }
   ],
   "source": [
    "# index() built in methhod\n",
    "new_tup = (\"hello\",\"im\",\"python\",4,6,8,8,6,4)\n",
    "print(new_tup.index(\"hello\"),\"is the index value of hello in the tuple\")\n",
    "print(new_tup.index(4),\"is the index value of 4 in the tuple\")"
   ]
  },
  {
   "cell_type": "code",
   "execution_count": 14,
   "id": "a7a43ca5",
   "metadata": {},
   "outputs": [
    {
     "name": "stdout",
     "output_type": "stream",
     "text": [
      "4 is repeated 2 times in the tuple\n",
      "hello is repeated 1 times in the tuple\n",
      "8 is repeated 2 times in the tuple\n"
     ]
    }
   ],
   "source": [
    "#count() built in method\n",
    "print(\"4 is repeated\",new_tup.count(4),\"times in the tuple\")\n",
    "print(\"hello is repeated\",new_tup.count(\"hello\"),\"times in the tuple\")\n",
    "print(\"8 is repeated\",new_tup.count(8),\"times in the tuple\")"
   ]
  },
  {
   "cell_type": "code",
   "execution_count": 15,
   "id": "88eacc7b",
   "metadata": {},
   "outputs": [
    {
     "name": "stdout",
     "output_type": "stream",
     "text": [
      "False\n",
      "True\n"
     ]
    }
   ],
   "source": [
    "sec_tup  = ([1,2,False])\n",
    "thid_tup = ([1,2,3])\n",
    "print(all(sec_tup))\n",
    "print(all(thid_tup))"
   ]
  },
  {
   "cell_type": "code",
   "execution_count": null,
   "id": "554602b1",
   "metadata": {},
   "outputs": [],
   "source": []
  },
  {
   "cell_type": "code",
   "execution_count": null,
   "id": "23b11886",
   "metadata": {},
   "outputs": [],
   "source": []
  }
 ],
 "metadata": {
  "kernelspec": {
   "display_name": "Python 3 (ipykernel)",
   "language": "python",
   "name": "python3"
  },
  "language_info": {
   "codemirror_mode": {
    "name": "ipython",
    "version": 3
   },
   "file_extension": ".py",
   "mimetype": "text/x-python",
   "name": "python",
   "nbconvert_exporter": "python",
   "pygments_lexer": "ipython3",
   "version": "3.11.5"
  }
 },
 "nbformat": 4,
 "nbformat_minor": 5
}
