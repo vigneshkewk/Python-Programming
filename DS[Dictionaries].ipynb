{
 "cells": [
  {
   "cell_type": "code",
   "execution_count": 1,
   "id": "321759ac",
   "metadata": {},
   "outputs": [
    {
     "name": "stdout",
     "output_type": "stream",
     "text": [
      "{'name': 'vignesh', 'age': 21, 'DOB': '29th april'} this is my dictionary\n"
     ]
    }
   ],
   "source": [
    "# Dictionary is defined by curly braces with key value pairs or by uding keyword dict()\n",
    "# In Dictionary we cant access by index \n",
    "# dictionar consumes less computation power and less time\n",
    "# it is ordered,mutable and does not allow duplicates\n",
    "dict1 = {\"name\":\"vignesh\",\"age\":21,\"DOB\":\"29th april\"}\n",
    "print(dict1,\"this is my dictionary\")"
   ]
  },
  {
   "cell_type": "code",
   "execution_count": 22,
   "id": "a8a33b92",
   "metadata": {},
   "outputs": [
    {
     "name": "stdout",
     "output_type": "stream",
     "text": [
      "vignesh\n",
      "21\n"
     ]
    }
   ],
   "source": [
    "# Accessing elements in the dictionary\n",
    "print(dict1[\"name\"])\n",
    "# we can also access by get()\n",
    "print(dict1.get(\"age\"))"
   ]
  },
  {
   "cell_type": "code",
   "execution_count": 29,
   "id": "72d91bb2",
   "metadata": {},
   "outputs": [
    {
     "name": "stdout",
     "output_type": "stream",
     "text": [
      "{'name': 'vignesh', 'age': 21, 'DOB': '29th april'} this is before updating the age\n",
      "{'name': 'vignesh', 'age': 99, 'DOB': '29th april'} this is after updating the age in the dictionary\n"
     ]
    }
   ],
   "source": [
    "# modifying an disctionary\n",
    "print(dict1,\"this is before updating the age\")\n",
    "dict1[\"age\"] = 99\n",
    "print(dict1,\"this is after updating the age in the dictionary\")"
   ]
  },
  {
   "cell_type": "code",
   "execution_count": 32,
   "id": "b730b114",
   "metadata": {},
   "outputs": [
    {
     "data": {
      "text/plain": [
       "{'a': 1, 'b': 3}"
      ]
     },
     "execution_count": 32,
     "metadata": {},
     "output_type": "execute_result"
    }
   ],
   "source": [
    "#checking for duplicates\n",
    "dict2 = {\"a\":1,\"b\":2,\"b\":3} # here first 2 will be overwritten by 3\n",
    "dict2"
   ]
  },
  {
   "cell_type": "markdown",
   "id": "4e3563c5",
   "metadata": {},
   "source": [
    "### Excercies\n"
   ]
  },
  {
   "cell_type": "code",
   "execution_count": 34,
   "id": "78cec3b0",
   "metadata": {},
   "outputs": [
    {
     "name": "stdout",
     "output_type": "stream",
     "text": [
      "hello vignesh ! Welcome to cse you are 20 years old\n"
     ]
    }
   ],
   "source": [
    "ex = {\"name\":\"vignesh\",\"education\":\"cse\",\"age\":20}\n",
    "print(\"hello\",ex[\"name\"],\"! Welcome to\",ex[\"education\"],\"you are\",ex[\"age\"],\"years old\")"
   ]
  },
  {
   "cell_type": "code",
   "execution_count": 44,
   "id": "180a4def",
   "metadata": {},
   "outputs": [
    {
     "name": "stdout",
     "output_type": "stream",
     "text": [
      "hello vignesh ! Welcome to cse you are 20 years old\n"
     ]
    }
   ],
   "source": [
    "# function for above\n",
    "x= dict()\n",
    "def welcome(x):\n",
    "    print(\"hello\",x[\"name\"],\"! Welcome to\",x[\"education\"],\"you are\",x[\"age\"],\"years old\")\n",
    "    \n",
    "\n",
    "\n",
    "welcome({\"name\":\"vignesh\",\"education\":\"cse\",\"age\":20})\n",
    "    "
   ]
  },
  {
   "cell_type": "markdown",
   "id": "d9c10d5b",
   "metadata": {},
   "source": [
    "## Dictionary operations"
   ]
  },
  {
   "cell_type": "code",
   "execution_count": 82,
   "id": "19b3bf7d",
   "metadata": {},
   "outputs": [],
   "source": [
    "#clear()\n",
    "#get()\n",
    "#copy()\n",
    "#pop() - it takes one argument i.e takes key value and removesit\n",
    "#values()\n",
    "#keys()\n",
    "#items()\n",
    "#update() - add an new element at the last"
   ]
  },
  {
   "cell_type": "code",
   "execution_count": 83,
   "id": "8776df41",
   "metadata": {},
   "outputs": [
    {
     "name": "stdout",
     "output_type": "stream",
     "text": [
      "{}\n",
      "None\n"
     ]
    }
   ],
   "source": [
    "# clear()\n",
    "dict2 = {\"a\":1,\"b\":2,\"b\":3}\n",
    "z = dict2.clear()\n",
    "print(dict2) #dict2.clear() clears the elements form dictionary and store in z\n",
    "print(z) # since dict is cleared it returns none"
   ]
  },
  {
   "cell_type": "code",
   "execution_count": 84,
   "id": "34e71d61",
   "metadata": {},
   "outputs": [
    {
     "name": "stdout",
     "output_type": "stream",
     "text": [
      "vignesh\n",
      "21\n",
      "None\n"
     ]
    }
   ],
   "source": [
    "#get(), syntax-variable_name.get(\"key\")\n",
    "dict1 = {\"name\":\"vignesh\",\"age\":21,\"DOB\":\"29th april\"}\n",
    "print(dict1[\"name\"])\n",
    "print(dict1.get(\"age\"))\n",
    "# lets see when to use get() and varib_name[]\n",
    "print(dict1.get(\"d\")) # here we have accesd an element that is isnt present in dict so when we are writing a bg code and we wnat to keep the flow withuout geting erorrs bcz if we get an error the lines after it will nit get executed but if we use get() it will output none and keep going\n",
    "#print(dict1[\"d\"])"
   ]
  },
  {
   "cell_type": "code",
   "execution_count": 85,
   "id": "8a9b6c58",
   "metadata": {},
   "outputs": [
    {
     "name": "stdout",
     "output_type": "stream",
     "text": [
      "dict_keys(['name', 'age', 'DOB']) these are the keys of dict1\n"
     ]
    }
   ],
   "source": [
    "#keys() - returns all the keys in the dict\n",
    "print(dict1.keys(),\"these are the keys of dict1\")\n"
   ]
  },
  {
   "cell_type": "code",
   "execution_count": 86,
   "id": "1a21002f",
   "metadata": {},
   "outputs": [
    {
     "name": "stdout",
     "output_type": "stream",
     "text": [
      "dict_values(['vignesh', 21, '29th april'])\n"
     ]
    }
   ],
   "source": [
    "#values() - returns all the values in dict\n",
    "print(dict1.values())"
   ]
  },
  {
   "cell_type": "code",
   "execution_count": 87,
   "id": "272fdee7",
   "metadata": {},
   "outputs": [
    {
     "name": "stdout",
     "output_type": "stream",
     "text": [
      "name  these are the attributes/keys\n",
      "education  these are the attributes/keys\n",
      "age  these are the attributes/keys\n"
     ]
    }
   ],
   "source": [
    "#accesing attributes or keys from the dict by loop\n",
    "ex = {\"name\":\"vignesh\",\"education\":\"cse\",\"age\":20}\n",
    "for i in ex.keys():\n",
    "    print(i,\" these are the attributes/keys\")\n",
    "    "
   ]
  },
  {
   "cell_type": "code",
   "execution_count": 88,
   "id": "aa568701",
   "metadata": {},
   "outputs": [
    {
     "name": "stdout",
     "output_type": "stream",
     "text": [
      "vignesh  these are the values\n",
      "cse  these are the values\n",
      "20  these are the values\n"
     ]
    }
   ],
   "source": [
    "#accessing values from the dict by loop\n",
    "ex = {\"name\":\"vignesh\",\"education\":\"cse\",\"age\":20}\n",
    "for i in ex.values():\n",
    "    print(i,\" these are the values\")\n",
    "    "
   ]
  },
  {
   "cell_type": "code",
   "execution_count": 89,
   "id": "e39012b2",
   "metadata": {},
   "outputs": [
    {
     "data": {
      "text/plain": [
       "dict_items([('name', 'vignesh'), ('age', 21), ('DOB', '29th april')])"
      ]
     },
     "execution_count": 89,
     "metadata": {},
     "output_type": "execute_result"
    }
   ],
   "source": [
    "# items() - it returns the entire dict as a list\n",
    "dict1 = {\"name\":\"vignesh\",\"age\":21,\"DOB\":\"29th april\"}\n",
    "dict1.items()"
   ]
  },
  {
   "cell_type": "code",
   "execution_count": 90,
   "id": "7328be7b",
   "metadata": {},
   "outputs": [
    {
     "name": "stdout",
     "output_type": "stream",
     "text": [
      "20\n",
      "{'name': 'vignesh', 'education': 'cse'} this is the dict after removing the age\n"
     ]
    }
   ],
   "source": [
    "#pop() - reomves an specific element\n",
    "print(ex.pop(\"age\"))\n",
    "print(ex,\"this is the dict after removing the age\")"
   ]
  },
  {
   "cell_type": "code",
   "execution_count": 3,
   "id": "be6b73e6",
   "metadata": {},
   "outputs": [
    {
     "name": "stdout",
     "output_type": "stream",
     "text": [
      "{'name': 'vignesh', 'age': 21, 'DOB': '29th april', 'colege': 'drk'}  this is the dict after adding the college by update() method\n"
     ]
    }
   ],
   "source": [
    "# update - adds an element at last\n",
    "dict1 = {\"name\":\"vignesh\",\"age\":21,\"DOB\":\"29th april\"}\n",
    "dict1.update({\"colege\":\"drk\"})\n",
    "print(dict1,\" this is the dict after adding the college by update() method\")"
   ]
  },
  {
   "cell_type": "code",
   "execution_count": 34,
   "id": "088255e1",
   "metadata": {},
   "outputs": [
    {
     "name": "stdout",
     "output_type": "stream",
     "text": [
      "[1, 2, 3, 4]\n",
      "[14, 67, 32]\n"
     ]
    }
   ],
   "source": [
    "# accesing the values in dict by skipping 1st element\n",
    "my_dict = {\"key1\":1,\"key2\":[1,2,3,4],\"key3\":[14,67,32]}\n",
    "\n",
    "for i in list(my_dict.values())[1:]:\n",
    "    print(i)"
   ]
  },
  {
   "cell_type": "code",
   "execution_count": 37,
   "id": "c77c612a",
   "metadata": {},
   "outputs": [
    {
     "name": "stdout",
     "output_type": "stream",
     "text": [
      "my edu is btech my age is 26 contact is 12345678\n"
     ]
    }
   ],
   "source": [
    "# accesing elements in the dictionary by keys or  we can also use get()\n",
    "sample_dict = {\"demographic info\":[\"sai charan\",26,\"13/11/1997\"],\"education\":[\"btech\",\"inter\"],\"phno\":12345678}\n",
    "print(\"my edu is\",sample_dict[\"education\"][0],\"my age is\",sample_dict.get(\"demographic info\")[1], \"contact is\",sample_dict.get(\"phno\"))"
   ]
  },
  {
   "cell_type": "code",
   "execution_count": null,
   "id": "a5f34ad0",
   "metadata": {},
   "outputs": [],
   "source": []
  }
 ],
 "metadata": {
  "kernelspec": {
   "display_name": "Python 3 (ipykernel)",
   "language": "python",
   "name": "python3"
  },
  "language_info": {
   "codemirror_mode": {
    "name": "ipython",
    "version": 3
   },
   "file_extension": ".py",
   "mimetype": "text/x-python",
   "name": "python",
   "nbconvert_exporter": "python",
   "pygments_lexer": "ipython3",
   "version": "3.11.5"
  }
 },
 "nbformat": 4,
 "nbformat_minor": 5
}
