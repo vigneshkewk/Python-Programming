{
 "cells": [
  {
   "cell_type": "code",
   "execution_count": 8,
   "id": "4e2bc586",
   "metadata": {},
   "outputs": [],
   "source": [
    "# for loop is used to accessing each and every element in a data structure\n",
    "# for loop is used when we konw the no.of outputs\n",
    "#syntax - \n",
    "#for i  in datastructure:\n",
    " #   print(i)\n"
   ]
  },
  {
   "cell_type": "code",
   "execution_count": 2,
   "id": "817c8dd3",
   "metadata": {},
   "outputs": [
    {
     "name": "stdout",
     "output_type": "stream",
     "text": [
      "2\n",
      "3\n",
      "4\n",
      "5\n",
      "6\n"
     ]
    }
   ],
   "source": [
    "my_list  = [2,3,4,5,6]\n",
    "for i in my_list:\n",
    "    print(i)"
   ]
  },
  {
   "cell_type": "code",
   "execution_count": 4,
   "id": "d4b65c2b",
   "metadata": {},
   "outputs": [
    {
     "name": "stdout",
     "output_type": "stream",
     "text": [
      "0\n",
      "1\n",
      "2\n",
      "3\n",
      "4\n"
     ]
    }
   ],
   "source": [
    "#this code prints the index values for all types of ds\n",
    "# this is better to use than above one\n",
    "# because we do not care abput inputs or data , just we need indexx\n",
    "for i in range(len(my_list)):print(i)  # also works like this"
   ]
  },
  {
   "cell_type": "code",
   "execution_count": 45,
   "id": "e3e89348",
   "metadata": {},
   "outputs": [
    {
     "name": "stdout",
     "output_type": "stream",
     "text": [
      "2\n",
      "4\n",
      "6\n",
      "7\n",
      "8\n"
     ]
    }
   ],
   "source": [
    "l1 = [2,4,6,7,8]\n",
    "for i in l1:\n",
    "    print(i)"
   ]
  },
  {
   "cell_type": "code",
   "execution_count": 46,
   "id": "1fd93d9a",
   "metadata": {},
   "outputs": [
    {
     "name": "stdout",
     "output_type": "stream",
     "text": [
      "2\n",
      "4\n",
      "6\n"
     ]
    }
   ],
   "source": [
    "# here we are accessing elements till 6 \n",
    "for i in l1:\n",
    "    print(i)\n",
    "    if i==6:\n",
    "        break"
   ]
  },
  {
   "cell_type": "code",
   "execution_count": 51,
   "id": "104003b0",
   "metadata": {},
   "outputs": [
    {
     "name": "stdout",
     "output_type": "stream",
     "text": [
      "5\n",
      "10\n",
      "15\n",
      "20\n",
      "25\n"
     ]
    }
   ],
   "source": [
    " u = [1,2,3,4,5]\n",
    "for i in u:\n",
    "    print(i*5)"
   ]
  },
  {
   "cell_type": "code",
   "execution_count": 1,
   "id": "0a0eefc3",
   "metadata": {},
   "outputs": [
    {
     "name": "stdout",
     "output_type": "stream",
     "text": [
      "120\n"
     ]
    }
   ],
   "source": [
    "## do a code to add/mutiply all the elemetns in a list one by one\n",
    "u = [1,2,3,4,5]\n",
    "counter = 1\n",
    "for i in u:\n",
    "    counter*=i\n",
    "    \n",
    "print(counter)"
   ]
  },
  {
   "cell_type": "code",
   "execution_count": 2,
   "id": "4fddcb1b",
   "metadata": {},
   "outputs": [
    {
     "name": "stdout",
     "output_type": "stream",
     "text": [
      "1\n",
      "2\n",
      "3\n",
      "4\n",
      "5\n",
      "6\n",
      "7\n",
      "8\n",
      "9\n"
     ]
    }
   ],
   "source": [
    "# here we used nested for loop\n",
    "k = [[1,2,3],[4,5,6],[7,8,9]]\n",
    "for i in k:\n",
    "    for j in i:\n",
    "       print(j)"
   ]
  },
  {
   "cell_type": "code",
   "execution_count": 3,
   "id": "f229d92f",
   "metadata": {},
   "outputs": [
    {
     "name": "stdout",
     "output_type": "stream",
     "text": [
      "hello\n",
      "1\n",
      "2\n",
      "3\n",
      "4\n",
      "5\n",
      "6\n",
      "im python\n"
     ]
    }
   ],
   "source": [
    "f = [[\"hello\",1,2,3],[4,5,6,\"im python\"]]\n",
    "for i in f:\n",
    "    for j in i:\n",
    "        print(j)"
   ]
  },
  {
   "cell_type": "code",
   "execution_count": 5,
   "id": "7c28ab0d",
   "metadata": {},
   "outputs": [
    {
     "name": "stdout",
     "output_type": "stream",
     "text": [
      "1\n",
      "2\n",
      "3\n",
      "4\n",
      "5\n",
      "6\n"
     ]
    }
   ],
   "source": [
    "# program to print only int or string elements\n",
    "f = [[\"hello\",1,2,3],[4,5,6,\"im python\"]]\n",
    "for i in f:\n",
    "    for j in i:\n",
    "       if type(j) is int:\n",
    "        print(j)\n",
    "        \n",
    "    \n",
    "    "
   ]
  },
  {
   "cell_type": "code",
   "execution_count": 8,
   "id": "90c00fb5",
   "metadata": {},
   "outputs": [
    {
     "name": "stdout",
     "output_type": "stream",
     "text": [
      "6\n",
      "7\n",
      "8\n",
      "9\n",
      "10\n",
      "11\n",
      "12\n",
      "13\n",
      "14\n",
      "15\n"
     ]
    }
   ],
   "source": [
    "#consider 10 elements\n",
    "#add 5 to all the elements\n",
    "for each_element in range(1,11):\n",
    "    print(each_element+5)"
   ]
  },
  {
   "cell_type": "code",
   "execution_count": 9,
   "id": "18c70ca8",
   "metadata": {},
   "outputs": [
    {
     "name": "stdout",
     "output_type": "stream",
     "text": [
      "5\n",
      "10\n",
      "15\n",
      "20\n",
      "25\n",
      "30\n",
      "35\n",
      "40\n",
      "45\n",
      "50\n"
     ]
    }
   ],
   "source": [
    "#consider 10 elements\n",
    "# multiply 5 to all the elements\n",
    "for each_element in range(1,11):\n",
    "    print(each_element*5)"
   ]
  },
  {
   "cell_type": "code",
   "execution_count": 21,
   "id": "13157240",
   "metadata": {},
   "outputs": [
    {
     "name": "stdout",
     "output_type": "stream",
     "text": [
      "1\n",
      "4\n",
      "9\n",
      "16\n",
      "25\n",
      "36\n",
      "49\n",
      "64\n",
      "81\n",
      "100\n"
     ]
    }
   ],
   "source": [
    "#consider 10 elements\n",
    "#square of all the elements\n",
    "for each_element in range(1,11):\n",
    "    print(each_element**2)"
   ]
  },
  {
   "cell_type": "code",
   "execution_count": 14,
   "id": "17b51cbe",
   "metadata": {},
   "outputs": [
    {
     "name": "stdout",
     "output_type": "stream",
     "text": [
      "2\n",
      "4\n",
      "6\n",
      "8\n",
      "10\n",
      "12\n",
      "14\n",
      "16\n",
      "18\n",
      "20\n",
      "22\n",
      "24\n",
      "26\n",
      "28\n",
      "30\n",
      "32\n",
      "34\n",
      "36\n",
      "38\n",
      "40\n",
      "42\n",
      "44\n",
      "46\n",
      "48\n",
      "50\n",
      "52\n",
      "54\n",
      "56\n",
      "58\n",
      "60\n",
      "62\n",
      "64\n",
      "66\n",
      "68\n",
      "70\n",
      "72\n",
      "74\n",
      "76\n",
      "78\n",
      "80\n",
      "82\n",
      "84\n",
      "86\n",
      "88\n",
      "90\n",
      "92\n",
      "94\n",
      "96\n",
      "98\n",
      "100\n"
     ]
    }
   ],
   "source": [
    "# Numbers from 1 to 100\n",
    "# even numbers from 1 to 100\n",
    "# odd numbers from 1 to 100\n",
    "# countdown 10 to 1\n",
    "# countdown from 10 to 1 with decrement of 2\n",
    "# Even numbers and odd numbers with if and else condition\n",
    "# Sum of numbers\n",
    "# Sum of numbers with a constant element\n",
    "# multiplication of numbers\n",
    "# squares of the number\n",
    "# count vowels in a string\n",
    "\n",
    "\n",
    "# even numbers\n",
    "for i in range(1,101):\n",
    "    if i%2 == 0:\n",
    "        print(i)"
   ]
  },
  {
   "cell_type": "code",
   "execution_count": 15,
   "id": "78463fd9",
   "metadata": {},
   "outputs": [
    {
     "name": "stdout",
     "output_type": "stream",
     "text": [
      "1\n",
      "3\n",
      "5\n",
      "7\n",
      "9\n",
      "11\n",
      "13\n",
      "15\n",
      "17\n",
      "19\n",
      "21\n",
      "23\n",
      "25\n",
      "27\n",
      "29\n",
      "31\n",
      "33\n",
      "35\n",
      "37\n",
      "39\n",
      "41\n",
      "43\n",
      "45\n",
      "47\n",
      "49\n",
      "51\n",
      "53\n",
      "55\n",
      "57\n",
      "59\n",
      "61\n",
      "63\n",
      "65\n",
      "67\n",
      "69\n",
      "71\n",
      "73\n",
      "75\n",
      "77\n",
      "79\n",
      "81\n",
      "83\n",
      "85\n",
      "87\n",
      "89\n",
      "91\n",
      "93\n",
      "95\n",
      "97\n",
      "99\n"
     ]
    }
   ],
   "source": [
    "for i in range(1,101):\n",
    "    if i%2 != 0:\n",
    "        print(i)"
   ]
  },
  {
   "cell_type": "code",
   "execution_count": 39,
   "id": "c419e39f",
   "metadata": {},
   "outputs": [
    {
     "name": "stdout",
     "output_type": "stream",
     "text": [
      "10\n",
      "9\n",
      "8\n",
      "7\n",
      "6\n",
      "5\n",
      "4\n",
      "3\n",
      "2\n",
      "1\n"
     ]
    }
   ],
   "source": [
    "# countdown 10 to 1\n",
    "for i in range(10,0,-1):\n",
    "    print(i)\n",
    "    "
   ]
  },
  {
   "cell_type": "code",
   "execution_count": 44,
   "id": "932bbfdb",
   "metadata": {},
   "outputs": [
    {
     "name": "stdout",
     "output_type": "stream",
     "text": [
      "10\n",
      "9\n",
      "8\n",
      "7\n",
      "6\n",
      "5\n",
      "4\n",
      "3\n",
      "2\n",
      "1\n"
     ]
    }
   ],
   "source": [
    "# countdown 10 to 1 with 2 sec interval\n",
    "import time\n",
    "for i in range(10,0,-1):\n",
    "    time.sleep(2)\n",
    "    print(i)\n",
    "    "
   ]
  },
  {
   "cell_type": "code",
   "execution_count": 3,
   "id": "3caddf82",
   "metadata": {},
   "outputs": [
    {
     "name": "stdout",
     "output_type": "stream",
     "text": [
      "2\n",
      "4\n",
      "6\n",
      "8\n",
      "10\n",
      "12\n",
      "14\n",
      "16\n",
      "18\n",
      "20\n",
      "22\n",
      "24\n",
      "26\n",
      "28\n",
      "30\n",
      "32\n",
      "34\n",
      "36\n",
      "38\n",
      "40\n",
      "42\n",
      "44\n",
      "46\n",
      "48\n"
     ]
    }
   ],
   "source": [
    "# Even numbers and odd numbers with if and else condition\n",
    "for i in range(1,50):\n",
    "    if i%2 == 0:\n",
    "        print(i)\n",
    "    else:\n",
    "        continue\n",
    "\n",
    "\n",
    "# for j in range(1,200):\n",
    "#     if j%2 != 0:\n",
    "#         print(j)   \n",
    "        \n",
    "   "
   ]
  },
  {
   "cell_type": "code",
   "execution_count": 4,
   "id": "91f30d20",
   "metadata": {},
   "outputs": [
    {
     "name": "stdout",
     "output_type": "stream",
     "text": [
      "9\n"
     ]
    }
   ],
   "source": [
    "# Sum of numbers\n",
    "count = 1\n",
    "for i in range(1,10):\n",
    "    count += i\n",
    "    \n",
    "print(i)"
   ]
  },
  {
   "cell_type": "code",
   "execution_count": 5,
   "id": "7e71fcf0",
   "metadata": {},
   "outputs": [
    {
     "name": "stdout",
     "output_type": "stream",
     "text": [
      "enter your string: igixsasxdc fhvbbnoibvge\n",
      "6\n"
     ]
    }
   ],
   "source": [
    "# count vowels in a string\n",
    "a=  input(\"enter your string: \")\n",
    "vowel_check = [\"a\",\"e\",\"i\",\"o\",\"u\"]\n",
    "vowel_count = 0\n",
    "for i in a:\n",
    "    if i.lower() in vowel_check:\n",
    "        vowel_count += 1\n",
    "print(vowel_count)\n",
    " "
   ]
  },
  {
   "cell_type": "code",
   "execution_count": 2,
   "id": "2fec2486",
   "metadata": {},
   "outputs": [
    {
     "name": "stdout",
     "output_type": "stream",
     "text": [
      "no\n",
      "yes\n",
      "yes\n",
      "no\n"
     ]
    }
   ],
   "source": [
    "# palindrome\n",
    "list1  = [233,232,454,455]\n",
    "for i in list1:\n",
    "    if str(i) == str(i)[::-1]:\n",
    "        print(\"yes\")\n",
    "    else:\n",
    "        print(\"no\")"
   ]
  },
  {
   "cell_type": "code",
   "execution_count": 3,
   "id": "3733e276",
   "metadata": {},
   "outputs": [
    {
     "name": "stdout",
     "output_type": "stream",
     "text": [
      "no\n",
      "yes\n",
      "yes\n",
      "no\n"
     ]
    }
   ],
   "source": [
    "# palindrome checking in a list\n",
    "list1  = [233,232,454,455]\n",
    "for i in list1:\n",
    "    if str(i) == str(i)[::-1]:\n",
    "        print(\"yes\")\n",
    "    else:\n",
    "        print(\"no\")"
   ]
  },
  {
   "cell_type": "code",
   "execution_count": 6,
   "id": "075bb4f8",
   "metadata": {},
   "outputs": [
    {
     "name": "stdout",
     "output_type": "stream",
     "text": [
      "enter your word: lisil\n",
      "yes it is a palindrome\n"
     ]
    }
   ],
   "source": [
    "v1= input(\"enter your word: \")\n",
    "v2= v1[::-1]\n",
    "if v1==v2:\n",
    "    print(\"yes it is a palindrome\")\n",
    "else:\n",
    "    print(\"not a palindrome\")"
   ]
  },
  {
   "cell_type": "code",
   "execution_count": 7,
   "id": "9e3d979a",
   "metadata": {},
   "outputs": [
    {
     "name": "stdout",
     "output_type": "stream",
     "text": [
      "2\n",
      "3\n",
      "5\n",
      "7\n"
     ]
    }
   ],
   "source": [
    "# print prime numbers\n",
    "for i in range(2, 10):\n",
    "    is_prime = True\n",
    "    for j in range(2, i):\n",
    "        if i % j == 0:\n",
    "            is_prime = False\n",
    "            break\n",
    "    if is_prime:\n",
    "        print(i)\n"
   ]
  }
 ],
 "metadata": {
  "kernelspec": {
   "display_name": "Python 3 (ipykernel)",
   "language": "python",
   "name": "python3"
  },
  "language_info": {
   "codemirror_mode": {
    "name": "ipython",
    "version": 3
   },
   "file_extension": ".py",
   "mimetype": "text/x-python",
   "name": "python",
   "nbconvert_exporter": "python",
   "pygments_lexer": "ipython3",
   "version": "3.11.5"
  }
 },
 "nbformat": 4,
 "nbformat_minor": 5
}
