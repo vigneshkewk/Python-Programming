{
 "cells": [
  {
   "cell_type": "code",
   "execution_count": null,
   "id": "adfda148",
   "metadata": {},
   "outputs": [],
   "source": [
    "#string methods - \n",
    "#string maniuipulation:-upper() , lower()\n",
    "#startwith() -- true or false output\n",
    "#endswith() -- true or false output\n",
    "#-----------------------------------------------------\n",
    "#string checking:-\n",
    "#find() -- finds the element in the string\n",
    "#captilize() -- capitals the first letter\n",
    "#isupper() -- true or false output\n",
    "#islower() -- true or false output\n",
    "#isdigit() -- checks the value if its only number or not.\n",
    "#isascii()-- ascii is valued from 1 to 128.\n",
    "#isdecimal() -- checks whether the value is decimal value.\n",
    "#isalnum() -- true or false op (to check if all the elements are combination of numerical values or not)\n",
    "#isalpha() -- t or f(to check weather all elements are alphabets)\n",
    "#isnumeric() -- t or f (checks whesther the elements are all numerical values)\n",
    "#isidentifier() -- combination of alphabet, numbers and special charecters\n",
    "#count() -- count the mentioned letter in the string\n",
    "#join() -- print the mentioned variable for every letter of the other variable\n",
    "#strip(\"first letter of string\") -- removes the first letter\n",
    "#casefold() -- converts every thing to smaller case\n",
    "\n",
    "#expandtabs(x)-expands spaces in between the string \n",
    "#ljust(x) --- it justifies the string in output.x values are whole numbers"
   ]
  },
  {
   "cell_type": "code",
   "execution_count": 3,
   "id": "a99f6e45",
   "metadata": {},
   "outputs": [],
   "source": [
    "# strings  = sequence of characters\n",
    "# when paragraph we use '''paragraph''' (triple single quotes)"
   ]
  },
  {
   "cell_type": "code",
   "execution_count": 8,
   "id": "232250e5",
   "metadata": {},
   "outputs": [
    {
     "name": "stdout",
     "output_type": "stream",
     "text": [
      "a b\n"
     ]
    }
   ],
   "source": [
    "a = \"a\"\n",
    "b= \"b\"\n",
    "c = a + \" \"+b\n",
    "print(c)"
   ]
  },
  {
   "cell_type": "code",
   "execution_count": 15,
   "id": "0e099d40",
   "metadata": {},
   "outputs": [
    {
     "data": {
      "text/plain": [
       "'b b b b b b b '"
      ]
     },
     "execution_count": 15,
     "metadata": {},
     "output_type": "execute_result"
    }
   ],
   "source": [
    "#multpilication of string means printing it again\n",
    "(b+ \" \")* 7"
   ]
  },
  {
   "cell_type": "code",
   "execution_count": 17,
   "id": "1674782b",
   "metadata": {},
   "outputs": [
    {
     "name": "stdout",
     "output_type": "stream",
     "text": [
      "g1\n"
     ]
    }
   ],
   "source": [
    "a1 = \"g\"\n",
    "a2 = 1\n",
    "f = a1+str(a2)\n",
    "print(f)"
   ]
  },
  {
   "cell_type": "code",
   "execution_count": 20,
   "id": "a0bcbfd1",
   "metadata": {},
   "outputs": [
    {
     "name": "stdout",
     "output_type": "stream",
     "text": [
      "hello world\n",
      "=============\n",
      "im vignesh\n",
      "my goals are beyond ur imagination\n",
      "=============\n"
     ]
    }
   ],
   "source": [
    "print(\"hello world\")\n",
    "print(\"=\"*13)\n",
    "print(\"im vignesh\")\n",
    "print(\"my goals are beyond ur imagination\")\n",
    "print(\"=\"*13)"
   ]
  },
  {
   "cell_type": "code",
   "execution_count": 2,
   "id": "b5d3265a",
   "metadata": {},
   "outputs": [
    {
     "name": "stdout",
     "output_type": "stream",
     "text": [
      "hell\n",
      "hlog\n"
     ]
    }
   ],
   "source": [
    "#indexing\n",
    "#vignesh\n",
    "#^^^^^^^\n",
    "#0123456 for +ve | for -ve -6 -5 -4 -3 -2 -1 goes from right to left\n",
    "# two types indexing +ve(o to n) and -ve(-1 to n) \n",
    "#syntax = variable[start:end] here end point will be 1 less\n",
    "string1 = \"hello good morning\"\n",
    "print(string1[0:4])\n",
    "print(string1[0:8:2])"
   ]
  },
  {
   "cell_type": "markdown",
   "id": "a2095137",
   "metadata": {},
   "source": [
    "# an string is immutable i.e can never be changed "
   ]
  },
  {
   "cell_type": "code",
   "execution_count": 3,
   "id": "9d269adb",
   "metadata": {},
   "outputs": [
    {
     "name": "stdout",
     "output_type": "stream",
     "text": [
      "senju\n",
      "VIGNESH\n",
      "senju\n",
      "1\n",
      "vigneshSENJU\n",
      "Vignesh\n",
      "True\n",
      "False\n",
      "SvigneshEvigneshNvigneshJvigneshU\n",
      "senju\n",
      "False\n",
      "True\n",
      "ENJU\n",
      "viguesh\n",
      "Vignesh\n"
     ]
    },
    {
     "data": {
      "text/plain": [
       "['vign', 'sh']"
      ]
     },
     "execution_count": 3,
     "metadata": {},
     "output_type": "execute_result"
    }
   ],
   "source": [
    "# string operations (more in w3 schools)\n",
    "a= \"vignesh\"\n",
    "b = \"SENJU\"\n",
    "print(b.lower())\n",
    "print(a.upper())\n",
    "print(b.lower())\n",
    "print(a.count(\"e\")) #says how may times it has repeated\n",
    "print(a+b) # string concatenation\n",
    "print(a.capitalize()) # it will make the first letter capital\n",
    "print(a.islower()) #it returns true or false based on the upper case or lower case of string\n",
    "print(a.isupper()) \n",
    "print(a.join(b))#  prints my joining words between the string\n",
    "print(b.casefold()) # converts uppercase to lower case\n",
    "print(a.startswith(\"i\")) #checks whether it startts with that letter or not\n",
    "print(a.startswith(\"v\"))\n",
    "print(b.strip(\"S\")) # removes the frst letter\n",
    "#Alphanumeric = combinaton of numbers and charaacters\n",
    "\"AP28CD1900\".isalnum() #returns true if it is alphanumeric else false\n",
    "# replace() \n",
    "print(a.replace(\"n\",\"u\")) #used to replce characters in a string\n",
    "#title() converts the string in to a title\n",
    "print(a.title())\n",
    "#split() it will split it in to two \n",
    "a.split(\"e\")"
   ]
  },
  {
   "cell_type": "code",
   "execution_count": 22,
   "id": "e26f888b",
   "metadata": {},
   "outputs": [
    {
     "name": "stdout",
     "output_type": "stream",
     "text": [
      "Apple Iphone 15 128GB Blue\n"
     ]
    }
   ],
   "source": [
    "#string slicing usnig indexes\n",
    "string1 = \"Apple Iphone 15 (128GB) - Blue\"\n",
    "len(string1)\n",
    "# now lets create variables using above string\n",
    "Brand = string1[0:5]\n",
    "model = string1[6:15]\n",
    "storage = string1[17:22]\n",
    "color = string1[26:]\n",
    "print(Brand,model,storage,color)"
   ]
  },
  {
   "cell_type": "code",
   "execution_count": 71,
   "id": "bf77af1f",
   "metadata": {},
   "outputs": [],
   "source": [
    "a = 1,2\n",
    "b="
   ]
  },
  {
   "cell_type": "code",
   "execution_count": 72,
   "id": "83a601a8",
   "metadata": {},
   "outputs": [
    {
     "name": "stdout",
     "output_type": "stream",
     "text": [
      "(1, 2)\n"
     ]
    }
   ],
   "source": [
    "print(a)"
   ]
  },
  {
   "cell_type": "markdown",
   "id": "8cd362be",
   "metadata": {},
   "source": [
    "# Disadvantages of Strings\n",
    "\n",
    "- immutable - once defined we cannot change it\n",
    "- increased complexity"
   ]
  },
  {
   "cell_type": "code",
   "execution_count": 7,
   "id": "8e4c8e34",
   "metadata": {},
   "outputs": [
    {
     "name": "stdout",
     "output_type": "stream",
     "text": [
      "vSENJUiSENJUgSENJUnSENJUeSENJUsSENJUh\n"
     ]
    }
   ],
   "source": [
    "print(b.join(a))"
   ]
  },
  {
   "cell_type": "code",
   "execution_count": 5,
   "id": "53455713",
   "metadata": {},
   "outputs": [
    {
     "data": {
      "text/plain": [
       "'vignesh'"
      ]
     },
     "execution_count": 5,
     "metadata": {},
     "output_type": "execute_result"
    }
   ],
   "source": [
    "a"
   ]
  },
  {
   "cell_type": "markdown",
   "id": "24238a46",
   "metadata": {},
   "source": [
    "# Excercise\n"
   ]
  },
  {
   "cell_type": "code",
   "execution_count": 24,
   "id": "13548e79",
   "metadata": {},
   "outputs": [
    {
     "name": "stdout",
     "output_type": "stream",
     "text": [
      "12\n",
      "World Good Morning\n",
      "World Good Morning\n",
      "Decided to take a vacation\n"
     ]
    }
   ],
   "source": [
    "st1= \"Hello World Good Morning. I am python\"\n",
    "str2 = \"So , my remote red light haas deciced to take a vacation. Got any quick fixes or should I start planning a funeral\"\n",
    "#1\n",
    "print(st1.find(\"Good\"))\n",
    "print(st1[6:24])\n",
    "print(st1[-31:-13])\n",
    "#2\n",
    "keyword1 = \"TV remote\"\n",
    "keyword2 = \"Red light\"\n",
    "action_word=\"Decided to take a vacation\"\n"
   ]
  },
  {
   "cell_type": "markdown",
   "id": "d1af2beb",
   "metadata": {},
   "source": [
    "# string Format\n"
   ]
  },
  {
   "cell_type": "code",
   "execution_count": 27,
   "id": "2dcaaf6f",
   "metadata": {},
   "outputs": [
    {
     "name": "stdout",
     "output_type": "stream",
     "text": [
      "Hello name im from class\n",
      "hello name you are studying in class\n",
      "hello name you are studying in class\n"
     ]
    }
   ],
   "source": [
    "A = \"name\"\n",
    "B = \"class\"\n",
    "print(\"Hello\",A,\"im from\",B)\n",
    "#instead use string format\n",
    "print(\"hello {} you are studying in {}\".format(A,B))\n",
    "# another method\n",
    "print(f\"hello {A} you are studying in {B}\")"
   ]
  },
  {
   "cell_type": "markdown",
   "id": "020a57a3",
   "metadata": {},
   "source": [
    "# String slicing\n"
   ]
  },
  {
   "cell_type": "code",
   "execution_count": 46,
   "id": "0f0efd60",
   "metadata": {},
   "outputs": [
    {
     "name": "stdout",
     "output_type": "stream",
     "text": [
      "y\n",
      "y\n",
      "hello \n",
      "hello\n"
     ]
    }
   ],
   "source": [
    "a = \"hello my name is vignesh im a 4th year student\"\n",
    "print(a[7]) #+ve indexing\n",
    "print(a[-39]) #-ve indexing\n",
    "# accesing a string based on index range\n",
    "#variable[start:end]\n",
    "print(a[0:6]) # +ve\n",
    "print(a[-46:-41]) #-ve\n"
   ]
  },
  {
   "cell_type": "code",
   "execution_count": 1,
   "id": "3ec5f71e",
   "metadata": {},
   "outputs": [
    {
     "name": "stdout",
     "output_type": "stream",
     "text": [
      "yes palindrome\n"
     ]
    }
   ],
   "source": [
    "v1 = \"eye\"\n",
    "v2 = v1[::-1]\n",
    "if v1 == v2:\n",
    "    print(\"yes palindrome\")\n",
    "else:\n",
    "    print(\"no\")"
   ]
  },
  {
   "cell_type": "markdown",
   "id": "80d6910f",
   "metadata": {},
   "source": [
    "# convert the awarded rank1 into 1"
   ]
  },
  {
   "cell_type": "code",
   "execution_count": 3,
   "id": "b794290f",
   "metadata": {},
   "outputs": [
    {
     "name": "stdout",
     "output_type": "stream",
     "text": [
      "1\n",
      "2\n",
      "3\n"
     ]
    }
   ],
   "source": [
    "col_name= \"result\"\n",
    "row1=  \"awarded rank 1\"\n",
    "row2=  \"awarded rank 2\"\n",
    "row3=  \"awarded rank 3\"\n",
    "new_col_name = \"rank\"\n",
    "newrow1 = row1[-1]\n",
    "print(newrow1)\n",
    "newrow2 = row2[-1]\n",
    "print(newrow2)\n",
    "newrow3 = row3[-1]\n",
    "print(newrow3)"
   ]
  },
  {
   "cell_type": "markdown",
   "id": "047aa041",
   "metadata": {},
   "source": [
    "# Palindrome"
   ]
  },
  {
   "cell_type": "code",
   "execution_count": 3,
   "id": "49ddf5b4",
   "metadata": {},
   "outputs": [
    {
     "name": "stdout",
     "output_type": "stream",
     "text": [
      "enterefesf\n",
      "it is not a palindrome\n"
     ]
    }
   ],
   "source": [
    "v1 = input(\"enter\")\n",
    "v2 = v1[::-1]\n",
    "if v1==v2:\n",
    "    print(\"yes it is a palindrome\")\n",
    "else :\n",
    "    print(\"it is not a palindrome\")"
   ]
  },
  {
   "cell_type": "code",
   "execution_count": null,
   "id": "b7f94544",
   "metadata": {},
   "outputs": [],
   "source": []
  }
 ],
 "metadata": {
  "kernelspec": {
   "display_name": "Python 3 (ipykernel)",
   "language": "python",
   "name": "python3"
  },
  "language_info": {
   "codemirror_mode": {
    "name": "ipython",
    "version": 3
   },
   "file_extension": ".py",
   "mimetype": "text/x-python",
   "name": "python",
   "nbconvert_exporter": "python",
   "pygments_lexer": "ipython3",
   "version": "3.11.5"
  }
 },
 "nbformat": 4,
 "nbformat_minor": 5
}
