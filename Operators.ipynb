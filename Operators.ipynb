{
 "cells": [
  {
   "cell_type": "code",
   "execution_count": 11,
   "id": "63b8c107",
   "metadata": {},
   "outputs": [
    {
     "data": {
      "text/plain": [
       "5"
      ]
     },
     "execution_count": 11,
     "metadata": {},
     "output_type": "execute_result"
    }
   ],
   "source": [
    "def add(x,y):\n",
    "    d = x+y\n",
    "    return d\n",
    "    \n",
    "add(2,3)"
   ]
  },
  {
   "cell_type": "code",
   "execution_count": 1,
   "id": "84d10110",
   "metadata": {},
   "outputs": [
    {
     "name": "stdout",
     "output_type": "stream",
     "text": [
      "hi my name is vignesh my age is 23 my skills are python,ML\n"
     ]
    }
   ],
   "source": [
    "name = \"vignesh\"\n",
    "Age = 23\n",
    "skills = \"python,ML\"\n",
    "print(\"hi my name is\", name, \"my age is\", Age,\"my skills are\",skills)"
   ]
  },
  {
   "cell_type": "code",
   "execution_count": 4,
   "id": "1a6e9c27",
   "metadata": {},
   "outputs": [
    {
     "data": {
      "text/plain": [
       "2"
      ]
     },
     "execution_count": 4,
     "metadata": {},
     "output_type": "execute_result"
    }
   ],
   "source": [
    "# modulo\n",
    "987898 % 56 #modulo division returns the remainder"
   ]
  },
  {
   "cell_type": "code",
   "execution_count": 7,
   "id": "0d02e6dc",
   "metadata": {},
   "outputs": [
    {
     "data": {
      "text/plain": [
       "5"
      ]
     },
     "execution_count": 7,
     "metadata": {},
     "output_type": "execute_result"
    }
   ],
   "source": [
    "#double division\n",
    "\n",
    "10//2 #it gives the output in int form unlike normal divison(gives float)"
   ]
  },
  {
   "cell_type": "markdown",
   "id": "4defcc70",
   "metadata": {},
   "source": [
    "# Arithmetic Operators"
   ]
  },
  {
   "cell_type": "code",
   "execution_count": 29,
   "id": "7153a4f0",
   "metadata": {},
   "outputs": [
    {
     "name": "stdout",
     "output_type": "stream",
     "text": [
      "The sum is 54\n",
      "The difference is 14\n",
      "The division is 1.7\n",
      "The product is 680\n",
      "The double division is 1\n",
      "The modulous is 14\n"
     ]
    }
   ],
   "source": [
    "#Arithmetic operators\n",
    "v1  = 34\n",
    "v2  = 20\n",
    "print(\"The sum is\",v1+v2)\n",
    "print(\"The difference is\",v1-v2)\n",
    "print(\"The division is\",v1/v2)\n",
    "print(\"The product is\",v1*v2)\n",
    "print(\"The double division is\",v1//v2)\n",
    "print(\"The modulous is\",v1%v2)"
   ]
  },
  {
   "cell_type": "markdown",
   "id": "c0918c7b",
   "metadata": {},
   "source": [
    "# Assignment Operators"
   ]
  },
  {
   "cell_type": "code",
   "execution_count": 30,
   "id": "2eb81f87",
   "metadata": {},
   "outputs": [
    {
     "name": "stdout",
     "output_type": "stream",
     "text": [
      "5\n"
     ]
    }
   ],
   "source": [
    "#Assignment operators\n",
    "x= 3\n",
    "x += 2 # syntax is <variable> <operator> <variable 2>\n",
    "print(x) "
   ]
  },
  {
   "cell_type": "code",
   "execution_count": 33,
   "id": "9f9a4846",
   "metadata": {},
   "outputs": [
    {
     "name": "stdout",
     "output_type": "stream",
     "text": [
      "-11\n"
     ]
    }
   ],
   "source": [
    "y = 45\n",
    "y -= 56 # same syntax as above\n",
    "print(y)"
   ]
  },
  {
   "cell_type": "markdown",
   "id": "f45b1ff4",
   "metadata": {},
   "source": [
    "# Comparitive Operators"
   ]
  },
  {
   "cell_type": "code",
   "execution_count": 41,
   "id": "534e2e00",
   "metadata": {},
   "outputs": [
    {
     "data": {
      "text/plain": [
       "True"
      ]
     },
     "execution_count": 41,
     "metadata": {},
     "output_type": "execute_result"
    }
   ],
   "source": [
    "# less than <\n",
    "# greater than >\n",
    "# equal to ==\n",
    "# not equal to !=\n",
    "#less than or equal to >=\n",
    "#greater than or equal to <=\n",
    "3<4\n"
   ]
  },
  {
   "cell_type": "code",
   "execution_count": 36,
   "id": "d147c613",
   "metadata": {},
   "outputs": [
    {
     "data": {
      "text/plain": [
       "False"
      ]
     },
     "execution_count": 36,
     "metadata": {},
     "output_type": "execute_result"
    }
   ],
   "source": [
    "3>4"
   ]
  },
  {
   "cell_type": "code",
   "execution_count": 37,
   "id": "5a6edeba",
   "metadata": {},
   "outputs": [
    {
     "data": {
      "text/plain": [
       "True"
      ]
     },
     "execution_count": 37,
     "metadata": {},
     "output_type": "execute_result"
    }
   ],
   "source": [
    "4 == 4"
   ]
  },
  {
   "cell_type": "code",
   "execution_count": 39,
   "id": "51aee3c6",
   "metadata": {},
   "outputs": [
    {
     "data": {
      "text/plain": [
       "True"
      ]
     },
     "execution_count": 39,
     "metadata": {},
     "output_type": "execute_result"
    }
   ],
   "source": [
    "8>= 7"
   ]
  },
  {
   "cell_type": "code",
   "execution_count": 40,
   "id": "189217d1",
   "metadata": {},
   "outputs": [
    {
     "data": {
      "text/plain": [
       "True"
      ]
     },
     "execution_count": 40,
     "metadata": {},
     "output_type": "execute_result"
    }
   ],
   "source": [
    "5 <= 10"
   ]
  },
  {
   "cell_type": "markdown",
   "id": "bae06d39",
   "metadata": {},
   "source": [
    "# Identity Operator\n"
   ]
  },
  {
   "cell_type": "code",
   "execution_count": 42,
   "id": "fb1f49eb",
   "metadata": {},
   "outputs": [
    {
     "name": "stderr",
     "output_type": "stream",
     "text": [
      "<>:1: SyntaxWarning: \"is\" with a literal. Did you mean \"==\"?\n",
      "<>:1: SyntaxWarning: \"is\" with a literal. Did you mean \"==\"?\n",
      "C:\\Users\\vigne\\AppData\\Local\\Temp\\ipykernel_18588\\2315715683.py:1: SyntaxWarning: \"is\" with a literal. Did you mean \"==\"?\n",
      "  3 is 5\n"
     ]
    },
    {
     "data": {
      "text/plain": [
       "False"
      ]
     },
     "execution_count": 42,
     "metadata": {},
     "output_type": "execute_result"
    }
   ],
   "source": [
    "3 is 5"
   ]
  },
  {
   "cell_type": "code",
   "execution_count": 43,
   "id": "e832b707",
   "metadata": {},
   "outputs": [
    {
     "name": "stderr",
     "output_type": "stream",
     "text": [
      "<>:1: SyntaxWarning: \"is not\" with a literal. Did you mean \"!=\"?\n",
      "<>:1: SyntaxWarning: \"is not\" with a literal. Did you mean \"!=\"?\n",
      "C:\\Users\\vigne\\AppData\\Local\\Temp\\ipykernel_18588\\1267465606.py:1: SyntaxWarning: \"is not\" with a literal. Did you mean \"!=\"?\n",
      "  3 is not 5\n"
     ]
    },
    {
     "data": {
      "text/plain": [
       "True"
      ]
     },
     "execution_count": 43,
     "metadata": {},
     "output_type": "execute_result"
    }
   ],
   "source": [
    "3 is not 5"
   ]
  },
  {
   "cell_type": "markdown",
   "id": "b811f970",
   "metadata": {},
   "source": [
    "# Membership Operators"
   ]
  },
  {
   "cell_type": "code",
   "execution_count": 55,
   "id": "29706cee",
   "metadata": {},
   "outputs": [
    {
     "name": "stdout",
     "output_type": "stream",
     "text": [
      "True\n",
      "False\n",
      "True\n"
     ]
    }
   ],
   "source": [
    "#membership operators in not in\n",
    "data = [1,2,3,45]\n",
    "print(45 in data)# used to find if it is present in a variable or not\n",
    "print(4 in data)\n",
    "print(4 not in data)\n"
   ]
  },
  {
   "cell_type": "markdown",
   "id": "42bb6ddd",
   "metadata": {},
   "source": [
    "# Comparitive Excercise"
   ]
  },
  {
   "cell_type": "code",
   "execution_count": 52,
   "id": "b52084df",
   "metadata": {},
   "outputs": [
    {
     "name": "stdout",
     "output_type": "stream",
     "text": [
      "False\n",
      "True\n",
      "True\n",
      "False\n",
      "True\n",
      "False\n"
     ]
    }
   ],
   "source": [
    "a = 9\n",
    "b = 7\n",
    "\n",
    "print(a==b)\n",
    "print(a!=b)\n",
    "print(a>b)\n",
    "print(a<b)\n",
    "print(a>=b)\n",
    "print(a<=b)"
   ]
  },
  {
   "cell_type": "code",
   "execution_count": 16,
   "id": "ad9af13c",
   "metadata": {},
   "outputs": [
    {
     "data": {
      "text/plain": [
       "'0b10'"
      ]
     },
     "execution_count": 16,
     "metadata": {},
     "output_type": "execute_result"
    }
   ],
   "source": [
    "a= 2\n",
    "bin(a)"
   ]
  },
  {
   "cell_type": "code",
   "execution_count": 18,
   "id": "2885d6ea",
   "metadata": {},
   "outputs": [
    {
     "data": {
      "text/plain": [
       "'0b1100100'"
      ]
     },
     "execution_count": 18,
     "metadata": {},
     "output_type": "execute_result"
    }
   ],
   "source": [
    "bin(100)"
   ]
  },
  {
   "cell_type": "code",
   "execution_count": 2,
   "id": "2aedd31c",
   "metadata": {},
   "outputs": [
    {
     "data": {
      "text/plain": [
       "'C:\\\\Users\\\\vigne'"
      ]
     },
     "execution_count": 2,
     "metadata": {},
     "output_type": "execute_result"
    }
   ],
   "source": [
    "pwd\n"
   ]
  },
  {
   "cell_type": "code",
   "execution_count": 3,
   "id": "becc97f4",
   "metadata": {},
   "outputs": [
    {
     "name": "stdout",
     "output_type": "stream",
     "text": [
      "C:\\Users\\vigne\\Downloads\n"
     ]
    }
   ],
   "source": [
    "cd Downloads/\n"
   ]
  },
  {
   "cell_type": "code",
   "execution_count": 4,
   "id": "b0bb4452",
   "metadata": {},
   "outputs": [
    {
     "name": "stdout",
     "output_type": "stream",
     "text": [
      "hi my name is vignesh my age is 23 my skills are python,ML\n",
      "Atluri Vignesh\n",
      "<class 'float'>\n",
      "<class 'str'>\n",
      "<class 'int'>\n",
      "<class 'bool'>\n"
     ]
    }
   ],
   "source": [
    "!python untitled0.py"
   ]
  },
  {
   "cell_type": "markdown",
   "id": "893cf45c",
   "metadata": {},
   "source": [
    "# Bitwise operators\n",
    "\n"
   ]
  },
  {
   "cell_type": "code",
   "execution_count": 4,
   "id": "916e6f6c",
   "metadata": {},
   "outputs": [],
   "source": [
    "# biwise perators are faster than normal operators\n",
    "#bitwise operators = operations bettween the bits\n",
    "#bits  = binary digits = 0,1\n",
    "# byte = a group of 8 bits\n",
    "#kilo byte = 1024 bits , because computer calculates in 2's power 2**10 = 1024 bits\n",
    "\n",
    "#the bitwise operators are :-\n",
    "# 1) bitwise AND\n",
    "# 2) bitwise OR\n",
    "# 3) bitwise NOT\n",
    "# 4) bitwise XOR\n",
    "\n",
    "\n"
   ]
  },
  {
   "cell_type": "code",
   "execution_count": 8,
   "id": "f24dfd03",
   "metadata": {},
   "outputs": [
    {
     "data": {
      "text/plain": [
       "False"
      ]
     },
     "execution_count": 8,
     "metadata": {},
     "output_type": "execute_result"
    }
   ],
   "source": [
    "# Bitwise AND \n",
    "v1= True\n",
    "v2 = False\n",
    "v1 & v2\n",
    "\n",
    "\n",
    "# if both the inputs are true then true else false\n"
   ]
  },
  {
   "cell_type": "code",
   "execution_count": 7,
   "id": "7b291941",
   "metadata": {},
   "outputs": [
    {
     "name": "stdout",
     "output_type": "stream",
     "text": [
      "True\n",
      "False\n"
     ]
    }
   ],
   "source": [
    "# Bitwise OR |\n",
    "print(v1 | v2)\n",
    "print(v2 | v2)\n",
    "\n",
    "# if any one of the input is true then it is true else false"
   ]
  },
  {
   "cell_type": "code",
   "execution_count": 9,
   "id": "ddfcbcb1",
   "metadata": {},
   "outputs": [
    {
     "data": {
      "text/plain": [
       "'0b1110'"
      ]
     },
     "execution_count": 9,
     "metadata": {},
     "output_type": "execute_result"
    }
   ],
   "source": [
    "# Bitwise NOT ~\n",
    "bin(14)\n"
   ]
  },
  {
   "cell_type": "code",
   "execution_count": 11,
   "id": "d3d93536",
   "metadata": {},
   "outputs": [
    {
     "data": {
      "text/plain": [
       "2"
      ]
     },
     "execution_count": 11,
     "metadata": {},
     "output_type": "execute_result"
    }
   ],
   "source": [
    "2 & 6"
   ]
  },
  {
   "cell_type": "code",
   "execution_count": 12,
   "id": "b672ba03",
   "metadata": {},
   "outputs": [
    {
     "data": {
      "text/plain": [
       "2"
      ]
     },
     "execution_count": 12,
     "metadata": {},
     "output_type": "execute_result"
    }
   ],
   "source": [
    "6 & 2"
   ]
  },
  {
   "cell_type": "code",
   "execution_count": 13,
   "id": "aefc84a4",
   "metadata": {},
   "outputs": [
    {
     "data": {
      "text/plain": [
       "'0b11110'"
      ]
     },
     "execution_count": 13,
     "metadata": {},
     "output_type": "execute_result"
    }
   ],
   "source": [
    "bin(30)"
   ]
  },
  {
   "cell_type": "code",
   "execution_count": 14,
   "id": "c34928ce",
   "metadata": {},
   "outputs": [
    {
     "data": {
      "text/plain": [
       "'0b101101'"
      ]
     },
     "execution_count": 14,
     "metadata": {},
     "output_type": "execute_result"
    }
   ],
   "source": [
    "bin (45)"
   ]
  },
  {
   "cell_type": "code",
   "execution_count": 15,
   "id": "3255f066",
   "metadata": {},
   "outputs": [
    {
     "data": {
      "text/plain": [
       "32"
      ]
     },
     "execution_count": 15,
     "metadata": {},
     "output_type": "execute_result"
    }
   ],
   "source": [
    "2**5"
   ]
  },
  {
   "cell_type": "code",
   "execution_count": 16,
   "id": "811db47d",
   "metadata": {},
   "outputs": [
    {
     "data": {
      "text/plain": [
       "16"
      ]
     },
     "execution_count": 16,
     "metadata": {},
     "output_type": "execute_result"
    }
   ],
   "source": [
    "2**4"
   ]
  },
  {
   "cell_type": "code",
   "execution_count": 17,
   "id": "1a14f759",
   "metadata": {},
   "outputs": [
    {
     "data": {
      "text/plain": [
       "12"
      ]
     },
     "execution_count": 17,
     "metadata": {},
     "output_type": "execute_result"
    }
   ],
   "source": [
    "30 & 45"
   ]
  },
  {
   "cell_type": "code",
   "execution_count": 18,
   "id": "59d887f4",
   "metadata": {},
   "outputs": [
    {
     "data": {
      "text/plain": [
       "63"
      ]
     },
     "execution_count": 18,
     "metadata": {},
     "output_type": "execute_result"
    }
   ],
   "source": [
    "30 | 45"
   ]
  },
  {
   "cell_type": "code",
   "execution_count": 22,
   "id": "5f225729",
   "metadata": {},
   "outputs": [
    {
     "name": "stdout",
     "output_type": "stream",
     "text": [
      "True\n",
      "True\n",
      "False\n",
      "False\n"
     ]
    }
   ],
   "source": [
    "# XOR ^ , used in deep learning\n",
    "# t,f\n",
    "print(v1^v2)\n",
    "#f,t\n",
    "print(v2^v1)\n",
    "#t,t\n",
    "print(v1^v1)\n",
    "#f,f\n",
    "print(v2^v2)\n"
   ]
  },
  {
   "cell_type": "code",
   "execution_count": 23,
   "id": "bfa17961",
   "metadata": {},
   "outputs": [
    {
     "data": {
      "text/plain": [
       "51"
      ]
     },
     "execution_count": 23,
     "metadata": {},
     "output_type": "execute_result"
    }
   ],
   "source": [
    "30 ^ 45"
   ]
  },
  {
   "cell_type": "code",
   "execution_count": 9,
   "id": "50e029df",
   "metadata": {},
   "outputs": [],
   "source": [
    "# bitwise not \n",
    "# not has the below\n",
    "#simpe formula = -(x+1) (in c book)\n",
    "#complex formula (c book)"
   ]
  },
  {
   "cell_type": "code",
   "execution_count": 24,
   "id": "95ea8981",
   "metadata": {},
   "outputs": [
    {
     "name": "stdout",
     "output_type": "stream",
     "text": [
      "25\n",
      "100\n"
     ]
    }
   ],
   "source": [
    "#left shift(<<) and right shift(>>) (in c book)\n",
    "print(50 >> 1)\n",
    "print(50 << 1)"
   ]
  },
  {
   "cell_type": "code",
   "execution_count": 23,
   "id": "5c119c0a",
   "metadata": {},
   "outputs": [
    {
     "data": {
      "text/plain": [
       "10"
      ]
     },
     "execution_count": 23,
     "metadata": {},
     "output_type": "execute_result"
    }
   ],
   "source": [
    "20 >> 1"
   ]
  },
  {
   "cell_type": "markdown",
   "id": "e1eacb0b",
   "metadata": {},
   "source": [
    "# Logical Operators\n"
   ]
  },
  {
   "cell_type": "code",
   "execution_count": 38,
   "id": "81d8a70f",
   "metadata": {},
   "outputs": [
    {
     "data": {
      "text/plain": [
       "False"
      ]
     },
     "execution_count": 38,
     "metadata": {},
     "output_type": "execute_result"
    }
   ],
   "source": [
    "# and\n",
    "# or\n",
    "#  not reverses the values if true then false and viceversa\n",
    "2 < 5 and 2>10"
   ]
  },
  {
   "cell_type": "code",
   "execution_count": 31,
   "id": "8ff53b05",
   "metadata": {},
   "outputs": [
    {
     "data": {
      "text/plain": [
       "True"
      ]
     },
     "execution_count": 31,
     "metadata": {},
     "output_type": "execute_result"
    }
   ],
   "source": [
    "2 < 5 or 2 > 10"
   ]
  },
  {
   "cell_type": "code",
   "execution_count": 29,
   "id": "0fcb5fa1",
   "metadata": {},
   "outputs": [
    {
     "data": {
      "text/plain": [
       "True"
      ]
     },
     "execution_count": 29,
     "metadata": {},
     "output_type": "execute_result"
    }
   ],
   "source": [
    "not(2<5 and 2 > 10)"
   ]
  },
  {
   "cell_type": "code",
   "execution_count": 37,
   "id": "cfeb43cf",
   "metadata": {},
   "outputs": [
    {
     "name": "stdout",
     "output_type": "stream",
     "text": [
      "True\n",
      "True\n",
      "False\n",
      "False\n"
     ]
    }
   ],
   "source": [
    "a = 2 < 77\n",
    "b = 3 > 1\n",
    "print(a and b)\n",
    "print(a or b)\n",
    "print(not(a and b))\n",
    "print(not(a or b))"
   ]
  },
  {
   "cell_type": "code",
   "execution_count": null,
   "id": "9f436190",
   "metadata": {},
   "outputs": [],
   "source": []
  },
  {
   "cell_type": "code",
   "execution_count": null,
   "id": "cdb4d073",
   "metadata": {},
   "outputs": [],
   "source": []
  }
 ],
 "metadata": {
  "kernelspec": {
   "display_name": "Python 3 (ipykernel)",
   "language": "python",
   "name": "python3"
  },
  "language_info": {
   "codemirror_mode": {
    "name": "ipython",
    "version": 3
   },
   "file_extension": ".py",
   "mimetype": "text/x-python",
   "name": "python",
   "nbconvert_exporter": "python",
   "pygments_lexer": "ipython3",
   "version": "3.11.5"
  }
 },
 "nbformat": 4,
 "nbformat_minor": 5
}
