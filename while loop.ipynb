{
 "cells": [
  {
   "cell_type": "markdown",
   "id": "1e76258a",
   "metadata": {},
   "source": [
    "# while loop\n",
    "- it runs untill the given condition is true\n",
    "- is used when you dont know the number of outcomes(outputs)\n",
    "- we will be specifying an condition"
   ]
  },
  {
   "cell_type": "code",
   "execution_count": 7,
   "id": "5a468169",
   "metadata": {},
   "outputs": [
    {
     "name": "stdout",
     "output_type": "stream",
     "text": [
      "1\n",
      "2\n",
      "3\n"
     ]
    }
   ],
   "source": [
    "# With the break statement we can stop the loop even if the while condition is true\n",
    "i = 1\n",
    "while i < 6:\n",
    "  print(i)\n",
    "  if i == 3:\n",
    "    break\n",
    "  i += 1"
   ]
  },
  {
   "cell_type": "code",
   "execution_count": 9,
   "id": "9106e032",
   "metadata": {},
   "outputs": [
    {
     "name": "stdout",
     "output_type": "stream",
     "text": [
      "1\n",
      "2\n",
      "4\n",
      "5\n",
      "6\n"
     ]
    }
   ],
   "source": [
    "i = 0\n",
    "while i < 6:\n",
    "  i += 1\n",
    "  if i == 3:\n",
    "    continue\n",
    "  print(i)"
   ]
  },
  {
   "cell_type": "code",
   "execution_count": 3,
   "id": "a37ddcf0",
   "metadata": {},
   "outputs": [
    {
     "name": "stdout",
     "output_type": "stream",
     "text": [
      "3\n",
      "4\n"
     ]
    }
   ],
   "source": [
    "v1 = 3\n",
    "while v1<5:\n",
    "    print(v1)\n",
    "    v1 = v1+1"
   ]
  },
  {
   "cell_type": "code",
   "execution_count": 8,
   "id": "b79421d4",
   "metadata": {},
   "outputs": [
    {
     "name": "stdout",
     "output_type": "stream",
     "text": [
      "20\n",
      "22\n",
      "24\n",
      "26\n",
      "28\n",
      "30\n",
      "32\n",
      "34\n",
      "36\n",
      "38\n"
     ]
    }
   ],
   "source": [
    "v2 = 20\n",
    "while v2<40:\n",
    "    print(v2)\n",
    "    v2 = v2+2"
   ]
  },
  {
   "cell_type": "code",
   "execution_count": 9,
   "id": "cca4bff3",
   "metadata": {},
   "outputs": [
    {
     "name": "stdout",
     "output_type": "stream",
     "text": [
      "20\n",
      "40\n",
      "80\n"
     ]
    }
   ],
   "source": [
    "v2 = 20\n",
    "while v2<100:\n",
    "    print(v2)\n",
    "    v2 = v2*2"
   ]
  },
  {
   "cell_type": "code",
   "execution_count": 3,
   "id": "a6de26f6",
   "metadata": {},
   "outputs": [
    {
     "name": "stdout",
     "output_type": "stream",
     "text": [
      "greater is x\n"
     ]
    }
   ],
   "source": [
    "x = 20\n",
    "y = 10\n",
    "\n",
    "while (x>y):\n",
    "    print(\"greater is x\")\n",
    "    break # used tp avoid infinite loop\n",
    "    print(\"hello\") #it will not execute because we hav used a break statement above"
   ]
  },
  {
   "cell_type": "code",
   "execution_count": 7,
   "id": "61443d5b",
   "metadata": {},
   "outputs": [
    {
     "name": "stdout",
     "output_type": "stream",
     "text": [
      "0\n",
      "2\n",
      "4\n",
      "6\n",
      "8\n",
      "10\n",
      "12\n",
      "14\n",
      "16\n",
      "18\n"
     ]
    }
   ],
   "source": [
    "#even numbers less then 20\n",
    "x = 0\n",
    "while x< 20:\n",
    "    if x%2 ==0:\n",
    "        print(x)\n",
    "    x += 1 #here we gave x increment to while not if"
   ]
  },
  {
   "cell_type": "code",
   "execution_count": 14,
   "id": "56ec0dbd",
   "metadata": {},
   "outputs": [
    {
     "name": "stdout",
     "output_type": "stream",
     "text": [
      "2\n",
      "3\n",
      "4\n",
      "5\n",
      "6\n",
      "7\n",
      "8\n",
      "9\n",
      "10\n",
      "11\n",
      "12\n",
      "13\n",
      "14\n",
      "15\n",
      "16\n",
      "17\n",
      "18\n",
      "19\n"
     ]
    }
   ],
   "source": [
    "b = 2\n",
    "while b < 20:\n",
    "    print(b)\n",
    "    b += 1"
   ]
  },
  {
   "cell_type": "code",
   "execution_count": null,
   "id": "78986292",
   "metadata": {},
   "outputs": [],
   "source": []
  }
 ],
 "metadata": {
  "kernelspec": {
   "display_name": "Python 3 (ipykernel)",
   "language": "python",
   "name": "python3"
  },
  "language_info": {
   "codemirror_mode": {
    "name": "ipython",
    "version": 3
   },
   "file_extension": ".py",
   "mimetype": "text/x-python",
   "name": "python",
   "nbconvert_exporter": "python",
   "pygments_lexer": "ipython3",
   "version": "3.11.5"
  }
 },
 "nbformat": 4,
 "nbformat_minor": 5
}
