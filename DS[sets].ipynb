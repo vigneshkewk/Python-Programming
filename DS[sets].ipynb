{
 "cells": [
  {
   "cell_type": "code",
   "execution_count": 46,
   "id": "1c40cbe1",
   "metadata": {},
   "outputs": [],
   "source": [
    "# set do not allow duplicates\n",
    "#A set is a collection which is unordered, elements with the set are immutable,,changeable*, and unindexed.(* Note: Set items are unchangeable, but you can remove items and add new items.)\n",
    "# set cant be accessed by indexing because it is unordered , it is accessed by for loop\n",
    "# set is created by {} or set() built in function\n",
    "# it also allows multiple data types like list and tuple"
   ]
  },
  {
   "cell_type": "code",
   "execution_count": 28,
   "id": "66295106",
   "metadata": {},
   "outputs": [],
   "source": [
    "# add() - to add an element to a set\n",
    "# clear() - clears the element\n",
    "# copy() - copies the set into another set\n",
    "# difference() - removes the common elements in the set\n",
    "# difference_update() - removes the common elements in the sets and updates it with new elements\n",
    "# discard() - used to discard an specific element from the set\n",
    "# intersection() - Intersection of 2 sets\n",
    "# intersection_update() - returns the common element between two or more sets\n",
    "# isdisjoint() -  returns true if both sets have no common elements and false if even one element is common between the sets\n",
    "# issubset() - returns true if it all the elements of one set are present in the other set\n",
    "# issuperset()- rturns true if it is a superset else false\n",
    "# pop() - removes an random element from the set\n",
    "# remove() - removes an specified element from the set\n",
    "# symmetric_difference() -  this return all the elements that are uncommon in the both sets as an single set\n",
    "# symmetric_difference_update()- this method updates the original set by removing items that are present in both sets, and inserting the other items\n",
    "# union() - returns the union of two sets\n",
    "# update() - used to add element to a set"
   ]
  },
  {
   "cell_type": "code",
   "execution_count": 29,
   "id": "d91e5c02",
   "metadata": {},
   "outputs": [
    {
     "name": "stdout",
     "output_type": "stream",
     "text": [
      "1\n",
      "2\n",
      "3\n",
      "4\n",
      "hello\n"
     ]
    }
   ],
   "source": [
    "a= {1,2,3,4,\"hello\",True}\n",
    "# we aceesed a by for loop cant be accesed by index we get error\n",
    "for i in a:\n",
    "    print(i)\n"
   ]
  },
  {
   "cell_type": "code",
   "execution_count": 30,
   "id": "f8781221",
   "metadata": {},
   "outputs": [
    {
     "name": "stdout",
     "output_type": "stream",
     "text": [
      "{1, 2, 3, 4, 'hello'}\n"
     ]
    }
   ],
   "source": [
    "# checkin if set allows for duplicates\n",
    "b = {1,1,2,3,3,4,4,4,\"hello\",\"hello\"}\n",
    "print(b) #here it discards all the duplicates in output"
   ]
  },
  {
   "cell_type": "code",
   "execution_count": 31,
   "id": "75194502",
   "metadata": {},
   "outputs": [
    {
     "name": "stdout",
     "output_type": "stream",
     "text": [
      "{1, 2, 3, 4, 'hello', 'python'} after adding python to the set\n"
     ]
    }
   ],
   "source": [
    "#Adding an element\n",
    "b.add(\"python\")# since it is unordered the element can be added anywhere but mostly in last postion\n",
    "print(b,\"after adding python to the set\")"
   ]
  },
  {
   "cell_type": "code",
   "execution_count": 32,
   "id": "3a7ea38d",
   "metadata": {},
   "outputs": [
    {
     "name": "stdout",
     "output_type": "stream",
     "text": [
      "None after emptying the set\n",
      "set() after emptying the set\n"
     ]
    }
   ],
   "source": [
    "# clear()- clears the set\n",
    "t = a.clear()\n",
    "print(t,\"after emptying the set\")\n",
    "print(a,\"after emptying the set\")"
   ]
  },
  {
   "cell_type": "code",
   "execution_count": 33,
   "id": "8c0a747e",
   "metadata": {},
   "outputs": [
    {
     "name": "stdout",
     "output_type": "stream",
     "text": [
      "{1, 2, 3, 4, 'hello', 'python'} this contan the elements of a\n",
      "<class 'set'>\n"
     ]
    }
   ],
   "source": [
    "#copy()- copies all elements of a set from one to another\n",
    "c=b.copy() # here i have assigned the copy values of b to variable c\n",
    "print(c,\"this contan the elements of a\")\n",
    "print(type(c))"
   ]
  },
  {
   "cell_type": "code",
   "execution_count": 34,
   "id": "c7f78359",
   "metadata": {},
   "outputs": [
    {
     "name": "stdout",
     "output_type": "stream",
     "text": [
      "{1, 4}\n",
      "{5, 6}\n"
     ]
    }
   ],
   "source": [
    "#difference : difference of sets\n",
    "A = {1,2,3,4}\n",
    "B = {2,3,5,6}\n",
    "#A-B\n",
    "print(A.difference(B))\n",
    "#B-A\n",
    "print(B.difference(A))"
   ]
  },
  {
   "cell_type": "code",
   "execution_count": 35,
   "id": "a21991de",
   "metadata": {},
   "outputs": [
    {
     "name": "stdout",
     "output_type": "stream",
     "text": [
      "{2, 3} this is the intersection\n"
     ]
    }
   ],
   "source": [
    "# A∩B intersection()-\n",
    "print(A.intersection(B),\"this is the intersection\")"
   ]
  },
  {
   "cell_type": "code",
   "execution_count": 36,
   "id": "395c2e04",
   "metadata": {},
   "outputs": [
    {
     "name": "stdout",
     "output_type": "stream",
     "text": [
      "{3, 6}\n"
     ]
    }
   ],
   "source": [
    "# intersection_update() - returns the common element between two or more sets\n",
    "d = {1,2,3,4,6}\n",
    "e = {2,3,5,6}\n",
    "f = {7,3,8,9,6}\n",
    "d.intersection_update(e,f)\n",
    "print(d)\n"
   ]
  },
  {
   "cell_type": "code",
   "execution_count": 37,
   "id": "ddacf29d",
   "metadata": {},
   "outputs": [
    {
     "name": "stdout",
     "output_type": "stream",
     "text": [
      "{2, 3, 5, 6, 'hello'} This set is after adding new element\n",
      "{1, 2, 3, 4, 'y', 'p', 'i', 'h', 't', 'm', 'o', 'n'} this set is after adding new element\n"
     ]
    }
   ],
   "source": [
    "#update we should update as a list or tuple when we are adding only one element\n",
    "B.update([\"hello\"])\n",
    "print(B,\"This set is after adding new element\")\n",
    "A.update(\"im\",\"python\")\n",
    "print(A,\"this set is after adding new element\")"
   ]
  },
  {
   "cell_type": "code",
   "execution_count": 38,
   "id": "2abb7bb9",
   "metadata": {},
   "outputs": [
    {
     "name": "stdout",
     "output_type": "stream",
     "text": [
      "{1, 3, 'hello'}\n"
     ]
    }
   ],
   "source": [
    "#differnce_update - it removes the common elements from the set\n",
    "set1 = {1,2,3,4,\"hello\"}\n",
    "set2 = {2,4,6,5,\"world\"}\n",
    "set1.difference_update(set2)\n",
    "print(set1)"
   ]
  },
  {
   "cell_type": "code",
   "execution_count": 39,
   "id": "44d6f73d",
   "metadata": {},
   "outputs": [
    {
     "name": "stdout",
     "output_type": "stream",
     "text": [
      "{1, 3} this the set after discarding the hello element from the set\n"
     ]
    }
   ],
   "source": [
    "# discard() - used to discard an element from the set\n",
    "set1.discard(\"hello\")\n",
    "print(set1,\"this the set after discarding the hello element from the set\")"
   ]
  },
  {
   "cell_type": "code",
   "execution_count": 40,
   "id": "2d3e7288",
   "metadata": {},
   "outputs": [
    {
     "name": "stdout",
     "output_type": "stream",
     "text": [
      "False\n",
      "True\n"
     ]
    }
   ],
   "source": [
    "# isdisjoint() - returns true if both sets have no common elements and false if even one element is common between the sets\n",
    "d = {1,2,3,4,6}\n",
    "e = {2,3,5,6}\n",
    "f = {7,3,8,9,6}\n",
    "random  = {\"microsoft\",\"apple\"}\n",
    "print(d.isdisjoint(e))\n",
    "print(random.isdisjoint(f))"
   ]
  },
  {
   "cell_type": "code",
   "execution_count": 41,
   "id": "4c8b3456",
   "metadata": {},
   "outputs": [
    {
     "name": "stdout",
     "output_type": "stream",
     "text": [
      "{'apple', 'banana'}\n"
     ]
    }
   ],
   "source": [
    "# pop removes an random element from the set\n",
    "fruits = {\"apple\", \"banana\", \"cherry\"}\n",
    "\n",
    "fruits.pop() \n",
    "\n",
    "print(fruits)\n"
   ]
  },
  {
   "cell_type": "code",
   "execution_count": 42,
   "id": "58dff2be",
   "metadata": {},
   "outputs": [
    {
     "name": "stdout",
     "output_type": "stream",
     "text": [
      "{'onion', 'brinjal'} this is the set after removing potato from veggies set\n"
     ]
    }
   ],
   "source": [
    "# remove() removes an specified element from the set\n",
    "veggies = {\"onion\",\"brinjal\",\"potato\"}\n",
    "veggies.remove(\"potato\")\n",
    "print(veggies,\"this is the set after removing potato from veggies set\")"
   ]
  },
  {
   "cell_type": "code",
   "execution_count": 43,
   "id": "82a9c57b",
   "metadata": {},
   "outputs": [
    {
     "data": {
      "text/plain": [
       "{1, 66, 'hello', 'hi', 'i', 'python'}"
      ]
     },
     "execution_count": 43,
     "metadata": {},
     "output_type": "execute_result"
    }
   ],
   "source": [
    "# symmetric_difference() - this return all the elements that are uncommon in the both sets as an single set\n",
    "z1 = {\"hello\",1,\"i\",3,4,\"python\"}\n",
    "z2 = {\"hi\",66,3,4}\n",
    "z1.symmetric_difference(z2)\n"
   ]
  },
  {
   "cell_type": "code",
   "execution_count": 44,
   "id": "3f0594f4",
   "metadata": {},
   "outputs": [
    {
     "name": "stdout",
     "output_type": "stream",
     "text": [
      "{'python', 1, 3, 4, 'brinjal', 'hello', 'onion', 'i'}\n"
     ]
    }
   ],
   "source": [
    "# symmetric_difference_update()- this method updates the original set by removing items that are present in both sets, and inserting the other items\n",
    "z1.symmetric_difference_update(veggies)\n",
    "print(z1)"
   ]
  },
  {
   "cell_type": "code",
   "execution_count": 47,
   "id": "6659701e",
   "metadata": {},
   "outputs": [],
   "source": [
    "# issubset() - returns true if it all the elements of one set are present in the other set\n"
   ]
  },
  {
   "cell_type": "code",
   "execution_count": 48,
   "id": "125ca87f",
   "metadata": {},
   "outputs": [
    {
     "data": {
      "text/plain": [
       "False"
      ]
     },
     "execution_count": 48,
     "metadata": {},
     "output_type": "execute_result"
    }
   ],
   "source": [
    "# isdisjoint() -  returns true if both sets have no common elements and false if even one element is common between the sets\n",
    "t1= {1,2,3,4}\n",
    "t2 = {7,8,9,7,1,2,3,4}\n",
    "t1.isdisjoint(t2)"
   ]
  },
  {
   "cell_type": "code",
   "execution_count": 49,
   "id": "b65d56f6",
   "metadata": {},
   "outputs": [
    {
     "data": {
      "text/plain": [
       "True"
      ]
     },
     "execution_count": 49,
     "metadata": {},
     "output_type": "execute_result"
    }
   ],
   "source": [
    "# subset()\n",
    "t1.issubset(t2)"
   ]
  },
  {
   "cell_type": "code",
   "execution_count": 51,
   "id": "e3261f0f",
   "metadata": {},
   "outputs": [
    {
     "data": {
      "text/plain": [
       "True"
      ]
     },
     "execution_count": 51,
     "metadata": {},
     "output_type": "execute_result"
    }
   ],
   "source": [
    "t2.issuperset(t1)"
   ]
  },
  {
   "cell_type": "code",
   "execution_count": 55,
   "id": "2f0fd4dc",
   "metadata": {},
   "outputs": [
    {
     "name": "stdout",
     "output_type": "stream",
     "text": [
      "True\n"
     ]
    }
   ],
   "source": [
    "# superset - if all the y set items are present in the x then prints true else false\n",
    "x = {\"f\", \"e\", \"d\", \"c\", \"b\", \"a\"}\n",
    "y = {\"a\", \"b\", \"c\"}\n",
    "\n",
    "z = x.issuperset(y)\n",
    "\n",
    "print(z)"
   ]
  },
  {
   "cell_type": "code",
   "execution_count": null,
   "id": "a9e1fd43",
   "metadata": {},
   "outputs": [],
   "source": []
  }
 ],
 "metadata": {
  "kernelspec": {
   "display_name": "Python 3 (ipykernel)",
   "language": "python",
   "name": "python3"
  },
  "language_info": {
   "codemirror_mode": {
    "name": "ipython",
    "version": 3
   },
   "file_extension": ".py",
   "mimetype": "text/x-python",
   "name": "python",
   "nbconvert_exporter": "python",
   "pygments_lexer": "ipython3",
   "version": "3.11.5"
  }
 },
 "nbformat": 4,
 "nbformat_minor": 5
}
