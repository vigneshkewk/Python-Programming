{
 "cells": [
  {
   "cell_type": "code",
   "execution_count": 2,
   "id": "3f46c091",
   "metadata": {},
   "outputs": [],
   "source": [
    "# creating an empty class\n",
    "class Dog:\n",
    "    pass"
   ]
  },
  {
   "cell_type": "code",
   "execution_count": 3,
   "id": "87a28d05",
   "metadata": {},
   "outputs": [],
   "source": [
    "obj = Dog()"
   ]
  },
  {
   "cell_type": "code",
   "execution_count": 5,
   "id": "8c441766",
   "metadata": {},
   "outputs": [
    {
     "name": "stdout",
     "output_type": "stream",
     "text": [
      "chimtu is a mammal\n",
      "cheems is a mammal\n",
      "My name is chimtu\n",
      "My name is cheems\n"
     ]
    }
   ],
   "source": [
    "# Creating a class and object with class and instance attributes\n",
    "class Dog:\n",
    "    # class attribute\n",
    "    attribute1 = \"mammal\"\n",
    "    \n",
    "    #instance attribute\n",
    "    def __init__(self,name):\n",
    "        self.name = name\n",
    "        \n",
    "#Object initiation\n",
    "chimtu  = Dog(\"chimtu\")\n",
    "cheems =  Dog(\"cheems\")\n",
    "              \n",
    "# Accessing the class attributes\n",
    "print(\"chimtu is a {}\".format(chimtu.__class__.attribute1))\n",
    "print(\"cheems is a {}\".format(cheems.__class__.attribute1))\n",
    "\n",
    "# Accessing the instance attributes\n",
    "print(\"My name is {}\".format(chimtu.name))\n",
    "print(\"My name is {}\".format(cheems.name))"
   ]
  },
  {
   "cell_type": "code",
   "execution_count": 6,
   "id": "e1ca57ef",
   "metadata": {},
   "outputs": [
    {
     "name": "stdout",
     "output_type": "stream",
     "text": [
      "My name is Rodger\n",
      "My name is Tommy\n"
     ]
    }
   ],
   "source": [
    "# Creating Classes and objects with methods\n",
    "class Dog: \n",
    "\n",
    "    # class attribute \n",
    "    attr1 = \"mammal\"\n",
    "\n",
    "    # Instance attribute \n",
    "    def __init__(self, name): \n",
    "        self.name = name \n",
    "\n",
    "    def speak(self): \n",
    "        print(\"My name is {}\".format(self.name)) \n",
    "\n",
    "# Driver code \n",
    "# Object instantiation \n",
    "Rodger = Dog(\"Rodger\") \n",
    "Tommy = Dog(\"Tommy\") \n",
    "\n",
    "# Accessing class methods \n",
    "Rodger.speak() \n",
    "Tommy.speak()\n"
   ]
  },
  {
   "cell_type": "code",
   "execution_count": null,
   "id": "3e423531",
   "metadata": {},
   "outputs": [],
   "source": []
  }
 ],
 "metadata": {
  "kernelspec": {
   "display_name": "Python 3 (ipykernel)",
   "language": "python",
   "name": "python3"
  },
  "language_info": {
   "codemirror_mode": {
    "name": "ipython",
    "version": 3
   },
   "file_extension": ".py",
   "mimetype": "text/x-python",
   "name": "python",
   "nbconvert_exporter": "python",
   "pygments_lexer": "ipython3",
   "version": "3.11.5"
  }
 },
 "nbformat": 4,
 "nbformat_minor": 5
}
